{
  "nbformat": 4,
  "nbformat_minor": 0,
  "metadata": {
    "colab": {
      "provenance": [],
      "include_colab_link": true
    },
    "kernelspec": {
      "name": "python3",
      "display_name": "Python 3"
    },
    "language_info": {
      "name": "python"
    }
  },
  "cells": [
    {
      "cell_type": "markdown",
      "metadata": {
        "id": "view-in-github",
        "colab_type": "text"
      },
      "source": [
        "<a href=\"https://colab.research.google.com/github/UniVR-DH/ADHLab/blob/main/lecture04-solutions.ipynb\" target=\"_parent\"><img src=\"https://colab.research.google.com/assets/colab-badge.svg\" alt=\"Open In Colab\"/></a>"
      ]
    },
    {
      "cell_type": "markdown",
      "source": [
        "# Testing Document Relevance with TF-IDF & BM25\n"
      ],
      "metadata": {
        "id": "4MNB7PsQ99Bx"
      }
    },
    {
      "cell_type": "markdown",
      "source": [
        "<img src=\"https://drive.google.com/uc?export=view&id=1m_EMdnI5C826kgqK7r5vB4TXnB0-Wq7W\" alt=\"Intestazione con loghi istituzionali\" width=\"525\"/>\n",
        "\n",
        "| Docente      | Insegnamento | Anno Accademico    |\n",
        "| :---        |    :----   |          ---: |\n",
        "| Matteo Lissandrini      | Laboratorio Avanzato di Informatica Umanistica       | 2023/2024   |"
      ],
      "metadata": {
        "id": "dChTXqspd6TT"
      }
    },
    {
      "cell_type": "markdown",
      "source": [
        "## Usual install and basic imports"
      ],
      "metadata": {
        "id": "GXBM6I9FeBmc"
      }
    },
    {
      "cell_type": "code",
      "source": [
        "%pip install wikipedia-api\n",
        "%pip install rank_bm25"
      ],
      "metadata": {
        "id": "pmOC8TtR5Wm5",
        "colab": {
          "base_uri": "https://localhost:8080/"
        },
        "outputId": "5f12e935-c7a9-4300-929b-7cf191d74e59"
      },
      "execution_count": 2,
      "outputs": [
        {
          "output_type": "stream",
          "name": "stdout",
          "text": [
            "Collecting wikipedia-api\n",
            "  Downloading Wikipedia_API-0.6.0-py3-none-any.whl (14 kB)\n",
            "Requirement already satisfied: requests in /usr/local/lib/python3.10/dist-packages (from wikipedia-api) (2.31.0)\n",
            "Requirement already satisfied: charset-normalizer<4,>=2 in /usr/local/lib/python3.10/dist-packages (from requests->wikipedia-api) (3.3.2)\n",
            "Requirement already satisfied: idna<4,>=2.5 in /usr/local/lib/python3.10/dist-packages (from requests->wikipedia-api) (3.4)\n",
            "Requirement already satisfied: urllib3<3,>=1.21.1 in /usr/local/lib/python3.10/dist-packages (from requests->wikipedia-api) (2.0.7)\n",
            "Requirement already satisfied: certifi>=2017.4.17 in /usr/local/lib/python3.10/dist-packages (from requests->wikipedia-api) (2023.7.22)\n",
            "Installing collected packages: wikipedia-api\n",
            "Successfully installed wikipedia-api-0.6.0\n",
            "Collecting rank_bm25\n",
            "  Downloading rank_bm25-0.2.2-py3-none-any.whl (8.6 kB)\n",
            "Requirement already satisfied: numpy in /usr/local/lib/python3.10/dist-packages (from rank_bm25) (1.23.5)\n",
            "Installing collected packages: rank_bm25\n",
            "Successfully installed rank_bm25-0.2.2\n"
          ]
        }
      ]
    },
    {
      "cell_type": "code",
      "source": [
        "import gzip\n",
        "import math\n",
        "import string\n",
        "import requests\n",
        "import numpy as np\n",
        "import regex as re\n",
        "import matplotlib.pyplot as plt\n",
        "from collections import Counter"
      ],
      "metadata": {
        "id": "miPm486TF629"
      },
      "execution_count": 3,
      "outputs": []
    },
    {
      "cell_type": "code",
      "source": [
        "punct_regex = re.compile('[{}]'.format(re.escape(string.punctuation))) # Regex matching any punctuation\n",
        "space_regex = re.compile(' +') # Regex matching whitespace"
      ],
      "metadata": {
        "id": "0drW0pfEuOFr"
      },
      "execution_count": 4,
      "outputs": []
    },
    {
      "cell_type": "markdown",
      "source": [
        "## Goal:  build a search engine on chapters of Alice in Wonderland and Aesop's Fables\n",
        "\n"
      ],
      "metadata": {
        "id": "zzYNeqRXeSQa"
      }
    },
    {
      "cell_type": "code",
      "source": [
        "inverted_index = {}\n",
        "    # In this index we use a key the keyword\n",
        "    # and as value a dictionary for  (document, page) to save word frequency\n",
        "\n",
        "\n",
        "page_statistics = {}\n",
        "    # in this dictionary we save data about each page, key is the (document, page)\n",
        "    # and data will be length as number of words\n",
        "\n"
      ],
      "metadata": {
        "id": "x_vRKF5WpniA"
      },
      "execution_count": 5,
      "outputs": []
    },
    {
      "cell_type": "code",
      "source": [
        "def get_pages(book_text):\n",
        "  \"\"\"\n",
        "  Function that given  the book text returns a list of pages\n",
        "  \"\"\"\n",
        "  _pages = book_text.split(\"\\n\\r\\n\\r\\n\\r\") # pages are divided by multiple newlines\n",
        "  _pages = [ space_regex.sub(' ', page).strip() for page in _pages ]\n",
        "  _pages = [ space_regex.sub(' ', \" \".join(page.splitlines())) for page in _pages ]\n",
        "  _pages = [ page.lower() for page in _pages if page != \"\" ]\n",
        "\n",
        "  return _pages\n",
        "\n",
        "\n",
        "def add_to_index(text_pages, inverted_index, page_statistics, book_name=\"\"):\n",
        "  \"\"\"\n",
        "  Indexing function\n",
        "  This function indexes only words!\n",
        "  \"\"\"\n",
        "  print('===')\n",
        "  print(\"Indexing {} pages\".format(len(text_pages)))\n",
        "\n",
        "  # index page by page\n",
        "  num_pages = len(text_pages)\n",
        "  distinct_words = set()\n",
        "  for page_number, page in enumerate(text_pages):\n",
        "    page_word_list = page.split(' ')\n",
        "\n",
        "    # we keep for each book and page the length in number of words\n",
        "    page_statistics[(book_name, page_number)]= len(page_word_list)\n",
        "\n",
        "    for position, word in enumerate(page_word_list):\n",
        "        index_entry = inverted_index.setdefault(word, {})\n",
        "        distinct_words.add(word)\n",
        "        word_frequency = index_entry.get((book_name, page_number), 0)\n",
        "        # we keep both the name of the book and the page of the book where the word appears\n",
        "        index_entry[(book_name, page_number)] = word_frequency + 1\n",
        "\n",
        "  print('Indexed {} words over {} pages'.format(len(distinct_words), num_pages))\n",
        "\n",
        "\n"
      ],
      "metadata": {
        "id": "oDvifMzNp-ve"
      },
      "execution_count": 6,
      "outputs": []
    },
    {
      "cell_type": "code",
      "source": [
        "# request the raw text of Alice in Wonderland\n",
        "r = requests.get(r'https://ia801604.us.archive.org/6/items/alicesadventures19033gut/19033.txt')\n",
        "alice = r.text\n",
        "\n",
        "alice_pages = get_pages(alice)\n",
        "\n",
        "\n",
        "add_to_index(alice_pages, inverted_index, page_statistics, \"Alice\")\n",
        "\n",
        "r = requests.get(r'https://ia600906.us.archive.org/29/items/aesopsfablesanew11339gut/11339.txt')\n",
        "fables = r.text\n",
        "\n",
        "fables_pages = get_pages(fables)\n",
        "add_to_index(fables_pages, inverted_index, page_statistics, \"Fables\")\n"
      ],
      "metadata": {
        "id": "AZXAKNfk8Y_w",
        "outputId": "2740d617-6069-4cd5-e6c2-6d39c2b39a27",
        "colab": {
          "base_uri": "https://localhost:8080/"
        }
      },
      "execution_count": 7,
      "outputs": [
        {
          "output_type": "stream",
          "name": "stdout",
          "text": [
            "===\n",
            "Indexing 19 pages\n",
            "Indexed 3176 words over 19 pages\n",
            "===\n",
            "Indexing 294 pages\n",
            "Indexed 7402 words over 294 pages\n"
          ]
        }
      ]
    },
    {
      "cell_type": "code",
      "source": [
        "print(inverted_index[\"alice\"])\n",
        "print(inverted_index[\"white\"])\n",
        "print(inverted_index[\"rose\"])\n",
        "print(inverted_index[\"fox\"])"
      ],
      "metadata": {
        "id": "OW8WNKmAUOKM",
        "colab": {
          "base_uri": "https://localhost:8080/"
        },
        "outputId": "5d7abae9-9e21-45a1-b31a-1a35569a470e"
      },
      "execution_count": 8,
      "outputs": [
        {
          "output_type": "stream",
          "name": "stdout",
          "text": [
            "{('Alice', 0): 3, ('Alice', 2): 1, ('Alice', 7): 14, ('Alice', 8): 8, ('Alice', 9): 10, ('Alice', 10): 12, ('Alice', 11): 11, ('Alice', 12): 10, ('Alice', 13): 8, ('Alice', 14): 17, ('Alice', 15): 3, ('Alice', 16): 4, ('Alice', 17): 2}\n",
            "{('Alice', 7): 2, ('Alice', 8): 4, ('Alice', 10): 3, ('Alice', 14): 3, ('Alice', 15): 6, ('Alice', 16): 3, ('Fables', 3): 2, ('Fables', 76): 2, ('Fables', 154): 1}\n",
            "{('Alice', 16): 1, ('Fables', 4): 1, ('Fables', 26): 1, ('Fables', 219): 1, ('Fables', 239): 3}\n",
            "{('Fables', 3): 4, ('Fables', 4): 25, ('Fables', 5): 7, ('Fables', 7): 2, ('Fables', 15): 3, ('Fables', 24): 4, ('Fables', 32): 5, ('Fables', 37): 3, ('Fables', 41): 3, ('Fables', 53): 6, ('Fables', 60): 2, ('Fables', 67): 1, ('Fables', 69): 1, ('Fables', 72): 2, ('Fables', 89): 2, ('Fables', 93): 2, ('Fables', 96): 2, ('Fables', 97): 1, ('Fables', 104): 1, ('Fables', 110): 2, ('Fables', 123): 1, ('Fables', 138): 1, ('Fables', 149): 1, ('Fables', 152): 2, ('Fables', 202): 1, ('Fables', 210): 2, ('Fables', 211): 2, ('Fables', 237): 2, ('Fables', 252): 2, ('Fables', 256): 6, ('Fables', 259): 4, ('Fables', 261): 3, ('Fables', 263): 3, ('Fables', 264): 2, ('Fables', 271): 2, ('Fables', 272): 2, ('Fables', 273): 6}\n"
          ]
        }
      ]
    },
    {
      "cell_type": "markdown",
      "source": [
        "**TF-IDF  Formula**\n",
        "![TF_IDF.png](data:image/png;base64,iVBORw0KGgoAAAANSUhEUgAAAV4AAABcCAYAAAAmlN2lAAAABGdBTUEAALGPC/xhBQAAACBjSFJNAAB6JgAAgIQAAPoAAACA6AAAdTAAAOpgAAA6mAAAF3CculE8AAAAhGVYSWZNTQAqAAAACAAFARIAAwAAAAEAAQAAARoABQAAAAEAAABKARsABQAAAAEAAABSASgAAwAAAAEAAgAAh2kABAAAAAEAAABaAAAAAAAAAlgAAAABAAACWAAAAAEAA6ABAAMAAAABAAEAAKACAAQAAAABAAABXqADAAQAAAABAAAAXAAAAACFmO76AAAACXBIWXMAAFxGAABcRgEUlENBAAACzWlUWHRYTUw6Y29tLmFkb2JlLnhtcAAAAAAAPHg6eG1wbWV0YSB4bWxuczp4PSJhZG9iZTpuczptZXRhLyIgeDp4bXB0az0iWE1QIENvcmUgNi4wLjAiPgogICA8cmRmOlJERiB4bWxuczpyZGY9Imh0dHA6Ly93d3cudzMub3JnLzE5OTkvMDIvMjItcmRmLXN5bnRheC1ucyMiPgogICAgICA8cmRmOkRlc2NyaXB0aW9uIHJkZjphYm91dD0iIgogICAgICAgICAgICB4bWxuczp0aWZmPSJodHRwOi8vbnMuYWRvYmUuY29tL3RpZmYvMS4wLyIKICAgICAgICAgICAgeG1sbnM6ZXhpZj0iaHR0cDovL25zLmFkb2JlLmNvbS9leGlmLzEuMC8iPgogICAgICAgICA8dGlmZjpZUmVzb2x1dGlvbj42MDA8L3RpZmY6WVJlc29sdXRpb24+CiAgICAgICAgIDx0aWZmOlJlc29sdXRpb25Vbml0PjI8L3RpZmY6UmVzb2x1dGlvblVuaXQ+CiAgICAgICAgIDx0aWZmOlhSZXNvbHV0aW9uPjYwMDwvdGlmZjpYUmVzb2x1dGlvbj4KICAgICAgICAgPHRpZmY6T3JpZW50YXRpb24+MTwvdGlmZjpPcmllbnRhdGlvbj4KICAgICAgICAgPGV4aWY6UGl4ZWxYRGltZW5zaW9uPjI0NDE8L2V4aWY6UGl4ZWxYRGltZW5zaW9uPgogICAgICAgICA8ZXhpZjpDb2xvclNwYWNlPjE8L2V4aWY6Q29sb3JTcGFjZT4KICAgICAgICAgPGV4aWY6UGl4ZWxZRGltZW5zaW9uPjY0MTwvZXhpZjpQaXhlbFlEaW1lbnNpb24+CiAgICAgIDwvcmRmOkRlc2NyaXB0aW9uPgogICA8L3JkZjpSREY+CjwveDp4bXBtZXRhPgq2Blw0AAApRUlEQVR4Ae2dB5xeRbnG41VCEUKXEiBLEkJRqpRQQklTUBDhiuBVqgVEQYr8pHixIN4r4BVsFAlNFNCLIoqAQBJ6L6FIJ6TQEnoNqPc+/+/Mszt7cr6637f77e68v99zpr0z884zM++Zc76zyZAhSRIDiYHEwMBk4H11DKuSbqWyOrroUm16g11Np1hiIDGQGOgzBt6vnv8pTBKOFt4R/i1AwZD/E9B5U/iK8JxA+b+EWNzOTso8Spgn/EOg7fcE66O3knCdcJJQ1JaykyQGEgOJgYHLwAfC0E5TiJOthMODruuEZClw3hlV2nD7U0JlHHFZSSfestSkgsRAYqAfM4Bvwxl2CCMFhFPo8cI2gk+riyp+v7CJwEnW9RQtidOrKrWewKl2f2G8gLwq4GxvFuYL9wjkuZ6iSRIDiYHEwOBhAOeXlxnKwCHz6oGQVwaEOwuIT7hZKrvm21lL2dR5Q9g6U+l2zet3K0yJxEBiIDEw0BnglDs0DHIjhTjMvwgXh7gd8GVKI+gXCc6U0zEyWaCdP5KQLCLgsHm9UJPTLdeJ6idJDCQGEgP9ngF+/AIIrxOQ64RTS7GuE+6OSq8voFvkF3G0nI6RzbNgyA0hpMw/uBGvKkUdVK2UFBIDiYHEQD9iwM5wXLCZ1w28k31A4JS6QODUuo+AlPOLduBbZmpDbg2h2w/JFCQGEgOJgcHNgB/9cayPCnw+NjxQcphCnOa7IZyjcDkBcb0s1ZVeRhkvBCwdCvO6rpPCxEBiIDEwKBnwZ118kYCTnR6xsLLifJcbO98vh/L8j2xuh9Mu+n8KeuVOx6G4OGioUnFTKTcxkBhIDLQdAz6N+r3s9cFCfijjjyYuCWm/RtgvpP1pWUh2noDHhgw78ORDzVAKEwOJgcRAYMAn1bOV5qT68ZDvLx02VRqnS5k/LRsfdFyXpB3spYqjuxWZklgny0nXxEBiIDEwiBnwaZfXBo8IbwmrBD5wpC6/SnGcqT8tuzDo2KlabynlPyPwjje93w0kpSAxkBhIDMQM2HGuq0wc6w2h0I7U73H3COX8NRt6rwsjBQQH7XZ4XUF5j97vqn7n8Zl4ksRAYiAxMJAYsIPldQJyfRZ0OlJ/l3u58vniAUfMFw5LCp8XkPhk7NcLboeyhqThig31liolBhIDiYHeY4DTKbJtFgy5KYTOJ8TZvi1cEMocfEGRJQR+ZLO+2+EbYMT5WSpdEwOJgcTAIGfAp11eEzwk8P521cBJfOB0vENlrwk4U79y2FNxC+93nxXS+10zksLEQGIgMZBjwA51jPJxpjeGcjvkWN3vcDn1ousf2a6OlMaGsh6/36VNGxe1n6KJgcRAYqDfM2Df5ve708OI7GSLBjglZPJXbshEAYeL+F8hcztuPyut89qjynX2ldQTA4mBxEBvMeD3r34v6/e7Rf37R7apKuTfX8AvLhA4He8jINuXrkOG3BJCtx+SKUgMJAYSA4ObAb9OwIHyD+Hw6iD+freIHX5kQ74s4FT5uoGQ73ZHCbMF/rw4fb8rEpIkBhIDiYE8A36SX0sFOM/4tGunnK/j/OVVMDfU81+y+d0v/44v4vazVAPXHjfQQJ+pSmIgMZAYaCUD9mubhU5uCCGn2nKvCMin/EWBfyQd+VcWDNkzhNeH0O2HZP1Bjxuov8u2q8Gdzne7tjMuGdSrDKR10Kt0t6wzO9ftQg/xibdSp653rpT4fhdHjPN9v4Ck73czHnp8TTeeHlM44BpIa6J/TynzZ/D9Lt/kdghILXNrnT9LH0fsd728411WQNINOuOhoavvYouo9rCGWkiV6mGAxeoN0Y4Ll38m8INhQNjXjjYG81JQwEB+vvzvKtwe6eZ1oqLOqH9k21U5OF6+biCs9n+ySaV+wSA6zAPnVIux9ffYtzVwtsgmAv8m55kkJL7bZal0bRYDvsnF7RXlxeW9Fbcdn1aH/Pp9SOiYdd/Oax+78/uV9GBfw3x1wP+f9oiAw+QvzSYJnmdFK86r53yo9PgigjbAUQICx00Rd1SpsVp0KtVvpzITt4GM4jGET0TWCAbWs2jRpa2BxE2goalBvOBXV8ujhcWb2kPPGvP8MZ+/E9hkx4cmyXN5yEpBmzHg+fmJ7Pq7MFuws4xDymYI/kOIeF0qu5vYRxyhXLcxLmhUqtetkUoJG72ClLYU+Fd5uGPw/wrxt8lslFOE+wQWoX/lU7RfCqTxich6wo0C72w49d4jQDYv1KsJnNFOrEseE5SkOwNeM5OVfbywVSh+XCHr6nShHbiznZjHDzHYyQnnJMFrRtG2En6x7xCWENivvC4bLvDd6feEwSBeO/ish4WVBd7JAoR5ZV8S+mbPK4g7hErz6vWwkvRo9w3hw8JrgvtUtOeym5qwZ8+HbBoEQ/uzQCbCd3qPCozzMAHxq4cs1XWFZOoBxu87oaKlj6pPUOgPs9FN0sWA18vnlOU1NUXxc6P03ooj1s1SfXP13I5W92wwbOb1A+KyLNW3V69j/oLKvMbhncG8wbQe4YR5W1PoEEYKowLIHyPwhMuBq1YxfzjctWqtVK8ep93rBU62nOTAAoEJ3UFA2mFzZJY0drX9Z6s642K8FpPsdKWQSd5dmCXQziQBcftZqveu2FOP/b1hGTYhawucFuDpPIGnqNsFnpzIu1JArJ+l+u7qG/ChMgH7nhdWC+a0i42e6x/KLricK2Ar/7Qh4bUCYr0sla6NMBBzGMcbaatqnWOlwQTifAnHC0hfOZas955dbfs2aoYxgYmhyUqnGR7jeB3BK5cdhP8U7hXcRl/zEy+GOC4T+1TM93mywlztovj3Q/r1EF6tEGk3pzZUNvH6CdsvFJB2sTGzpuvK64X4R6Dpoaid1kOXta2LMT+VwJpsZA7dZssstwPinScLzqeS8aFHb6aWGdDChr0I2eiM7bLQV7mJcP4U6eEkfJqwE+Gm5BvThNBWb/PjMY1Q/7w+QZyXpfrmau7WUPcvC+aMR76fRmnyDxSQ3uYu67X46n2wv4pt+/ZBtZ3sZK5t6zmRrdOCre2wFoIpKcgz4E1CPosMYTJxugNl4hgPY+M9tl8L/ExxpNoY+cGCHxxnC1MFfnA5U2ADmi9Fe12wm/45md0gnCYg1caTabX26jU1Xt3wow/yrMAj8S8EeLxN+IpwuoDwg2e7iG35vQx6Ihj1jRD25Zzn+Ylt4RCQpJ8y4Lv5xrL/PYGJBWwgxOVZqn9cY0d0vUxmPHcJHktcXjSiFZW5qsArB8vXFaEdvwOfEArcpvVaGdpufs3lND41dOb8VvZdrW3zcI4U4QlMr1apzcp9kuTLC+x/R9gw2OgbS0j2aWCuuYGZ62nBonZYC31KTjt33k6LqBU8eXzj1Djvd5GrBE41PgmTV07mqeAZ4S1hkaDkz1JCsk8DNhunnXeDFX292ejf3HIDtzwUInCIDrDTCEVtFcAr8qcsGLKowt1D3GsqJFOQGKifgWYuIm8mHBqbCjhOWb0St+d2YnuJk++2STvuvpz+VFQ2LRR6c1m3KKS+27U+r2HaRbAPnj3OvrKL/s0VNvCU0EEkCD/+WGwrDrpdxXPM09HjwcgdFbIWuNF5DKGo3wbeQ6wh4vGebWRQbo996T0bc0X7ACHf8VLGYLpAVDMEknFMbCYWJmEcpwydWoQJybfnNtkQXhzEyY8dInFPNCHlyLgsKH0eNCPEXS8kCwN06KcW3cIGWpzpsba4m6rNww9gzpGRAq9B7MD4YB3hFVY781kyUhfGwjrjU7h7BITvOQHSLrxn1tR/tZP1HmLeiMd7Fp1a/QNcwYnbY995z8Il+5m2aN9rxOulv3OpIdUvtTrDci1DGoBkHse2F7YW1hIg+inhZuE6gUVskiG9SKjjyeOHmY0E2mJiZwlsAn6oQXj/erAwWeAdLB+O8yOI+6Ev+llTGCMgTwj82wxIORuy0v5xZYzmtC8tZh3xI+RQ4WVhCwFhPucLbwr8UEk588uXIjjhdhbzyrr6jMArJsZ1v+B1qmjbie0uZxh7yc5vpOITBF4LrSS8IjC+qcJ9AsLc+gBTyshd4vbYZ/yhwocE9iGvmO4VXH+84gcJ9Ese79AvEdqZT5nXWoFApNYf1+IJ3lP1IBlnBvjBB+KdxuHtL1ggOi/uHwf+XWGO4PoOX1Xej4VdhHmh/IUQovM9AaEt31R4RHT9KRRK3FeWqu3q9o6UOu315Y9r5m852cEPP7y3RpyfpVp/9Rq4QF29JjwjMB/Mvzlnk78Y8rlpUnaqgDQyD1nN1l893zurK4+FL1qQdrHbdtT645rHtILGQB2cn8fG3nKc8PfCaAFxvSzVdfV6G6usvwpxfcc5LO0pnBzK+T2CtUI5N+AOAXFbWWoQXT2JtThebzjoOU0wyecovpmwjLCUwIRwR3O5HZ+yup3UTDp3ytsi/bMVnxzw0yif9uYIGwm7RvlTFUdoz4vlKMXd/3EUSlyWpWq7uk5yvBlfXgOLKXm78I7wkvCKEH8Vg6Mln42NU+aGxZwgXnNZqrVX1oRBv15z5Xp1Oa8XfCO5MVL2+KOsXo+av9PVs9f4tGBF3j6v3w1VzkEIfZ7+DhBGCEsIqwhfFOYKlPP0MklAXD9Ldc0d+jzFoD9L4Nvs7YQvCHcJ5Bu/UHxJ4booj/2L5NvPcgfB1ZNYi+P1ovyZeDGp36zA0bGR3rlBzwvDIf3fEOn9IOjFwVej8gcVx46VhHuFN4R9BYS2PJGcUmzj3hRKXJalaru6TnK8C/O1tLK4aXICHyXMFsz5iYoPFdjUywvLCp5zRftUKtnhNb6iLOSkznhwLNiPVKqbaZS/Upf2e9IGrbPOkWqO13q8tnteYCyPCB1CkTBXnFTR44S6jYC4HYc7Kc/zjBOn/Vh4eo0PUkeEwsMVcqO+SYBfpKdcZK30w6vJrOZ47YD21RhN+tQwXsijnDCOU/w3wfoHkSFB1/0eoDjlPP7gRFcXEDbtIqVYFj6uuNvhtQPC6RoHHIsn8kplWn9SUHCfsX61uMfdDo7XY8PRsYCvCsY7v9pYWlm+jhpns/oU5BNNLX3CsR1eLfr16OD0RwjrCRME7ETKceb8D0oHJ8Uael1YW0AatTNfr5G1mFnQtXcqOV6Pg35uF7wXdguNLKbQNwFC0gjO9p8C+jMF33BsP6GdMzpnCQjOlr7czn6Ku88Fio8RkOECuohtzFKD4GoS46FCUjmBIBwjk3BCpHRpiLNxKDfRxO2wLgk6BMcL3OkoN+m7KI4waby/5TEHeS8APeJzBcsERXDKbAju5B4PuthAW5zEEBwBDr3ZYvub0S72w1ctoD/GR/+2oZZ61nEd2ump0JZvjty4HccBPxoap9/Y1pDdLWA9ME/Nso0+kQOE+QIO9G7hGmGigMBhJeE1w2tBASe8TIg3YiPzy/gQOx6cWyNtlRoJF7cZ5znu8XHY2SxkPqNwaojjDKnPfiEkjT03C/cLyAjBr4fM6SbK21BgzpCns6DzywX2KjKzdM32Loeo7UOafey+6Lsewb7+hIXGZkdFgQcP+eUm0pO4h3RYOCb3QcWRonrOeyBTKU0Up9PPhjT9YseqIU3AhmVBFon7pIxTzLCghG3uK2SVHNjiIcECYRM1W1gAzRDawX7srAZz8JJ04c9pwmp1XU69ZtlOWwDhRInQNptrNgmJT0/Wy3K7rujvJKwtNMs2r4eH1OZxAs6EUxYc3Cgg5eyhzHPyJgkJ6aVLsfovdrorqypPYdh0n/AxARu8txStWzzOfEXsZaw4yy9FhdyAONhQnh8/advqPausIZ8XuOmwNxHGYX5Iv8OlQHCusawWEtyci/qPdcvFsbE/YaFx+O5FASQgLIDYIZcyw8UTvGNIo8tEcJooJ55YTpvous/Jiv8sVKLdt0KcoJINsW0sKoDYtiyVXWmHuyzCxreubSoVtMHFC50fcuAFnjwfReZRxlj4oYIxjhDYWDzeVRobZeizGS4SXhUaXfyq2k3MP6cgy2OK8DTi8Tk/DlkPjOXrwqnCXwUccDPswibauSVAQelfmXtcIbYhtjtLdV3hCrsJY+fBqReh3XrE+v+lSjhb+l1bOFtg3nsyF95TaqabXdjPumdO1hfgGd3nBMTlWarraltfDFmsx9WELYSrQp4PMdbFkRYJfcRCWwi8glqFdctYDhU4+MEXee0qzC+cvCJ8RYBLuCqNOZ4w5ZWEwXjBoWhiCRn4osIYAUGPU5adZiUiqYsxngjaWELwBN6q+LYCwimWkyonjbh/2l9KsHBqYAJok7aLxPWpW06nqF6teW6/Vv0iPbdxrAr3KlKoksfGPbOKTr54rjL+LMAdc9MTwX64Zc68NmjPj6oeH3mxkI8zQD6XBZ3faZerE9RqDph3b1puasi9AmvL+eRVknhdF+2ZSnUpYyzmGAeIsG/gnpMjTs3r2HrKqlnKOSBzuI5aIu717z1XrQPb4nrrqoIdL3M7T1gxNLJsCL2/va78aiYUl763Jx5z6rJKoceypZS2qqTYhmWHy6aqjheSIcUEehweOF7cd32X1Usi9XCuOF477TMUPzDkM5mbC1cIiBfNRxRn4dIfeT4x2zZldRP0vGgYT7kF2q1SHyRs4/Hq+48Cp4JyY8I8ynBYnHjPER4UjhNwfIwZlBN44LHw2qDgvsvp15KPPfS5egBx8mYISLmxuN5I6eAckJuzoGydUFw1oG33iwMZLuA4EG7yiMuzVPlrvBdwmEgljjONriu6dvKMj/ejHGCQx4SnSrGutRqSNQfV5nCl0FI9Nsedu56dLLa/IJwlHBMUtw6h1655+mTIx2/cJthxV7M5VOsMrH+1coYKPEm1637GaM85dvK0j5jHzsf+LDu7sqEZZH5QrkToODVYlI2cAuJ2mJQnha8J5wvIqcJ84XaBDTJK+KXgBfvfiuOY6d93ZkW7CeNgISCxnbVuuKxm5Wsz2oIL2mETgloF3qcIzwq+SdVa13rxXDqv3tAcjFFFbqbwjnBDQPJ9oA+wn/nZWFhaYLPeKfREmGfAOqZf4giP2zgO8lhTSN6uLDe7Yp/LveYoeTMrrvtqTo5RTQ4dE4TZwiHCWwJ2WkfRusROrlwluIglv7fjskpx2+fw21LeVthG2Er4sXC8gKNhbvcW9hMQTnzE4ZT+y+1ZFRUKfTInUwIKldo80+up0GF6oZYbA6ell4QRAmTEJ2CIKSeQTdt0jt7LQv5OMFJ5yExhtMAd8kmBSVpLQKjzHeEUAekcTJbsdmVBeqOwEBbvVtpeCcYBP9X4x2r4Y2x+vGMOEMJKfJSUgg5zV4uu61QKPe88jSCMYa7wFAkJfVnQpV/gm+KmofBuhfeFeN5ZhOyKgTc0/THfPMZzMqMfHAOCTQ+VYt3tClndAmykTT/h0e6r3TRqT9AWY+cEtI/AjcZtwVfMkZJ1SbxmPBdxA7NCwmUeDzZVEjhEXO+5LNmZZv0NF9jLrL3DhC8LTwsrCB8SkFuE/YWHBc+RonUL9jJW21N3A31UYaGbjImN7YFA8r1QPEjSJo0NsrFAg+gzAeXE9ZeSAo8IbCja5x3RghAnb5hwpMCJZ6Kwu7CTsLZAvzyiTBcuFp4U3G7R4vEEsZifFxAmDBuaLbajGe1iby0b0H3aOZkD0o43w55a27DNG0QVHlX8JQFbbZPjPPqeKbBuuJF/WEB43fA3gXzm+1iBeXP7ipYVr83VpHG08ElhMQGne7CwkYDwfvdVodZ2uVmzNhFOpq+UYl1jCsmaAniAA4ANSK12ZNrFV/ZVXujLvLHXOIDwNIJw8kc8L1mq6+p61oNb5L4s6Nx7n1N6TeGzwt0CTndLgXpzhCuEy4U/CPTlOVK0YbFtDTfQDhVxgHmBHG+QfJnT/6vIAYInbpTi1wrUy4vzcKAIzpp+eZeJsPAQypcUnhVYlFMCKKeN+K5hB15pErygn1Zdy6ohYpucX0+Yr5tP19NWo7r0Cff5vp3faLuN1KNP5gG+140a8Ptd1pNvELaPExcODUe2rOB5eUzxBcJ7wnyhVqEP1scnhN8LrI+DhOuFbwqXCawpxO93vT6y3IWvsa2cTpEXBU7QiNd+lqr9Sj3PHWGlNVxrq/E+xm6L5+UJZUwXOMggHQI3k9cEj1PRkpCmHuFapZzscPWg4reFtPfiR0P6GYWPC0eFtOcjJEsOF76Z1yQRA5C8aEhvrdALgvDjIZ9yyLNMU4RywGJHOP3SloU4ecjvBOtzd2RyEC+a7RSnfJ7QIdQi2ON28vpu91AVuN/vBCWX5evk07SPLn1wekLYyLSHgyBksyPwgx76MQdKNl08D8upZU6MV4UenN/0Dis06D7XkA6PnOZ671Anz3Wemx1CHfgcHerUE3j+dwztsLnXzzUwPZRh27hQ5no51c6kyzdQjuf6xs7S1s9x1FVhFPu8Z89T3LxjY7xuPQ7z7Kci88BNKhbv148oEy4BbX9RQD4geM4vUpyyU4Vahfrvq1V5oOqZBMhjcSHcBRHyIIh3qojLqcPkfV24XcAh7SJMFq4WqOPJpg0mjklGx/I1RbhrosfdFeGu+bbAuyEeT34joPNuAO1QzqPe88JTwnwBoR10Y6FvxCcv4qO4SFyWpYqvjAPbbJ/b9+nNbWATYn6yVMaDdZw3EENvopEa3DICY4YzHm+RPAekqcMGZ259Cvu74rMFytjYbkfRsoIe8zJcOFdAjhfo206JeZkmbCs8LTwgIJ7XLLXwNR7X0FCMjUjRestKeu/KuL0m2RsW8xaPD3unCqcJhwTF7yocLzAHlFvc1tHKYK8jfxZ+VYp1vSqkfeYLOVgYJsAtc8JhgHbg/k2BfTpXeFzw/mkHDmVO38rK6n53YWdhisDkQR7hecKnhD2ENQXEd0WcKROAHo9g6OVlkjLmCOiAvQTEk0rci/xixa1XKWTBMZGcorcRELeRpbruyisp41mB9rhRWM+hshYSl62tks8I8LKrsK9wt0Bb5odFubcAP4wfHuETcTtZqnlXFjfSDidezyM3Ys/ZU4ovhYGSahxMkw71vLFjJ6DsimLdn0uLNjhxjww14Mh9/0VxynnlgJi/LFV89biOUTF1wUFB1WUh2ScB6343YV/hMQH72BccSnCErMPJQswDfPxB8Hg4sa4qxIID/R/BOjcp7rk0bw43VRmvi6xbKcQB3yd8W6APxPOXpQbhFedSiTSXHR64YeGZtO0UfySq/5DiOEScKES77qOKTxQQ181SXY58c2XYobleLSF3Z8QLIkt1bbwrlUE73HlXD4V53ZBdCnxjOUmpWvrP68An0qoNatvbwfF6Ls/UeM0DNyPEdmaprqvzV1PWPIF6+4fiWjlzGzgOt8E8I5S5fAXFuUnTh9dJLX24Pr9FUPddAUeDeMxZqnevtusOdWu+y4XciHxaj20+Rfk+MDGua4XfCFcIPFG6vbMVX1xA4vq+oZGPjvVrDfEXY6gsidvNcgbB1QvwSY31EoGJ4hEBQAivEZggZHnh/lIsyyOf+tOFjwr7CJ8WNhHWFZBXheuES4XzhdcF2v2nYCFNfxMFJpFHROrdKbwhUIYw2ZRhR4ewioBgx4kCk0k/cfvE/yFcI3xMoO7GwmyBBeyxKdpNnH+rcn8ncJqnf9tCXRYZeegS0hf5OMMnBcTtZKmBc2W8Fs/lh52hkCcLpBzHrr+RdHCMbP67BARezS/xcuK2t5cCbSDTSteu+iQ3EHDOyC1ZUJqvEC0MPK/LqBQbkYeFGaVY386rOWGtPya8JDAHrHP2K3uS9JICNySvQfLM2RGKc9rdR5ggjBM4bKA7U2DNny/cICCsbeojcIMNhL8U9haQB4SnBeYSXXSwBTvgf01hCYE9hNP9rTA2pN2mkoNHGHQ9ktdnUmJZVonVA4jHktdlISDrCThZJutBwXdDRQuFjTZBuFmgDiCeF7ePU+BRB70fByUWRSXJj7OSblFZT+sXtek8tw2/POrFJz3rtCpkDt2/OVxRec8JnouJofP8fIfszieBE0Md5hyngXjOiLsf4rRFmdt03ycoz/2OVxxBx+XHKE75LAE7axH3MUnKbvsHoaLbraWddtSBU48P+3C4KwsjBA4ziwoW+AaxuC6nZnPz3VihIM7cjhSOEt4WuElQdy8B6e+cZqNo4OrJgNRKiDdC3A35kFdUXqnMk3i66noSdwoNsyA88eg5HopLASfYWQJ1Oa13CAi6Ftv0V2Wgx6llaCh0WUguFFBeiY9yZdXaXaijOjM8PsbPmKaF+r3VL90NC30SbC14/uYozqkfKbInzrtWOtS7EGWJ5+V7in+plNPdSYSsUuDN+iOlaIPXSB0CAj9eW5cpTjnzj3xE+LXAaRaJ7clyuur+XBnU5VCwTig09yHZZ4HHWG4NOr+cgZXKy5V57Guo0VcFuPFTBP1QL7aLuOtQjnxDoB5g3yPUG1RiUiCBx4NqQK9IyPddjIVswonHZfm6fgwaGQp4NLo7xGmPcoBdjita2izcmV8UbiJDQrpow3tSzyppZZ8ajQ9xjz8kFwpq5SXPWzmeFuqgwQy3/6bq84rlodBOkRNpsIuFqsEVc7CFMF14WDhZQDbMgtL1Gl15/IV321kqCBfbOFzp9UPenSHkMXWU8G1hpoBY/6uK3y4cTKbE+awBBEdAvwg3beaEJ6PNBYS6yB7COOEVEgVCu9TlprZzKP+NQsbLmOCgHcT7AlsroZytrsN4mVvD46c8L+Z8tAqWDIXef+Y8tos4oB7lyJXCglKs6+YXkinoLQbsFHmnxCZlknYInfN4woR5skN2Ke3TDnl3CNRlA7KZkdihxvVZJOheipIk1sty+s/V41paJvuk6Lxmj8I88aj+nACHBu/vOLk4vYPiiOc2S3Vd3RYnTzYg9cZ2FZd+kD0/pL1Z1wt67uPjkb5P2y8ob1iUT3S64DrjQ9kDCv8zxON1FLI6H3u/pgzq4qBxNIhtz1KD7+rxc6P13E0NNFAGn/k1SJoy9jPCzcxzclopZxC/agjj7/XAm3O3aDLuVXyZyBImDj3giXcxG8iTeEHIzOuQ7X4mRfrbBv2izReK2j6IF3kcb7bh5m8XNQzfvKcjnC+sITBnpK8QkEq2uIyNyCmSegcKY4S7BG6kdrieG06t6BknK45Y73zFKeMGsLowWXhUuF64W6AMR0o/OFJOwkh+rdi2JVVm275f0kzOIdDQObfXKcPzcaQLQwivrBlgTilaTbhfcL0tyZR4fWWpdO0VBjwxJ6o3T8h9inNn5DSXFzbjxsJFgvVvVZxHQyS/mbLcrsn9hTKoN80FCm1DlNVvotjeavu9MT6hvuDuPeENAQe3u0DeO8L6AmL9LLXw1XM0VkUzhNeEZ4UzBTtT63hsX1XZlcJM4TwBsWOmvxMETr3PCE8JPxQQbLpT4FUEfXDzQIpsdN/HqZwx4byXEhDbkaUG79XzMlIUPC7AE/iJsI5QxOtyyt9HmC1Y/xDFkSL9rCRdW8pAvKDZxGwST87Lit8g8E3whcJfhHiy5yvNhltMQLwoslT3q8vQdR/fCirewN1rpJQZ8Bx9UBk+sTyh+OmC5+rfg3KtXHo+aHuMwGsMi8ucjsPzlTg7ZNCXbSOLb05HCV4P5FlGKjIsJIrat90bSYf3m4xrh6CfnEMgIscHDvVUgRun18EjirNPfy2wb28UXhdcTnqigMRzl+Wka68ywAR4M7DIOVmxqWcITJo3Au+VZgmXCZyA/E5X0c76xMuJN1CHFDj9sBjGC8gHsiBdyzDg+Rmh8t8K8wROvtcIYwXE/Gap6te8PumizUie54eNfWBo2nmU59uiLF5XocpCeuR7bDjsBwXWxecFxH1kqXQ1AzHfHcr8hsCrpjkC+xQO2bc8afC656fCJMES13deM0LmkjkD5fqIdaxbtO6aYU+/aAMS8rKsMlYSVhY4FeVPM9SphzT3wR954Dz+JfgR2RtQWUkKGIj54bSzfKRTbpFHKoVRO8e47byi54z38pyu+EEPyddxW/n1UC6fNqy7hOLTBBzGlwTE/WapdM0zAP/5eeepg33KfmXfsn/zkq+TL280XdQuNnqOi+yN+yqqH5cP6DgkQUAlEiCQTUHYiHhDcXrjtQN3Y6TR9rLag+MKRzFPnq9WjT7eNLxz/WXoqNL6qMcWt/NJVeL98H80uf16bOmvuqyHavvRe9rz2eyxek2urYaPEo4Qtoo68Z4nq0PgieZbwuHCrkKl11AqHlzCJAFvdsJmTZw3HIzGk0I6SXUGPC/VNXum4XnC4T4peK6atQ5sXdyeN7HLUlg7A14X3rMxr7W3Up+m18heqsYTSwx+THc5p/ALcuXWnan8XQQkzX/GQ8uuzXTkLTNykDfsjcuPXn6n38qN4U06yGnvN8P3fG0mi3Gidwm8Rrw8pMnjVLuWwGsq0j8XdhT4Hnk/wfm8dtxUQNxulkrXpjPAxvbmbnrjqcGmMBDPTyudbtxPUwxPjbScAa+HP6knnCoOFjlUIA2eFnCu/KCOU87Lhcqw7lmhsKWO149teUMGUxrCk7Q3A8yRNxinklZJWgutYrY17bImWA8jhZ2Fi4XHBIQfS5F3hDWEucJHheeFRQTq4f/4AoMyyzohwhcZ3IjLrQk7ZvTqluR466YsVegjBlrpcPtoSKnbHjJgx8vnp8gfsqB05dUUYh/Hj6Y43aHCu0Isy8eJGuI45IYcbg1tJ5XEQGIgMdDWDPjUyffDnExHBGuXVMjJlzxwhoBw0i2SG5Vp3QuDgtvO6/t11DgV+I+G8jopnRhIDCQGBiwDdoJ8NjZR8OuoTRTnRApwqB8TEJ9+iVt3uOIvCXa8R1IoiXWznK46vCf+h0Cd0aHQ7YVk5aCo8co1UmliIDGQGGgPBnB8ON+bgzn4M15JbSHYEeJUHxCQ+HUV5aTHCvyRB06aU+6NAkLbeXEdvvtF92mBv8xDivSzkoJrcrwFpKSsxEBioN8wgMPDIeKA7fy2iax/UHH/eOZyih33+2Ec6d+FeyiUxE6aNO07b0syJDh0/vrVDpm8moQKSRIDiYHEQH9mAIcIOLUuLmwqWG4NEQ6ZdrY4UXQ56U4SLLwr5isHdNGxfyS0c6WO/4mBWxRHyr0PzkrTNTGQGEgMDFAG7Pzy73c/FcbrcpJ+0t9NcZyx39f6JBvroh/L5kpQB/BHG0kSA4mBxMCgZcDO9CAxYMf4iuJrBEZ8eiVpx/prxa3Lv9nCKddyiiJnh8TJCvl3Qu4Q4q8lHlF6hsCpejUBifvJcgquNSkV1EtZiYHEQGKgnRjAgSJbZ0HpyvvdWSHt97N+zbCc8ncIZQSXCW4DJ3q40CEgbws4WZwu9RDiONwnBN4L4+QRt5Gl0jUxkBhIDAxQBnxSXUzj4wcyn2J/FMbr0zBJn3Z3DHq868Up81dtlsMUoY3dnBGFOHPKjojyHLUdTqcwMZAYSAwMWAb85M6PXvxVGo4U58ifESN2tsTthI9W3A6arxP4owtkGeFlYaawqIA4HKe462xPgYQy2q/L6doIGkiSGEgMJAb6IwM4XpztxgJ/nYZzfFG4S0BI58WvIMh/VnhDoO7FAs73C8ICAafKqRjx1xJzFL+/lJM5+qL2Q3EKEgOJgcTAwGTAJ9ozNDyfSK8NQ/Vp2CP3yZTXEjOC/lsKfyXgjKnPfyuGuF23cYnyKL+cQonzs1S6JgYSA4mBQcSAHeTeGvPrwpOCf2RzWUyHHeZoZfKj2nPCewI/kvHuF7GOHfVSyuMHNRzvcQLCGwPKrUNeksRAYiAxMOgY4H+ZwEkilRyiHSt6ywsfIhIkLrPj5s+Q/e7Yf3TBqwlLpb6sk8LEQGIgMTDgGIgdZhwvN1B08np2tK7j38EOUQanXU7Hq7hQ4U7CRVG6Jgec7zSqn6KJgcRAYqBfMcCJFJ+G8yNeTdAB6Luef0hzXbfDP6aDPCzgfO2gT1L8TQEhD+dcVezNqyomhcRAYiAx0A8YsKOsx1ScZTmH6XxeRyD89Rp5OOgThWWFgwXEulkqXRMDiYHEQGKgIQZ8sj1WtXGsU4V1Bb6C4BM0PmFDrJel0jUxkBhIDCQGGmbA72z5L4NOE14Q5glXCXwVgSSnm/GQromBxEBioGkM2PnS4DDB/14D6Yac7v8D2b8d1lQxIXcAAAAASUVORK5CYII=)"
      ],
      "metadata": {
        "id": "QENhQxC6ylpD"
      }
    },
    {
      "cell_type": "code",
      "source": [
        "# TODO: what is the TF-IDF relevance for each query/page?\n",
        "\n",
        "def tf(keyword, page, inverted_index, page_statistics):\n",
        "  \"\"\"\n",
        "  return the term frequency of a given keyword in a given page\n",
        "  \"\"\"\n",
        "  if keyword not in inverted_index:\n",
        "    return 0\n",
        "  # the method get returns a default value if the key does not exist\n",
        "  tf = inverted_index[keyword].get(page, 0) / ( page_statistics[page] )\n",
        "\n",
        "  return tf\n",
        "\n",
        "def idf(keyword, inverted_index, page_statistics):\n",
        "  idf = len(page_statistics)  / len(inverted_index[keyword])\n",
        "  return idf\n",
        "\n",
        "query = ['the', 'white', 'rose']\n",
        "#page = ('Fables', 3)\n",
        "#page = ('Alice', 14)\n",
        "\n",
        "results = set()\n",
        "\n",
        "for keyword in query:\n",
        "  results.update(inverted_index[keyword])\n",
        "\n",
        "print(\"Found {} results\".format(len(results)))\n",
        "ranked_results = []\n",
        "\n",
        "for page in results: # for each page compute its score\n",
        "  _score = 0.0\n",
        "\n",
        "  for keyword in query:  # compute TF-IDF of a single word\n",
        "    _tf = tf(keyword, page, inverted_index, page_statistics)\n",
        "    _idf = idf(keyword, inverted_index, page_statistics)\n",
        "\n",
        "    tf_idf =  math.log(1 + _tf )*math.log( _idf )\n",
        "    _score += tf_idf  # here score is the sum of TF-IDF scores <- naive!\n",
        "  ranked_results.append((page,_score))\n",
        "\n",
        "  #print(page,_score)\n",
        "\n",
        "# we rank ech result by its score, in descending order\n",
        "# return top 10\n",
        "sorted(ranked_results, key=lambda x: -x[1])[:10]"
      ],
      "metadata": {
        "id": "5W6FJ2YDvM4n",
        "outputId": "709c8800-6646-440c-e36e-b2fad42af536",
        "colab": {
          "base_uri": "https://localhost:8080/"
        }
      },
      "execution_count": 10,
      "outputs": [
        {
          "output_type": "stream",
          "name": "stdout",
          "text": [
            "Found 307 results\n"
          ]
        },
        {
          "output_type": "execute_result",
          "data": {
            "text/plain": [
              "[(('Fables', 239), 0.13953589200870134),\n",
              " (('Fables', 76), 0.048937928158690844),\n",
              " (('Fables', 26), 0.04396264045862596),\n",
              " (('Alice', 15), 0.039789610803451204),\n",
              " (('Fables', 154), 0.035738752778640914),\n",
              " (('Alice', 16), 0.027996462022130804),\n",
              " (('Fables', 219), 0.019013727449111232),\n",
              " (('Alice', 8), 0.013401616632604814),\n",
              " (('Alice', 14), 0.010784895629103433),\n",
              " (('Alice', 10), 0.008997376176754415)]"
            ]
          },
          "metadata": {},
          "execution_count": 10
        }
      ]
    },
    {
      "cell_type": "code",
      "source": [
        "print(fables_pages[239])"
      ],
      "metadata": {
        "id": "qGsAgsuuqWic",
        "outputId": "a730ca7d-d87d-4983-db8c-adb8481aa326",
        "colab": {
          "base_uri": "https://localhost:8080/"
        }
      },
      "execution_count": 27,
      "outputs": [
        {
          "output_type": "stream",
          "name": "stdout",
          "text": [
            "the rose and the amaranth a rose and an amaranth blossomed side by side in a garden, and the amaranth said to her neighbour, \"how i envy you your beauty and your sweet scent! no wonder you are such a universal favourite.\" but the rose replied with a shade of sadness in her voice, \"ah, my dear friend, i bloom but for a time: my petals soon wither and fall, and then i die. but your flowers never fade, even if they are cut; for they are everlasting.\"\n"
          ]
        }
      ]
    },
    {
      "cell_type": "code",
      "source": [],
      "metadata": {
        "id": "3dbn3AaPy8Gt"
      },
      "execution_count": null,
      "outputs": []
    },
    {
      "cell_type": "markdown",
      "source": [
        "## Using BM25"
      ],
      "metadata": {
        "id": "5aqq177EwfdQ"
      }
    },
    {
      "cell_type": "code",
      "source": [
        "from rank_bm25 import BM25Okapi\n",
        "\n",
        "all_pages = []\n",
        "all_pages.extend([ ('Alice', idx, content) for idx, content in enumerate(alice_pages)] )\n",
        "all_pages.extend([ ('Fables', idx, content) for idx, content in enumerate(fables_pages)] )\n",
        "\n",
        "\n",
        "bm25_index = BM25Okapi([_page[2].split(\" \") for _page in all_pages])\n",
        "\n",
        "query = \"the white rabbit\"\n",
        "tokenized_query = query.split(\" \")\n",
        "\n",
        "# get_scores assigns a score to each and every page\n",
        "doc_scores = bm25_index.get_scores(tokenized_query)\n",
        "print([ (id, score) for id, score in  enumerate(doc_scores) if score > 0 ])\n",
        "\n",
        "# instead of using get_scores, we return only yhe topk with get_top_n\n",
        "bm25_index.get_top_n(tokenized_query, all_pages, n=1)"
      ],
      "metadata": {
        "colab": {
          "base_uri": "https://localhost:8080/"
        },
        "id": "M0aT2xHSwgvF",
        "outputId": "99f8b510-2818-4cf0-89e5-cb42166081bc"
      },
      "execution_count": 12,
      "outputs": [
        {
          "output_type": "stream",
          "name": "stdout",
          "text": [
            "[(0, 2.4794041816524928), (1, 2.087876596151511), (2, 2.497518266677844), (7, 8.290159110343623), (8, 8.552449114812205), (9, 2.7488072165437027), (10, 9.31323646705312), (11, 2.666518140338405), (12, 2.7887365292648405), (13, 2.814415880783713), (14, 6.486957987471668), (15, 13.10355777000245), (16, 8.642125333001006), (17, 2.6229494212428186), (18, 2.7577535047491715), (19, 2.5043622739755764), (20, 2.105546597717835), (22, 4.2360344291558985), (23, 2.9955412039069507), (24, 2.9884876533600524), (26, 2.3485511353616193), (27, 2.5892632613183286), (28, 2.647284542857337), (29, 2.5032144202834377), (30, 2.5389789144097312), (31, 2.7092653943388303), (32, 2.7678712444680755), (33, 2.602605747667064), (34, 2.713698124021439), (35, 2.6027268060202666), (36, 2.7535870046119224), (37, 2.6871451368208414), (38, 2.7824612919598875), (39, 2.6164942176170523), (40, 2.6293733297818265), (41, 2.489558057931246), (42, 2.8094339798927233), (43, 2.7351016592136026), (44, 2.715469808889534), (45, 2.7203083561715813), (46, 2.677505356825198), (47, 2.8038287819253016), (48, 2.7018806128088935), (49, 2.811190393999982), (50, 2.7490502700364776), (51, 2.775931562429742), (52, 2.7742181411246825), (53, 2.816783897031012), (54, 2.7190061303169935), (55, 2.685134987369621), (56, 2.7593918036545393), (57, 2.7804157110455323), (58, 2.3157603515178757), (59, 2.667934492491151), (60, 2.8427672710672636), (61, 2.6326450828038177), (62, 2.837465117470936), (63, 2.8451221895440493), (64, 2.4538356328504847), (65, 2.6603137973106916), (66, 2.7858217457785663), (67, 2.4428860373595707), (68, 2.6326450828038177), (69, 2.7741856305153982), (70, 2.731651249925611), (71, 2.704847122453507), (72, 2.7790785819311634), (73, 2.559878386654396), (74, 1.9964710963582382), (75, 2.4169997699136956), (76, 2.8212625223502505), (77, 2.578083594326824), (78, 2.6773658931761584), (79, 2.777378704946777), (80, 2.598277048837583), (81, 2.6323724494553455), (82, 2.786647523323046), (83, 2.36172140568776), (84, 2.5106805052170444), (85, 2.7336649555625283), (86, 2.549385818588129), (87, 2.501215068436245), (88, 2.6776477204608806), (89, 2.3522519685961165), (90, 2.520217854915831), (91, 2.553824953456395), (92, 2.8514653689773906), (93, 2.5395115962799886), (94, 2.6628685791598476), (95, 7.734158989458752), (96, 2.6908858062671577), (97, 2.54275597692452), (98, 2.4608292612803058), (99, 2.740055902327417), (100, 2.6403543887216765), (101, 2.692206971388341), (102, 2.824660554725276), (103, 2.67641192077452), (104, 2.649853422763222), (105, 2.6638744001089734), (106, 2.7825381617238953), (107, 2.7123174539942676), (108, 2.46844350014659), (109, 2.791050295062655), (110, 2.4367271389052414), (111, 2.768910031266215), (112, 2.691359393801886), (113, 2.6204896190236937), (114, 2.467110756958449), (115, 2.454938637747321), (116, 2.549463256004714), (117, 1.9884925475927206), (118, 2.6714465463597605), (119, 2.691359393801886), (120, 2.738226273569445), (121, 2.7420582258983965), (122, 2.756512440249108), (123, 2.5075174095658523), (124, 2.5803117977748338), (125, 2.737882185031887), (126, 2.716632034620151), (127, 2.508261821407105), (128, 2.699292913558325), (129, 2.8111754315051454), (130, 2.344861928987065), (131, 2.5843198966900327), (132, 2.7851339715884755), (133, 2.761923931457959), (134, 2.618519569532587), (135, 2.7466234419059963), (136, 2.775765746853071), (137, 2.796590926441092), (138, 2.4287976738693486), (139, 2.5945838057827117), (140, 2.7465859922688085), (141, 2.5300185833510644), (142, 2.8045413930688965), (143, 2.665721774179373), (144, 2.6633155169051816), (145, 2.639628081603531), (146, 2.676880426849925), (147, 2.644363538180033), (148, 2.6443040307705394), (149, 2.641963987225876), (150, 2.5972924718332835), (151, 2.626417593789606), (152, 2.842554304779165), (153, 2.743485191778976), (154, 2.7549729954946214), (155, 2.531229324046584), (156, 2.2979358589560883), (157, 2.7110449271831834), (158, 2.5704576806864776), (159, 2.5825438561679803), (160, 2.8266401011230027), (161, 2.565157125860427), (162, 2.822214030616712), (163, 2.7352622404247047), (164, 2.7606676052825745), (165, 2.651349099182738), (166, 2.7704938336002787), (167, 2.7543003672412603), (168, 2.7686990474605433), (169, 2.8101367259733245), (170, 2.490684345812679), (171, 2.605078682162034), (172, 2.665658278073627), (173, 7.076919862318576), (174, 2.756360382329663), (175, 2.7240314773784404), (176, 2.644220724896565), (177, 2.7722031296515026), (178, 2.542948573607484), (179, 2.724097784871934), (180, 2.8087943781368327), (181, 2.6969990082475364), (182, 2.658431807424503), (183, 2.7133400375799357), (184, 2.625835840513583), (185, 2.76550454119115), (186, 2.8002228470814794), (187, 2.6403543887216765), (188, 2.7722489115511006), (189, 2.821990577952678), (190, 2.6776477204608806), (191, 2.7722031296515026), (192, 2.465996789551136), (193, 2.8258403557916107), (194, 2.6483848812457667), (195, 2.5984111117360387), (196, 2.5066519528255644), (197, 2.7877166100844653), (198, 2.794257571450551), (199, 2.677505356825198), (200, 2.757252857572449), (201, 2.5441717242140047), (202, 2.7073571965507965), (203, 2.8401179777657686), (204, 2.5309923062452495), (205, 2.7680449369115263), (206, 2.8755262657550933), (207, 2.7055170908866546), (208, 2.7000117512996065), (209, 2.719384831046674), (210, 2.633026864380024), (211, 2.809954248493255), (212, 2.6836293478006477), (213, 2.765782630961346), (214, 2.672853210754479), (215, 2.7019333264932928), (216, 2.720418568559531), (217, 2.79613604332544), (218, 2.6830665782592935), (219, 2.6303844995221874), (220, 2.445888078953963), (221, 2.6997036311062614), (222, 2.605971462134057), (223, 2.7900638268072626), (224, 2.392955789575043), (225, 2.6335568604746484), (226, 2.7099599515243384), (227, 2.692706056675322), (228, 2.5892632613183286), (229, 2.678939305335411), (230, 2.6953757242815644), (231, 2.8171467231047806), (232, 2.785166978571506), (233, 2.7416535994369533), (234, 2.708080336416334), (235, 2.523526897054548), (236, 2.680079957014848), (237, 2.8572030880624926), (238, 2.656276848771199), (239, 2.60735381349627), (240, 2.716632034620151), (241, 2.7336044836801108), (242, 2.608713587402385), (243, 2.7182810305039973), (244, 2.664593308977199), (245, 2.8078528089152526), (246, 2.7006001761048415), (247, 2.7635732388758267), (248, 2.805223909361477), (249, 2.67641192077452), (250, 2.6872526783418373), (251, 2.6908858062671577), (252, 2.8370677239179645), (253, 2.5892632613183286), (254, 2.83395575990424), (255, 2.578449713964263), (256, 2.2645088533968676), (257, 2.5803117977748338), (258, 2.482496704576813), (259, 2.793018880476542), (260, 2.7790079203754154), (261, 2.6269568477208463), (262, 2.685134987369621), (263, 2.650400142778778), (264, 2.8062970569989956), (265, 2.644363538180033), (266, 2.5457916527660878), (267, 2.751761688311726), (268, 2.7981082729857816), (269, 2.572628448724492), (270, 2.6246934679933034), (271, 2.8632457589941795), (272, 2.6543455230407185), (273, 2.7303703985288115), (274, 2.5286566293128834), (275, 2.8281242508252036), (276, 2.733075430745229), (277, 2.3312918982062127), (278, 2.7633183297905823), (279, 2.7586174779454082), (280, 2.8328203929642273), (281, 2.636357377494056), (282, 2.7264085178987516), (283, 2.5108682733644363), (284, 2.6856769081172382), (285, 2.7787501561141155), (286, 2.2292998474234635), (287, 2.5776260909650346), (288, 2.7220897068165484), (289, 2.7907459021300896), (290, 2.501215068436245), (291, 2.706634442782863), (292, 2.8080879489977324), (293, 2.7351016592136026), (294, 2.3522519685961165), (295, 2.6823165859271723), (296, 2.7203083561715813), (297, 2.822571628493751), (298, 2.764502098383357), (299, 2.742112446459489), (300, 2.333863525673701), (301, 2.687288527428369), (302, 2.7336044836801108), (303, 2.6368493361297345), (304, 2.8363489481016226), (305, 2.3485511353616193), (306, 2.602865172214725), (307, 2.7010187675846544), (308, 2.742801005040428), (309, 2.591880783477188), (310, 2.929530295805676), (311, 2.6292493540895983), (312, 2.763109654769761)]\n"
          ]
        },
        {
          "output_type": "execute_result",
          "data": {
            "text/plain": [
              "[('Alice',\n",
              "  15,\n",
              "  'ix--who stole the tarts? the king and queen of hearts were seated on their throne when they arrived, with a great crowd assembled about them--all sorts of little birds and beasts, as well as the whole pack of cards: the knave was standing before them, in chains, with a soldier on each side to guard him; and near the king was the white rabbit, with a trumpet in one hand and a scroll of parchment in the other. in the very middle of the court was a table, with a large dish of tarts upon it. \"i wish they\\'d get the trial done,\" alice thought, \"and hand \\'round the refreshments!\" the judge, by the way, was the king and he wore his crown over his great wig. \"that\\'s the jury-box,\" thought alice; \"and those twelve creatures (some were animals and some were birds) i suppose they are the jurors.\" just then the white rabbit cried out \"silence in the court!\" \"herald, read the accusation!\" said the king. [illustration] on this, the white rabbit blew three blasts on the trumpet, then unrolled the parchment-scroll and read as follows: \"the queen of hearts, she made some tarts, all on a summer day; the knave of hearts, he stole those tarts and took them quite away!\" \"call the first witness,\" said the king; and the white rabbit blew three blasts on the trumpet and called out, \"first witness!\" the first witness was the hatter. he came in with a teacup in one hand and a piece of bread and butter in the other. \"you ought to have finished,\" said the king. \"when did you begin?\" the hatter looked at the march hare, who had followed him into the court, arm in arm with the dormouse. \"fourteenth of march, i _think_ it was,\" he said. \"give your evidence,\" said the king, \"and don\\'t be nervous, or i\\'ll have you executed on the spot.\" this did not seem to encourage the witness at all; he kept shifting from one foot to the other, looking uneasily at the queen, and, in his confusion, he bit a large piece out of his teacup instead of the bread and butter. just at this moment alice felt a very curious sensation--she was beginning to grow larger again. the miserable hatter dropped his teacup and bread and butter and went down on one knee. \"i\\'m a poor man, your majesty,\" he began. \"you\\'re a _very_ poor _speaker_,\" said the king. \"you may go,\" said the king, and the hatter hurriedly left the court. \"call the next witness!\" said the king. the next witness was the duchess\\'s cook. she carried the pepper-box in her hand and the people near the door began sneezing all at once. \"give your evidence,\" said the king. \"sha\\'n\\'t,\" said the cook. the king looked anxiously at the white rabbit, who said, in a low voice, \"your majesty must cross-examine _this_ witness.\" \"well, if i must, i must,\" the king said. \"what are tarts made of?\" \"pepper, mostly,\" said the cook. for some minutes the whole court was in confusion and by the time they had settled down again, the cook had disappeared. \"never mind!\" said the king, \"call the next witness.\" alice watched the white rabbit as he fumbled over the list. imagine her surprise when he read out, at the top of his shrill little voice, the name \"alice!\"')]"
            ]
          },
          "metadata": {},
          "execution_count": 12
        }
      ]
    },
    {
      "cell_type": "code",
      "source": [],
      "metadata": {
        "id": "oyBKKoAXxNyv"
      },
      "execution_count": null,
      "outputs": []
    }
  ]
}