{
  "nbformat": 4,
  "nbformat_minor": 0,
  "metadata": {
    "colab": {
      "provenance": [],
      "authorship_tag": "ABX9TyOThFvQB2SzyDXMCttjWwEt",
      "include_colab_link": true
    },
    "kernelspec": {
      "name": "python3",
      "display_name": "Python 3"
    },
    "language_info": {
      "name": "python"
    }
  },
  "cells": [
    {
      "cell_type": "markdown",
      "metadata": {
        "id": "view-in-github",
        "colab_type": "text"
      },
      "source": [
        "<a href=\"https://colab.research.google.com/github/UniVR-DH/ADHLab/blob/main/lecture01_base.ipynb\" target=\"_parent\"><img src=\"https://colab.research.google.com/assets/colab-badge.svg\" alt=\"Open In Colab\"/></a>"
      ]
    },
    {
      "cell_type": "markdown",
      "source": [
        "# Simple example at parsing and cleaning a webpage\n",
        "\n",
        "<img src=\"https://drive.google.com/uc?export=view&id=1m_EMdnI5C826kgqK7r5vB4TXnB0-Wq7W\" alt=\"Intestazione con loghi istituzionali\" width=\"525\"/>\n",
        "\n",
        "| Docente      | Insegnamento | Anno Accademico    |\n",
        "| :---        |    :----   |          ---: |\n",
        "| Matteo Lissandrini      | Laboratorio Avanzato di Informatica Umanistica       | 2024/2025   |\n"
      ],
      "metadata": {
        "id": "EJext-GDZ3WE"
      }
    },
    {
      "cell_type": "code",
      "execution_count": 1,
      "metadata": {
        "id": "-FD4FoCxVP80"
      },
      "outputs": [],
      "source": [
        "# import required libraries to download webpages, parse html, run regular expressions\n",
        "\n",
        "import re   # regular expressions\n",
        "import string # utilities to manipulate text\n",
        "import requests    # download webpages\n",
        "from bs4 import BeautifulSoup   # parse HTML content"
      ]
    },
    {
      "cell_type": "code",
      "source": [
        "# prompt: download the html code of a webpage with some text, extract the body, print the first 500characters\n",
        "\n",
        "url = \"https://www.bibliotecacapitolare.it/institutional/343/studia/\"  # Replace with your desired URL\n",
        "\n",
        "#url = \"https://www.bibliotecacapitolare.it/institutional/395/regolamento-generale-per-le-visite/\"  # Replace with your desired URL\n",
        "response = requests.get(url)\n",
        "\n",
        "# Parse the HTML content using BeautifulSoup\n",
        "soup = BeautifulSoup(response.content, \"html.parser\")\n",
        "\n",
        "body = soup.body\n",
        "\n",
        "if body:\n",
        "  body_text = body.get_text()\n",
        "  print(body_text[:500])  # Print the first 500 characters of the body\n",
        "else:\n",
        "  print(\"Something went wrong...\")"
      ],
      "metadata": {
        "colab": {
          "base_uri": "https://localhost:8080/"
        },
        "id": "obXZRMiaVY0Y",
        "outputId": "677654ce-f94f-4bda-895c-b8a001ef708b"
      },
      "execution_count": 2,
      "outputs": [
        {
          "output_type": "stream",
          "name": "stdout",
          "text": [
            "\n",
            "\n",
            "\n",
            "\n",
            "\n",
            "BigliettiDonaStudiaOrganizzaOrganizza il tuo evento\n",
            "\n",
            "\t\t\t\t\t\t\t\t\t\t\t\t\t\t\t EN\n",
            "\t\t\t\t\t\t\t\t\t\t\t\t\t\t\n",
            "\n",
            "\n",
            "\n",
            "\n",
            "\t\t\t\t\t\t\t\t\t\t\t\t\t\t EN\n",
            "\t\t\t\t\t\t\t\t\t\t\t\t\t\n",
            "\n",
            "\n",
            "BigliettiDonaStudiaOrganizza\n",
            "\n",
            "\n",
            "\n",
            "\n",
            "\n",
            "Visita\n",
            "Prenota la tua visitaPasseggiata con il PrefettoDidatticaStudia\n",
            "\n",
            "\n",
            "Scopri\n",
            "Eventi e NewsI tesori della CapitolareI luoghi e la storiaOrganizza il tuo evento privatoDigital library\n",
            "\n",
            "\n",
            "Sostieni\n",
            "DonaCorporate partnershipMembership5 x mille\n",
            "\n",
            "\n",
            "La Fondazione\n",
            "Chi siamoPiano strategicoPartecipaContatti\n",
            "\n",
            "\n",
            "\n",
            "Visita\n",
            "\n",
            "Prenota la tua visitaPass\n"
          ]
        }
      ]
    },
    {
      "cell_type": "code",
      "source": [
        "# prepare a compiled regular expression to remove redundant whitespace and newlines from body_text\n",
        "\n",
        "# Compile a regular expression to match redundant whitespace and newlines\n",
        "whitespace_pattern = re.compile(r'\\s+')\n",
        "\n",
        "# Remove redundant whitespace and newlines using the compiled regex:\n",
        "# reduntant whitespace are replaced by single space\n",
        "cleaned_text = whitespace_pattern.sub(' ', body_text).strip()\n",
        "\n",
        "print(cleaned_text[:500])  # Print the first 500 characters of the cleaned body"
      ],
      "metadata": {
        "colab": {
          "base_uri": "https://localhost:8080/"
        },
        "id": "05o6UXJMWac7",
        "outputId": "b496d56e-436e-4a00-e6cb-a41c48c6af80"
      },
      "execution_count": 3,
      "outputs": [
        {
          "output_type": "stream",
          "name": "stdout",
          "text": [
            "BigliettiDonaStudiaOrganizzaOrganizza il tuo evento EN EN BigliettiDonaStudiaOrganizza Visita Prenota la tua visitaPasseggiata con il PrefettoDidatticaStudia Scopri Eventi e NewsI tesori della CapitolareI luoghi e la storiaOrganizza il tuo evento privatoDigital library Sostieni DonaCorporate partnershipMembership5 x mille La Fondazione Chi siamoPiano strategicoPartecipaContatti Visita Prenota la tua visitaPasseggiata con il PrefettoDidatticaStudia Scopri Eventi e NewsI tesori della CapitolareI l\n"
          ]
        }
      ]
    },
    {
      "cell_type": "code",
      "source": [
        "# Add a space before a capital letter in the middle of a word\n",
        "# 'visitaPasseggiata' becomes  'visita Passeggiata'\n",
        "capital_in_middle_pattern = re.compile(r'([a-z])([A-Z])')\n",
        "modified_text = capital_in_middle_pattern.sub(r'\\1 \\2', cleaned_text)\n",
        "\n",
        "print(modified_text[:500])"
      ],
      "metadata": {
        "colab": {
          "base_uri": "https://localhost:8080/"
        },
        "id": "C5OGRCkaXpul",
        "outputId": "ba842333-f9cf-481e-af90-51458c56bfb1"
      },
      "execution_count": 4,
      "outputs": [
        {
          "output_type": "stream",
          "name": "stdout",
          "text": [
            "Biglietti Dona Studia Organizza Organizza il tuo evento EN EN Biglietti Dona Studia Organizza Visita Prenota la tua visita Passeggiata con il Prefetto Didattica Studia Scopri Eventi e News I tesori della Capitolare I luoghi e la storia Organizza il tuo evento privato Digital library Sostieni Dona Corporate partnership Membership5 x mille La Fondazione Chi siamo Piano strategico Partecipa Contatti Visita Prenota la tua visita Passeggiata con il Prefetto Didattica Studia Scopri Eventi e News I tes\n"
          ]
        }
      ]
    },
    {
      "cell_type": "code",
      "source": [
        "# More about Regex:\n",
        "# - https://en.wikipedia.org/wiki/Regular_expression\n",
        "# - https://web.stanford.edu/~jurafsky/slp3/2.pdf\n",
        "# - https://regexone.com/\n",
        "punct_regex = re.compile('[{}]'.format(re.escape(string.punctuation))) # Regex matching any punctuation\n",
        "space_regex = re.compile(' +') # Regex matching whitespace but not newlines"
      ],
      "metadata": {
        "id": "nVpbDUufnSXI"
      },
      "execution_count": 5,
      "outputs": []
    },
    {
      "cell_type": "code",
      "source": [
        "# extract word count from modified_text: create a dictionar of word frequencies\n",
        "\n",
        "# Remove punctuation and convert to lowercase\n",
        "modified_text = punct_regex.sub('', modified_text).lower()\n",
        "\n",
        "# Split the text into words\n",
        "words = space_regex.split(modified_text)\n",
        "\n",
        "# Create a dictionary to store word frequencies\n",
        "word_frequencies = {}\n",
        "\n",
        "# Count the frequency of each word\n",
        "for word in words:\n",
        "    if word:  # Ignore empty strings\n",
        "        if word not in word_frequencies:\n",
        "            word_frequencies[word] = 1\n",
        "        else:\n",
        "            word_frequencies[word] += 1\n",
        "\n",
        "\n",
        "num_words = len(words)\n",
        "\n",
        "print(\"total words \", num_words)\n",
        "print(\"total distinct words\", len(word_frequencies))"
      ],
      "metadata": {
        "colab": {
          "base_uri": "https://localhost:8080/"
        },
        "id": "5IMyrYLPoJAH",
        "outputId": "3afd25db-e121-40c3-c3bc-42402d65d801"
      },
      "execution_count": 6,
      "outputs": [
        {
          "output_type": "stream",
          "name": "stdout",
          "text": [
            "total words  992\n",
            "total distinct words 502\n"
          ]
        }
      ]
    },
    {
      "cell_type": "code",
      "source": [
        "base_url = \"https://www.bibliotecacapitolare.it\"\n",
        "links = []\n",
        "\n",
        "for link in soup.find_all('a', href=True):\n",
        "  href = link['href']\n",
        "  if href.startswith('/') or href.startswith(base_url):\n",
        "    if href.startswith('/'):\n",
        "      href = base_url + href\n",
        "    if base_url in href:\n",
        "      links.append(href)\n",
        "\n",
        "print(list(set(links)))"
      ],
      "metadata": {
        "colab": {
          "base_uri": "https://localhost:8080/"
        },
        "id": "43wIVuhjYE-e",
        "outputId": "1915001a-fc49-4864-b868-ebf2af16bf39"
      },
      "execution_count": 7,
      "outputs": [
        {
          "output_type": "stream",
          "name": "stdout",
          "text": [
            "['https://www.bibliotecacapitolare.it/institutional/41439/partner/', 'https://www.bibliotecacapitolare.it/institutional/344/libreria-digitale/', 'https://www.bibliotecacapitolare.it/landing-user/?lan=it', 'https://www.bibliotecacapitolare.it/institutional/423/privacy-policy', 'https://www.bibliotecacapitolare.it/packages/?step=2', 'https://www.bibliotecacapitolare.it/institutional/347/soci/', 'https://www.bibliotecacapitolare.it/institutional/422/amministrazione-trasparente/?lan=it', 'https://www.bibliotecacapitolare.it/', 'https://www.bibliotecacapitolare.it/institutional/343/studia/', 'https://www.bibliotecacapitolare.it/institutional/388/5x1000/', 'https://www.bibliotecacapitolare.it/landing-campus/', 'https://www.bibliotecacapitolare.it/institutional/422/amministrazione-trasparente', 'https://www.bibliotecacapitolare.it/?step=1', 'https://www.bibliotecacapitolare.it/institutional/387/didattica/', 'https://www.bibliotecacapitolare.it/angels/?city=', 'https://www.bibliotecacapitolare.it/institutional/346/volontari/', 'https://www.bibliotecacapitolare.it/institutional/345/partnership-aziendale/', 'https://www.bibliotecacapitolare.it/institutional/348/chi-siamo/', 'https://www.bibliotecacapitolare.it/institutional/423/privacy-policy/?lan=en', 'https://www.bibliotecacapitolare.it/?step=6', 'https://www.bibliotecacapitolare.it/landing-landlord/?lan=it', 'https://www.bibliotecacapitolare.it/event/', 'https://www.bibliotecacapitolare.it/institutional/3607/privacy/', 'https://www.bibliotecacapitolare.it/institutional/343/studia/?lan=en', 'https://www.bibliotecacapitolare.it/workspace/uploads/bibliografia20240613.pdf', 'https://www.bibliotecacapitolare.it/institutional/410/contatti/', 'https://www.bibliotecacapitolare.it/institutional/351/piano-strategico/', 'https://www.bibliotecacapitolare.it/tours/', 'https://www.bibliotecacapitolare.it/exhibitions/', 'https://www.bibliotecacapitolare.it/institutional/41515/about/', 'https://www.bibliotecacapitolare.it/exhibition/384/passeggiata-con-il-prefetto/', 'https://www.bibliotecacapitolare.it/institutional/341/sostieni-la-capitolare/', 'https://www.bibliotecacapitolare.it/packages/?step=1', 'https://www.bibliotecacapitolare.it/?step=2', 'https://www.bibliotecacapitolare.it/institutional/141/privacy/', 'https://www.bibliotecacapitolare.it/place/76/i-tesori-della-capitolare/', 'https://www.bibliotecacapitolare.it/?step=4', 'https://www.bibliotecacapitolare.it/institutional/3606/terms-conditions/', 'https://www.bibliotecacapitolare.it/istitutional/43/privacy/', 'https://www.bibliotecacapitolare.it/?step=3', 'https://www.bibliotecacapitolare.it/institutional/350/i-luoghi-&-la-storia/', 'https://www.bibliotecacapitolare.it/?step=5']\n"
          ]
        }
      ]
    },
    {
      "cell_type": "code",
      "source": [
        "# return the top 20 most frequent words in word_frequencies\n",
        "from collections import Counter\n",
        "\n",
        "# Assuming word_frequencies is defined as in your code snippet\n",
        "# (a dictionary mapping words to their frequencies)\n",
        "\n",
        "# Create a counter object\n",
        "# It is a collection where elements are stored as dictionary keys and their counts are stored as dictionary values.\n",
        "words_counter  = Counter(word_frequencies)\n",
        "\n",
        "\n",
        "# Get the top 20 most frequent words\n",
        "top_words = words_counter.most_common(20)\n",
        "\n",
        "top_words"
      ],
      "metadata": {
        "colab": {
          "base_uri": "https://localhost:8080/"
        },
        "id": "zRerBN5jYcV1",
        "outputId": "20ca3c13-c076-44e8-f5f4-21a2f4e91f41"
      },
      "execution_count": 8,
      "outputs": [
        {
          "output_type": "execute_result",
          "data": {
            "text/plain": [
              "[('e', 31),\n",
              " ('di', 26),\n",
              " ('la', 23),\n",
              " ('a', 21),\n",
              " ('per', 13),\n",
              " ('da', 13),\n",
              " ('il', 12),\n",
              " ('email', 11),\n",
              " ('è', 11),\n",
              " ('con', 10),\n",
              " ('i', 10),\n",
              " ('della', 10),\n",
              " ('capitolare', 9),\n",
              " ('dei', 9),\n",
              " ('sala', 9),\n",
              " ('al', 9),\n",
              " ('in', 8),\n",
              " ('password', 8),\n",
              " ('biblioteca', 7),\n",
              " ('del', 7)]"
            ]
          },
          "metadata": {},
          "execution_count": 8
        }
      ]
    },
    {
      "cell_type": "code",
      "source": [
        "# plot histogram of word_frequencies sorted in descending order\n",
        "import matplotlib.pyplot as plt\n",
        "\n",
        "\n",
        "# Extract words and frequencies for the top 20 words\n",
        "words = [ w for w,count in words_counter.most_common(20) ]\n",
        "frequencies = [ count for w,count in words_counter.most_common(20) ]\n",
        "# To obtain the values in the 0-1 range we can divide by num_words\n",
        "# frequencies = [ count/num_words for w,count in words_counter.most_common(20) ]\n",
        "\n",
        "# Plot the histogram\n",
        "plt.figure(figsize=(10, 6))\n",
        "plt.bar(words[:20], frequencies[:20])\n",
        "plt.xlabel('Words')\n",
        "plt.ylabel('Frequency')\n",
        "#plt.yscale('log', base=10)\n",
        "plt.title('Histogram of top20 Word Frequencies (Sorted in Descending Order)')\n",
        "plt.xticks(rotation=90)  # Rotate x-axis labels for better readability\n",
        "plt.tight_layout()\n",
        "plt.show()"
      ],
      "metadata": {
        "colab": {
          "base_uri": "https://localhost:8080/",
          "height": 607
        },
        "id": "v5C5Ei6eNySe",
        "outputId": "ec58f483-4c17-4f19-df58-32d7d5997563"
      },
      "execution_count": 10,
      "outputs": [
        {
          "output_type": "display_data",
          "data": {
            "text/plain": [
              "<Figure size 1000x600 with 1 Axes>"
            ],
            "image/png": "[encoded data removed]"
          },
          "metadata": {}
        }
      ]
    },
    {
      "cell_type": "code",
      "source": [
        "# function to compute the normlized frequency of element of rank k\n",
        "# with zipfian law over N elements with parameter s\n",
        "\n",
        "def zipfian_normalized_frequency(k, N, s):\n",
        "  \"\"\"\n",
        "  Computes the normalized frequency of the element of rank k\n",
        "  following Zipf's law over N elements with parameter s.\n",
        "\n",
        "  Args:\n",
        "    k: The rank of the element (1 for the most frequent).\n",
        "    N: The total number of elements.\n",
        "    s: The Zipfian parameter (s > 1).\n",
        "\n",
        "  Returns:\n",
        "    The normalized frequency of the element of rank k.\n",
        "  \"\"\"\n",
        "  if k <= 0 or k > N or s <= 0:\n",
        "    return 0  # Invalid input\n",
        "\n",
        "  frequency = 1 / (k ** s)\n",
        "  normalized_frequency = frequency / sum(1 / (i ** s) for i in range(1, N + 1))\n",
        "  return normalized_frequency\n",
        "\n",
        "print(zipfian_normalized_frequency(1, num_words, 1))\n",
        "print(zipfian_normalized_frequency(2, num_words, 1))\n",
        "print(zipfian_normalized_frequency(3, num_words, 1))\n",
        "\n",
        "print(zipfian_normalized_frequency(1, num_words, 3))\n",
        "print(zipfian_normalized_frequency(2, num_words, 3))\n",
        "print(zipfian_normalized_frequency(3, num_words, 3))\n"
      ],
      "metadata": {
        "colab": {
          "base_uri": "https://localhost:8080/"
        },
        "id": "EsnI7S31MJIj",
        "outputId": "dc8398ba-b3c6-44e1-9bfe-cd3eb45bd4f9"
      },
      "execution_count": 11,
      "outputs": [
        {
          "output_type": "stream",
          "name": "stdout",
          "text": [
            "0.1337355614048592\n",
            "0.0668677807024296\n",
            "0.0445785204682864\n",
            "0.8319077238652125\n",
            "0.10398846548315156\n",
            "0.030811397180193056\n"
          ]
        }
      ]
    },
    {
      "cell_type": "code",
      "source": [
        "# function to compute, according to heap's law, the number estimated\n",
        "# of distinct words in an instance text of size N with K and beta as parameters\n",
        "from math import ceil\n",
        "def heaps_law_estimate(N, K, beta):\n",
        "  \"\"\"\n",
        "  Estimates the number of distinct words in a text of length N\n",
        "  using Heap's Law with parameters K and beta.\n",
        "\n",
        "  Args:\n",
        "    N: The length of the text (number of words).\n",
        "    K: Parameter K of Heap's Law.\n",
        "    beta: Parameter beta of Heap's Law.\n",
        "\n",
        "  Returns:\n",
        "    The estimated number of distinct words.\n",
        "  \"\"\"\n",
        "  return ceil(K * (N ** beta))  #round up\n",
        "\n",
        "\n",
        "# Example usage:\n",
        "N = num_words  # Replace with the actual number of words in your text\n",
        "K = 10  # Example value for K (adjust as needed)\n",
        "beta = 0.65  # Example value for beta (adjust as needed)\n",
        "\n",
        "estimated_distinct_words = heaps_law_estimate(N, K, beta)\n",
        "print(\"Estimated number of distinct words:\", estimated_distinct_words)"
      ],
      "metadata": {
        "colab": {
          "base_uri": "https://localhost:8080/"
        },
        "id": "G2N3pZ95Pqpj",
        "outputId": "de70ab1e-b0df-4a98-987f-8d0884402801"
      },
      "execution_count": 13,
      "outputs": [
        {
          "output_type": "stream",
          "name": "stdout",
          "text": [
            "Estimated number of distinct words: 887\n"
          ]
        }
      ]
    },
    {
      "cell_type": "code",
      "source": [],
      "metadata": {
        "id": "2UDqS9CWPG5G"
      },
      "execution_count": null,
      "outputs": []
    }
  ]
}