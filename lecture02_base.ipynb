{
  "nbformat": 4,
  "nbformat_minor": 0,
  "metadata": {
    "colab": {
      "provenance": [],
      "include_colab_link": true
    },
    "kernelspec": {
      "name": "python3",
      "display_name": "Python 3"
    },
    "language_info": {
      "name": "python"
    }
  },
  "cells": [
    {
      "cell_type": "markdown",
      "metadata": {
        "id": "view-in-github",
        "colab_type": "text"
      },
      "source": [
        "<a href=\"https://colab.research.google.com/github/UniVR-DH/ADHLab/blob/main/lecture02_base.ipynb\" target=\"_parent\"><img src=\"https://colab.research.google.com/assets/colab-badge.svg\" alt=\"Open In Colab\"/></a>"
      ]
    },
    {
      "cell_type": "markdown",
      "source": [
        "# Experimenting with Word Frequencies\n"
      ],
      "metadata": {
        "id": "4MNB7PsQ99Bx"
      }
    },
    {
      "cell_type": "markdown",
      "source": [
        "<img src=\"https://drive.google.com/uc?export=view&id=1m_EMdnI5C826kgqK7r5vB4TXnB0-Wq7W\" alt=\"Intestazione con loghi istituzionali\" width=\"525\"/>\n",
        "\n",
        "| Docente      | Insegnamento | Anno Accademico    |\n",
        "| :---        |    :----   |          ---: |\n",
        "| Matteo Lissandrini      | Laboratorio Avanzato di Informatica Umanistica       | 2024/2025   |"
      ],
      "metadata": {
        "id": "dChTXqspd6TT"
      }
    },
    {
      "cell_type": "markdown",
      "source": [
        "## Usual install and basic imports"
      ],
      "metadata": {
        "id": "GXBM6I9FeBmc"
      }
    },
    {
      "cell_type": "code",
      "source": [
        "%pip install wikipedia-api"
      ],
      "metadata": {
        "id": "pmOC8TtR5Wm5",
        "colab": {
          "base_uri": "https://localhost:8080/"
        },
        "outputId": "97fb3e06-0dc8-449b-c4e9-192ba9c27e17"
      },
      "execution_count": 1,
      "outputs": [
        {
          "output_type": "stream",
          "name": "stdout",
          "text": [
            "Collecting wikipedia-api\n",
            "  Downloading wikipedia_api-0.7.1.tar.gz (17 kB)\n",
            "  Preparing metadata (setup.py) ... \u001b[?25l\u001b[?25hdone\n",
            "Requirement already satisfied: requests in /usr/local/lib/python3.10/dist-packages (from wikipedia-api) (2.32.3)\n",
            "Requirement already satisfied: charset-normalizer<4,>=2 in /usr/local/lib/python3.10/dist-packages (from requests->wikipedia-api) (3.4.0)\n",
            "Requirement already satisfied: idna<4,>=2.5 in /usr/local/lib/python3.10/dist-packages (from requests->wikipedia-api) (3.10)\n",
            "Requirement already satisfied: urllib3<3,>=1.21.1 in /usr/local/lib/python3.10/dist-packages (from requests->wikipedia-api) (2.2.3)\n",
            "Requirement already satisfied: certifi>=2017.4.17 in /usr/local/lib/python3.10/dist-packages (from requests->wikipedia-api) (2024.8.30)\n",
            "Building wheels for collected packages: wikipedia-api\n",
            "  Building wheel for wikipedia-api (setup.py) ... \u001b[?25l\u001b[?25hdone\n",
            "  Created wheel for wikipedia-api: filename=Wikipedia_API-0.7.1-py3-none-any.whl size=14346 sha256=b30bba5d37a70d14eb85eb82867cd22423063fe50fc2a749478f6acbe16ae0f2\n",
            "  Stored in directory: /root/.cache/pip/wheels/4c/96/18/b9201cc3e8b47b02b510460210cfd832ccf10c0c4dd0522962\n",
            "Successfully built wikipedia-api\n",
            "Installing collected packages: wikipedia-api\n",
            "Successfully installed wikipedia-api-0.7.1\n"
          ]
        }
      ]
    },
    {
      "cell_type": "code",
      "source": [
        "import math\n",
        "import string\n",
        "import numpy as np\n",
        "\n",
        "import regex as re\n",
        "\n",
        "import matplotlib.pyplot as plt\n",
        "\n",
        "from collections import Counter"
      ],
      "metadata": {
        "id": "miPm486TF629"
      },
      "execution_count": 2,
      "outputs": []
    },
    {
      "cell_type": "markdown",
      "source": [
        "## Declare Wikipedia API Object to download pages"
      ],
      "metadata": {
        "id": "vOFvsPfreLTT"
      }
    },
    {
      "cell_type": "code",
      "source": [
        "import wikipediaapi\n",
        "# We use the  wikipediaapi to download pages from wikipeda\n",
        "wapi_text = wikipediaapi.Wikipedia('MyProjectName (name@studenti.univr.it)',\n",
        "                                   'en',\n",
        "                                   extract_format=wikipediaapi.ExtractFormat.WIKI)\n",
        "\n",
        "punct_regex = re.compile('[{}]'.format(re.escape(string.punctuation))) # Regex matching any punctuation\n",
        "space_regex = re.compile(' +') # Regex matching whitespace"
      ],
      "metadata": {
        "id": "f2ymnwhM7PGX"
      },
      "execution_count": 3,
      "outputs": []
    },
    {
      "cell_type": "markdown",
      "source": [
        "### Download a page, verify the properties of word frequencies\n",
        "\n",
        "**Compare different pages and the same page in different languages**"
      ],
      "metadata": {
        "id": "zzYNeqRXeSQa"
      }
    },
    {
      "cell_type": "code",
      "source": [
        "page_py = wapi_text.page('New York City')\n",
        "print(\"Page - Exists: %s\" % page_py.exists())\n",
        "print(page_py.text[:140])  #print first 140 characters\n",
        "print(page_py.text[-140:])  #print last 140 characters\n",
        "\n",
        "page_tokens = space_regex.sub(' ', punct_regex.sub(' ', page_py.text.lower())).strip().split()\n",
        "print(\"Total words: \", len(page_tokens))\n",
        "# Create the bag of words\n",
        "page_bow = Counter(page_tokens)\n",
        "\n",
        "print(\"Distinct words: \", len(page_bow))"
      ],
      "metadata": {
        "colab": {
          "base_uri": "https://localhost:8080/"
        },
        "id": "9peoLRdX5yfJ",
        "outputId": "8dabe01f-26f4-4938-afe1-89d34cfb8438"
      },
      "execution_count": 4,
      "outputs": [
        {
          "output_type": "stream",
          "name": "stdout",
          "text": [
            "Page - Exists: True\n",
            "New York, often called New York City or NYC, is the most populous city in the United States, located at the southern tip of New York State o\n",
            " 145,000 NYC photographs at the Museum of the City of New York\n",
            "\"The New New York Skyline (interactive)\". National Geographic. November 2015.\n",
            "Total words:  15800\n",
            "Distinct words:  3393\n"
          ]
        }
      ]
    },
    {
      "cell_type": "code",
      "source": [
        "# Plot the histogram for the frequency of the most common words\n",
        "words, counts = zip(*page_bow.most_common(30))\n",
        "indexes = np.arange(len(words))\n",
        "\n",
        "bar_width = 0.35\n",
        "\n",
        "# Prepare figure with bars\n",
        "plt.figure(figsize=(16,9))\n",
        "plt.bar(indexes, counts)\n",
        "\n",
        "# add labels\n",
        "plt.xticks(indexes + bar_width, words, rotation=90)\n",
        "plt.show()"
      ],
      "metadata": {
        "colab": {
          "base_uri": "https://localhost:8080/",
          "height": 759
        },
        "id": "SXUmbAa0k6r3",
        "outputId": "fcc87456-b0f4-4f37-8ee5-4764520443da"
      },
      "execution_count": 5,
      "outputs": [
        {
          "output_type": "display_data",
          "data": {
            "text/plain": [
              "<Figure size 1600x900 with 1 Axes>"
            ],
            "image/png": "[encoded data removed]"
          },
          "metadata": {}
        }
      ]
    },
    {
      "cell_type": "code",
      "source": [
        "# TODO: Try repeat the code above with a new page"
      ],
      "metadata": {
        "id": "1MBDvtUHPT01"
      },
      "execution_count": 6,
      "outputs": []
    },
    {
      "cell_type": "markdown",
      "source": [
        "## Find most common words across multiple pages\n"
      ],
      "metadata": {
        "id": "22QHjn-M2tzb"
      }
    },
    {
      "cell_type": "code",
      "source": [
        "# Analyze NY\n",
        "page_py1 = wapi_text.page('New York City')\n",
        "page_tokens1 = space_regex.sub(' ', punct_regex.sub(' ', page_py1.text.lower())).strip().split()\n",
        "print(\"Total words for 'New York City' \", len(page_tokens1))\n",
        "page_bow1 = Counter(page_tokens1)\n",
        "print(page_bow1.most_common(10))\n",
        "\n",
        "# Analyze Botticelli\n",
        "page_py2 = wapi_text.page('Sandro_Botticelli')\n",
        "page_tokens2 = space_regex.sub(' ', punct_regex.sub(' ', page_py2.text.lower())).strip().split()\n",
        "print(\"Total words for 'Sandro_Botticelli \", len(page_tokens2))\n",
        "page_bow2 = Counter(page_tokens2)\n",
        "print(page_bow2.most_common(10))\n",
        "\n",
        "#TODO: Analyze another page\n",
        "\n",
        "\n",
        "\n",
        "#TODO Find the words that appear in top-50 most commons in all pages\n",
        "\n"
      ],
      "metadata": {
        "id": "vb72S-qd2IC7",
        "outputId": "d2466d56-06d0-4fe5-8f61-0eb134a6b221",
        "colab": {
          "base_uri": "https://localhost:8080/"
        }
      },
      "execution_count": 7,
      "outputs": [
        {
          "output_type": "stream",
          "name": "stdout",
          "text": [
            "Total words for 'New York City'  15800\n",
            "[('the', 1266), ('of', 562), ('in', 558), ('and', 517), ('new', 428), ('city', 391), ('york', 374), ('to', 219), ('is', 204), ('s', 200)]\n",
            "Total words for 'Sandro_Botticelli  8759\n",
            "[('the', 601), ('of', 363), ('in', 248), ('and', 230), ('a', 207), ('to', 152), ('botticelli', 147), ('his', 129), ('was', 103), ('s', 94)]\n"
          ]
        }
      ]
    }
  ]
}