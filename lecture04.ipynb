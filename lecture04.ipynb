{
  "nbformat": 4,
  "nbformat_minor": 0,
  "metadata": {
    "colab": {
      "provenance": [],
      "include_colab_link": true
    },
    "kernelspec": {
      "name": "python3",
      "display_name": "Python 3"
    },
    "language_info": {
      "name": "python"
    }
  },
  "cells": [
    {
      "cell_type": "markdown",
      "metadata": {
        "id": "view-in-github",
        "colab_type": "text"
      },
      "source": [
        "<a href=\"https://colab.research.google.com/github/UniVR-DH/ADHLab/blob/main/lecture04.ipynb\" target=\"_parent\"><img src=\"https://colab.research.google.com/assets/colab-badge.svg\" alt=\"Open In Colab\"/></a>"
      ]
    },
    {
      "cell_type": "markdown",
      "source": [
        "# Testing Document Relevance with TF-IDF & BM25\n"
      ],
      "metadata": {
        "id": "4MNB7PsQ99Bx"
      }
    },
    {
      "cell_type": "markdown",
      "source": [
        "<img src=\"https://drive.google.com/uc?export=view&id=1m_EMdnI5C826kgqK7r5vB4TXnB0-Wq7W\" alt=\"Intestazione con loghi istituzionali\" width=\"525\"/>\n",
        "\n",
        "| Docente      | Insegnamento | Anno Accademico    |\n",
        "| :---        |    :----   |          ---: |\n",
        "| Matteo Lissandrini      | Laboratorio Avanzato di Informatica Umanistica       | 2023/2024   |"
      ],
      "metadata": {
        "id": "dChTXqspd6TT"
      }
    },
    {
      "cell_type": "markdown",
      "source": [
        "## Usual install and basic imports"
      ],
      "metadata": {
        "id": "GXBM6I9FeBmc"
      }
    },
    {
      "cell_type": "code",
      "source": [
        "%pip install wikipedia-api\n",
        "%pip install rank_bm25"
      ],
      "metadata": {
        "id": "pmOC8TtR5Wm5",
        "colab": {
          "base_uri": "https://localhost:8080/"
        },
        "outputId": "3d43972f-06ad-4450-be44-bcfce55478f2"
      },
      "execution_count": 1,
      "outputs": [
        {
          "output_type": "stream",
          "name": "stdout",
          "text": [
            "Collecting wikipedia-api\n",
            "  Downloading Wikipedia_API-0.6.0-py3-none-any.whl (14 kB)\n",
            "Requirement already satisfied: requests in /usr/local/lib/python3.10/dist-packages (from wikipedia-api) (2.31.0)\n",
            "Requirement already satisfied: charset-normalizer<4,>=2 in /usr/local/lib/python3.10/dist-packages (from requests->wikipedia-api) (3.3.2)\n",
            "Requirement already satisfied: idna<4,>=2.5 in /usr/local/lib/python3.10/dist-packages (from requests->wikipedia-api) (3.4)\n",
            "Requirement already satisfied: urllib3<3,>=1.21.1 in /usr/local/lib/python3.10/dist-packages (from requests->wikipedia-api) (2.0.7)\n",
            "Requirement already satisfied: certifi>=2017.4.17 in /usr/local/lib/python3.10/dist-packages (from requests->wikipedia-api) (2023.7.22)\n",
            "Installing collected packages: wikipedia-api\n",
            "Successfully installed wikipedia-api-0.6.0\n",
            "Collecting rank_bm25\n",
            "  Downloading rank_bm25-0.2.2-py3-none-any.whl (8.6 kB)\n",
            "Requirement already satisfied: numpy in /usr/local/lib/python3.10/dist-packages (from rank_bm25) (1.23.5)\n",
            "Installing collected packages: rank_bm25\n",
            "Successfully installed rank_bm25-0.2.2\n"
          ]
        }
      ]
    },
    {
      "cell_type": "code",
      "source": [
        "import gzip\n",
        "import math\n",
        "import string\n",
        "import requests\n",
        "import numpy as np\n",
        "import regex as re\n",
        "import matplotlib.pyplot as plt\n",
        "from collections import Counter"
      ],
      "metadata": {
        "id": "miPm486TF629"
      },
      "execution_count": 2,
      "outputs": []
    },
    {
      "cell_type": "code",
      "source": [
        "punct_regex = re.compile('[{}]'.format(re.escape(string.punctuation))) # Regex matching any punctuation\n",
        "space_regex = re.compile(' +') # Regex matching whitespace"
      ],
      "metadata": {
        "id": "0drW0pfEuOFr"
      },
      "execution_count": 7,
      "outputs": []
    },
    {
      "cell_type": "markdown",
      "source": [
        "## Goal:  build a search engine on chapters of Alice in Wonderland and Aesop's Fables\n",
        "\n"
      ],
      "metadata": {
        "id": "zzYNeqRXeSQa"
      }
    },
    {
      "cell_type": "code",
      "source": [
        "inverted_index = {}\n",
        "    # In this index we use a key the keyword\n",
        "    # and as value a dictionary for  (document, page) to save word frequency\n",
        "\n",
        "\n",
        "page_statistics = {}\n",
        "    # in this dictionary we save data about each page, key is the (document, page)\n",
        "    # and data will be length as number of words\n",
        "\n"
      ],
      "metadata": {
        "id": "x_vRKF5WpniA"
      },
      "execution_count": 34,
      "outputs": []
    },
    {
      "cell_type": "code",
      "source": [
        "def get_pages(book_text):\n",
        "  \"\"\"\n",
        "  Function that given  the book text returns a list of pages\n",
        "  \"\"\"\n",
        "  _pages = book_text.split(\"\\n\\r\\n\\r\\n\\r\")\n",
        "  _pages = [ space_regex.sub(' ', page).strip() for page in _pages ]\n",
        "  _pages = [ space_regex.sub(' ', \" \".join(page.splitlines())) for page in _pages ]\n",
        "  _pages = [ page for page in _pages if page != \"\" ]\n",
        "\n",
        "  return _pages\n",
        "\n",
        "\n",
        "def add_to_index(text_pages, inverted_index, page_statistics, book_name=\"\"):\n",
        "  \"\"\"\n",
        "  Indexing function\n",
        "  This function indexes only words!\n",
        "  \"\"\"\n",
        "  print('===')\n",
        "  print(\"Indexing {} pages\".format(len(text_pages)))\n",
        "\n",
        "  # index page by page\n",
        "  num_pages = len(text_pages)\n",
        "  distinct_words = set()\n",
        "  for page_number, page in enumerate(text_pages):\n",
        "    page_word_list = page.split(' ')\n",
        "\n",
        "    page_statistics[(book_name, page_number)]= len(page_word_list)\n",
        "\n",
        "    for position, word in enumerate(page_word_list):\n",
        "        index_entry = inverted_index.setdefault(word, {})\n",
        "        distinct_words.add(word)\n",
        "        word_frequency = index_entry.get((book_name, page_number), 0)\n",
        "        index_entry[(book_name, page_number)] = word_frequency + 1\n",
        "\n",
        "  print('Indexed {} words over {} pages'.format(len(distinct_words), num_pages))\n",
        "\n",
        "\n"
      ],
      "metadata": {
        "id": "oDvifMzNp-ve"
      },
      "execution_count": 20,
      "outputs": []
    },
    {
      "cell_type": "code",
      "source": [
        "# request the raw text of Alice in Wonderland\n",
        "r = requests.get(r'https://ia801604.us.archive.org/6/items/alicesadventures19033gut/19033.txt')\n",
        "alice = r.text\n",
        "\n",
        "alice_pages = get_pages(alice)\n",
        "\n",
        "\n",
        "add_to_index(alice_pages, inverted_index, page_statistics, \"Alice\")\n",
        "\n",
        "r = requests.get(r'https://ia600906.us.archive.org/29/items/aesopsfablesanew11339gut/11339.txt')\n",
        "fables = r.text\n",
        "\n",
        "fables_pages = get_pages(fables)\n",
        "add_to_index(fables_pages, inverted_index, page_statistics, \"Fables\")\n"
      ],
      "metadata": {
        "id": "AZXAKNfk8Y_w",
        "outputId": "598444a9-b8bd-4b8b-9926-8ac897948369",
        "colab": {
          "base_uri": "https://localhost:8080/"
        }
      },
      "execution_count": 21,
      "outputs": [
        {
          "output_type": "stream",
          "name": "stdout",
          "text": [
            "===\n",
            "Indexing 19 pages\n",
            "Indexed 3410 words over 19 pages\n",
            "===\n",
            "Indexing 294 pages\n",
            "Indexed 8164 words over 294 pages\n"
          ]
        }
      ]
    },
    {
      "cell_type": "code",
      "source": [
        "print(inverted_index[\"Alice\"])\n",
        "print(inverted_index[\"white\"])\n",
        "print(inverted_index[\"rose\"])\n",
        "print(inverted_index[\"fox\"])"
      ],
      "metadata": {
        "id": "OW8WNKmAUOKM",
        "colab": {
          "base_uri": "https://localhost:8080/"
        },
        "outputId": "cc35563b-f8a1-47aa-965a-3313cdfb66ad"
      },
      "execution_count": 26,
      "outputs": [
        {
          "output_type": "stream",
          "name": "stdout",
          "text": [
            "{('Alice', 0): 4, ('Alice', 2): 2, ('Alice', 7): 28, ('Alice', 8): 16, ('Alice', 9): 20, ('Alice', 10): 24, ('Alice', 11): 22, ('Alice', 12): 20, ('Alice', 13): 16, ('Alice', 14): 34, ('Alice', 15): 6, ('Alice', 16): 8, ('Alice', 17): 2}\n",
            "{('Alice', 8): 6, ('Alice', 10): 4, ('Alice', 14): 2, ('Fables', 3): 4, ('Fables', 76): 4, ('Fables', 154): 2}\n",
            "{('Alice', 16): 2, ('Fables', 26): 2, ('Fables', 219): 2}\n",
            "{('Fables', 3): 8, ('Fables', 89): 2, ('Fables', 97): 2, ('Fables', 123): 2}\n"
          ]
        }
      ]
    },
    {
      "cell_type": "markdown",
      "source": [
        "**TF-IDF  Formula**\n",
        "![TF_IDF.png](data:image/png;base64,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)"
      ],
      "metadata": {
        "id": "QENhQxC6ylpD"
      }
    },
    {
      "cell_type": "code",
      "source": [
        "# TODO: what is the TF-IDF relevance for each query/page?"
      ],
      "metadata": {
        "id": "5W6FJ2YDvM4n"
      },
      "execution_count": 33,
      "outputs": []
    },
    {
      "cell_type": "code",
      "source": [],
      "metadata": {
        "id": "3dbn3AaPy8Gt"
      },
      "execution_count": null,
      "outputs": []
    },
    {
      "cell_type": "markdown",
      "source": [
        "## Using BM25"
      ],
      "metadata": {
        "id": "5aqq177EwfdQ"
      }
    },
    {
      "cell_type": "code",
      "source": [
        "from rank_bm25 import BM25Okapi\n",
        "\n",
        "\n",
        "bm25_alice = BM25Okapi([_page.split(\" \") for _page in alice_pages])\n",
        "\n",
        "query = \"white rabbit\"\n",
        "tokenized_query = query.split(\" \")\n",
        "\n",
        "doc_scores = bm25_alice.get_scores(tokenized_query)\n",
        "print([ (id, score) for id, score in  enumerate(doc_scores) if score > 0 ])\n",
        "\n",
        "bm25_alice.get_top_n(tokenized_query, alice_pages, n=1)"
      ],
      "metadata": {
        "colab": {
          "base_uri": "https://localhost:8080/"
        },
        "id": "M0aT2xHSwgvF",
        "outputId": "70abfb24-a243-4116-870a-6aff6cfe3e7f"
      },
      "execution_count": 32,
      "outputs": [
        {
          "output_type": "stream",
          "name": "stdout",
          "text": [
            "[(7, 1.7325403378321267), (8, 2.1968624956863216), (10, 1.6792970436782613), (14, 1.1847792904574401)]\n"
          ]
        },
        {
          "output_type": "execute_result",
          "data": {
            "text/plain": [
              "['II--THE POOL OF TEARS \"Curiouser and curiouser!\" cried Alice (she was so much surprised that for the moment she quite forgot how to speak good English). \"Now I\\'m opening out like the largest telescope that ever was! Good-by, feet! Oh, my poor little feet, I wonder who will put on your shoes and stockings for you now, dears? I shall be a great deal too far off to trouble myself about you.\" Just at this moment her head struck against the roof of the hall; in fact, she was now rather more than nine feet high, and she at once took up the little golden key and hurried off to the garden door. Poor Alice! It was as much as she could do, lying down on one side, to look through into the garden with one eye; but to get through was more hopeless than ever. She sat down and began to cry again. She went on shedding gallons of tears, until there was a large pool all \\'round her and reaching half down the hall. After a time, she heard a little pattering of feet in the distance and she hastily dried her eyes to see what was coming. It was the White Rabbit returning, splendidly dressed, with a pair of white kid-gloves in one hand and a large fan in the other. He came trotting along in a great hurry, muttering to himself, \"Oh! the Duchess, the Duchess! Oh! _won\\'t_ she be savage if I\\'ve kept her waiting!\" When the Rabbit came near her, Alice began, in a low, timid voice, \"If you please, sir--\" The Rabbit started violently, dropped the white kid-gloves and the fan and skurried away into the darkness as hard as he could go. [Illustration] Alice took up the fan and gloves and she kept fanning herself all the time she went on talking. \"Dear, dear! How queer everything is to-day! And yesterday things went on just as usual. _Was_ I the same when I got up this morning? But if I\\'m not the same, the next question is, \\'Who in the world am I?\\' Ah, _that\\'s_ the great puzzle!\" As she said this, she looked down at her hands and was surprised to see that she had put on one of the Rabbit\\'s little white kid-gloves while she was talking. \"How _can_ I have done that?\" she thought. \"I must be growing small again.\" She got up and went to the table to measure herself by it and found that she was now about two feet high and was going on shrinking rapidly. She soon found out that the cause of this was the fan she was holding and she dropped it hastily, just in time to save herself from shrinking away altogether. \"That _was_ a narrow escape!\" said Alice, a good deal frightened at the sudden change, but very glad to find herself still in existence. \"And now for the garden!\" And she ran with all speed back to the little door; but, alas! the little door was shut again and the little golden key was lying on the glass table as before. \"Things are worse than ever,\" thought the poor child, \"for I never was so small as this before, never!\" As she said these words, her foot slipped, and in another moment, splash! she was up to her chin in salt-water. Her first idea was that she had somehow fallen into the sea. However, she soon made out that she was in the pool of tears which she had wept when she was nine feet high. [Illustration] Just then she heard something splashing about in the pool a little way off, and she swam nearer to see what it was: she soon made out that it was only a mouse that had slipped in like herself. \"Would it be of any use, now,\" thought Alice, \"to speak to this mouse? Everything is so out-of-the-way down here that I should think very likely it can talk; at any rate, there\\'s no harm in trying.\" So she began, \"O Mouse, do you know the way out of this pool? I am very tired of swimming about here, O Mouse!\" The Mouse looked at her rather inquisitively and seemed to her to wink with one of its little eyes, but it said nothing. \"Perhaps it doesn\\'t understand English,\" thought Alice. \"I dare say it\\'s a French mouse, come over with William the Conqueror.\" So she began again: \"Ou est ma chatte?\" which was the first sentence in her French lesson-book. The Mouse gave a sudden leap out of the water and seemed to quiver all over with fright. \"Oh, I beg your pardon!\" cried Alice hastily, afraid that she had hurt the poor animal\\'s feelings. \"I quite forgot you didn\\'t like cats.\" \"Not like cats!\" cried the Mouse in a shrill, passionate voice. \"Would _you_ like cats, if you were me?\" \"Well, perhaps not,\" said Alice in a soothing tone; \"don\\'t be angry about it. And yet I wish I could show you our cat Dinah. I think you\\'d take a fancy to cats, if you could only see her. She is such a dear, quiet thing.\" The Mouse was bristling all over and she felt certain it must be really offended. \"We won\\'t talk about her any more, if you\\'d rather not.\" \"We, indeed!\" cried the Mouse, who was trembling down to the end of its tail. \"As if _I_ would talk on such a subject! Our family always _hated_ cats--nasty, low, vulgar things! Don\\'t let me hear the name again!\" [Illustration: Alice at the Mad Tea Party.] \"I won\\'t indeed!\" said Alice, in a great hurry to change the subject of conversation. \"Are you--are you fond--of--of dogs? There is such a nice little dog near our house, I should like to show you! It kills all the rats and--oh, dear!\" cried Alice in a sorrowful tone. \"I\\'m afraid I\\'ve offended it again!\" For the Mouse was swimming away from her as hard as it could go, and making quite a commotion in the pool as it went. So she called softly after it, \"Mouse dear! Do come back again, and we won\\'t talk about cats, or dogs either, if you don\\'t like them!\" When the Mouse heard this, it turned \\'round and swam slowly back to her; its face was quite pale, and it said, in a low, trembling voice, \"Let us get to the shore and then I\\'ll tell you my history and you\\'ll understand why it is I hate cats and dogs.\" It was high time to go, for the pool was getting quite crowded with the birds and animals that had fallen into it; there were a Duck and a Dodo, a Lory and an Eaglet, and several other curious creatures. Alice led the way and the whole party swam to the shore. [Illustration]']"
            ]
          },
          "metadata": {},
          "execution_count": 32
        }
      ]
    },
    {
      "cell_type": "code",
      "source": [],
      "metadata": {
        "id": "oyBKKoAXxNyv"
      },
      "execution_count": null,
      "outputs": []
    }
  ]
}