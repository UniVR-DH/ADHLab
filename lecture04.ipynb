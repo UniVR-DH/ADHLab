{
  "nbformat": 4,
  "nbformat_minor": 0,
  "metadata": {
    "colab": {
      "provenance": [],
      "include_colab_link": true
    },
    "kernelspec": {
      "name": "python3",
      "display_name": "Python 3"
    },
    "language_info": {
      "name": "python"
    }
  },
  "cells": [
    {
      "cell_type": "markdown",
      "metadata": {
        "id": "view-in-github",
        "colab_type": "text"
      },
      "source": [
        "<a href=\"https://colab.research.google.com/github/UniVR-DH/ADHLab/blob/main/lecture04.ipynb\" target=\"_parent\"><img src=\"https://colab.research.google.com/assets/colab-badge.svg\" alt=\"Open In Colab\"/></a>"
      ]
    },
    {
      "cell_type": "markdown",
      "source": [
        "# Producing N-Grams and Building Inverted Indexes\n"
      ],
      "metadata": {
        "id": "4MNB7PsQ99Bx"
      }
    },
    {
      "cell_type": "markdown",
      "source": [
        "<img src=\"https://drive.google.com/uc?export=view&id=1m_EMdnI5C826kgqK7r5vB4TXnB0-Wq7W\" alt=\"Intestazione con loghi istituzionali\" width=\"525\"/>\n",
        "\n",
        "| Docente      | Insegnamento | Anno Accademico    |\n",
        "| :---        |    :----   |          ---: |\n",
        "| Matteo Lissandrini      | Laboratorio Avanzato di Informatica Umanistica       | 2023/2024   |"
      ],
      "metadata": {
        "id": "dChTXqspd6TT"
      }
    },
    {
      "cell_type": "markdown",
      "source": [
        "## Usual install and basic imports"
      ],
      "metadata": {
        "id": "GXBM6I9FeBmc"
      }
    },
    {
      "cell_type": "code",
      "source": [
        "%pip install wikipedia-api\n",
        "%pip install rank_bm25"
      ],
      "metadata": {
        "id": "pmOC8TtR5Wm5",
        "outputId": "3d43972f-06ad-4450-be44-bcfce55478f2",
        "colab": {
          "base_uri": "https://localhost:8080/"
        }
      },
      "execution_count": 1,
      "outputs": [
        {
          "output_type": "stream",
          "name": "stdout",
          "text": [
            "Collecting wikipedia-api\n",
            "  Downloading Wikipedia_API-0.6.0-py3-none-any.whl (14 kB)\n",
            "Requirement already satisfied: requests in /usr/local/lib/python3.10/dist-packages (from wikipedia-api) (2.31.0)\n",
            "Requirement already satisfied: charset-normalizer<4,>=2 in /usr/local/lib/python3.10/dist-packages (from requests->wikipedia-api) (3.3.2)\n",
            "Requirement already satisfied: idna<4,>=2.5 in /usr/local/lib/python3.10/dist-packages (from requests->wikipedia-api) (3.4)\n",
            "Requirement already satisfied: urllib3<3,>=1.21.1 in /usr/local/lib/python3.10/dist-packages (from requests->wikipedia-api) (2.0.7)\n",
            "Requirement already satisfied: certifi>=2017.4.17 in /usr/local/lib/python3.10/dist-packages (from requests->wikipedia-api) (2023.7.22)\n",
            "Installing collected packages: wikipedia-api\n",
            "Successfully installed wikipedia-api-0.6.0\n",
            "Collecting rank_bm25\n",
            "  Downloading rank_bm25-0.2.2-py3-none-any.whl (8.6 kB)\n",
            "Requirement already satisfied: numpy in /usr/local/lib/python3.10/dist-packages (from rank_bm25) (1.23.5)\n",
            "Installing collected packages: rank_bm25\n",
            "Successfully installed rank_bm25-0.2.2\n"
          ]
        }
      ]
    },
    {
      "cell_type": "code",
      "source": [
        "import gzip\n",
        "import math\n",
        "import string\n",
        "import requests\n",
        "import numpy as np\n",
        "import regex as re\n",
        "import matplotlib.pyplot as plt\n",
        "from collections import Counter"
      ],
      "metadata": {
        "id": "miPm486TF629"
      },
      "execution_count": 2,
      "outputs": []
    },
    {
      "cell_type": "code",
      "source": [
        "punct_regex = re.compile('[{}]'.format(re.escape(string.punctuation))) # Regex matching any punctuation\n",
        "space_regex = re.compile(' +') # Regex matching whitespace"
      ],
      "metadata": {
        "id": "0drW0pfEuOFr"
      },
      "execution_count": 7,
      "outputs": []
    },
    {
      "cell_type": "markdown",
      "source": [
        "## Declare Wikipedia API Object to download pages"
      ],
      "metadata": {
        "id": "vOFvsPfreLTT"
      }
    },
    {
      "cell_type": "code",
      "source": [
        "import wikipediaapi\n",
        "wapi_text = wikipediaapi.Wikipedia('MyProjectName (name@studenti.univr.it)',\n",
        "                                   'en',\n",
        "                                   extract_format=wikipediaapi.ExtractFormat.WIKI)"
      ],
      "metadata": {
        "id": "f2ymnwhM7PGX"
      },
      "execution_count": null,
      "outputs": []
    },
    {
      "cell_type": "code",
      "source": [
        "page_py = wapi_text.page('New York City')\n",
        "print(\"Page - Exists: %s\" % page_py.exists())\n",
        "print(page_py.text[-140:])\n",
        "\n",
        "page_tokens = space_regex.sub(' ', punct_regex.sub(' ', page_py.text.lower())).strip().split()\n",
        "print(len(page_tokens))\n",
        "# Create the bag of words\n",
        "page_bow = Counter(page_tokens)\n",
        "\n",
        "print(len(page_bow))"
      ],
      "metadata": {
        "id": "9peoLRdX5yfJ"
      },
      "execution_count": null,
      "outputs": []
    },
    {
      "cell_type": "markdown",
      "source": [
        "## Goal:  build a search engine on chapters of Alice in Wonderland and Aesop's Fables\n",
        "\n"
      ],
      "metadata": {
        "id": "zzYNeqRXeSQa"
      }
    },
    {
      "cell_type": "code",
      "source": [
        "inverted_index = {}\n",
        "    # In this index we use a key the keyword\n",
        "    # and as value a dictionary for  <document, page> to save word frequency\n",
        "\n",
        "\n",
        "page_statistics = {}\n",
        "    # in this dictionary we save data about each page, key is the <document, page>\n",
        "    # and data will be length as number of words\n",
        "\n"
      ],
      "metadata": {
        "id": "x_vRKF5WpniA"
      },
      "execution_count": 10,
      "outputs": []
    },
    {
      "cell_type": "code",
      "source": [
        "def get_pages(book_text):\n",
        "  \"\"\"\n",
        "  Function that given  the book text returns a list of pages\n",
        "  \"\"\"\n",
        "  _pages = book_text.split(\"\\n\\r\\n\\r\\n\\r\")\n",
        "  _pages = [ space_regex.sub(' ', page).strip() for page in _pages ]\n",
        "  _pages = [ space_regex.sub(' ', \" \".join(page.splitlines())) for page in _pages ]\n",
        "  _pages = [ page for page in _pages if page != \"\" ]\n",
        "\n",
        "  return _pages\n",
        "\n",
        "\n",
        "def add_to_index(text_pages, inverted_index, page_statistics, book_name=\"\"):\n",
        "  \"\"\"\n",
        "  Indexing function\n",
        "  This function indexes only words!\n",
        "  \"\"\"\n",
        "  print('===')\n",
        "  print(\"Indexing {} pages\".format(len(text_pages)))\n",
        "\n",
        "  # index page by page\n",
        "  num_pages = len(text_pages)\n",
        "  distinct_words = set()\n",
        "  for page_number, page in enumerate(text_pages):\n",
        "    page_word_list = page.split(' ')\n",
        "\n",
        "    page_statistics[(book_name, page_number)]= len(page_word_list)\n",
        "\n",
        "    for position, word in enumerate(page_word_list):\n",
        "        index_entry = inverted_index.setdefault(word, {})\n",
        "        distinct_words.add(word)\n",
        "        word_frequency = index_entry.get((book_name, page_number), 0)\n",
        "        index_entry[(book_name, page_number)] = word_frequency + 1\n",
        "\n",
        "  print('Indexed {} words over {} pages'.format(len(distinct_words), num_pages))\n",
        "\n",
        "\n"
      ],
      "metadata": {
        "id": "oDvifMzNp-ve"
      },
      "execution_count": 20,
      "outputs": []
    },
    {
      "cell_type": "code",
      "source": [
        "# request the raw text of Alice in Wonderland\n",
        "r = requests.get(r'https://ia801604.us.archive.org/6/items/alicesadventures19033gut/19033.txt')\n",
        "alice = r.text\n",
        "\n",
        "alice_pages = get_pages(alice)\n",
        "\n",
        "\n",
        "add_to_index(alice_pages, inverted_index, page_statistics, \"Alice\")\n",
        "\n",
        "r = requests.get(r'https://ia600906.us.archive.org/29/items/aesopsfablesanew11339gut/11339.txt')\n",
        "fables = r.text\n",
        "\n",
        "fables_pages = get_pages(fables)\n",
        "add_to_index(fables_pages, inverted_index, page_statistics, \"Fables\")\n"
      ],
      "metadata": {
        "id": "AZXAKNfk8Y_w",
        "outputId": "598444a9-b8bd-4b8b-9926-8ac897948369",
        "colab": {
          "base_uri": "https://localhost:8080/"
        }
      },
      "execution_count": 21,
      "outputs": [
        {
          "output_type": "stream",
          "name": "stdout",
          "text": [
            "===\n",
            "Indexing 19 pages\n",
            "Indexed 3410 words over 19 pages\n",
            "===\n",
            "Indexing 294 pages\n",
            "Indexed 8164 words over 294 pages\n"
          ]
        }
      ]
    },
    {
      "cell_type": "code",
      "source": [
        "print(inverted_index[\"Alice\"])\n",
        "print(inverted_index[\"white\"])\n",
        "print(inverted_index[\"rose\"])\n",
        "print(inverted_index[\"fox\"])"
      ],
      "metadata": {
        "id": "OW8WNKmAUOKM",
        "outputId": "cc35563b-f8a1-47aa-965a-3313cdfb66ad",
        "colab": {
          "base_uri": "https://localhost:8080/"
        }
      },
      "execution_count": 26,
      "outputs": [
        {
          "output_type": "stream",
          "name": "stdout",
          "text": [
            "{('Alice', 0): 4, ('Alice', 2): 2, ('Alice', 7): 28, ('Alice', 8): 16, ('Alice', 9): 20, ('Alice', 10): 24, ('Alice', 11): 22, ('Alice', 12): 20, ('Alice', 13): 16, ('Alice', 14): 34, ('Alice', 15): 6, ('Alice', 16): 8, ('Alice', 17): 2}\n",
            "{('Alice', 8): 6, ('Alice', 10): 4, ('Alice', 14): 2, ('Fables', 3): 4, ('Fables', 76): 4, ('Fables', 154): 2}\n",
            "{('Alice', 16): 2, ('Fables', 26): 2, ('Fables', 219): 2}\n",
            "{('Fables', 3): 8, ('Fables', 89): 2, ('Fables', 97): 2, ('Fables', 123): 2}\n"
          ]
        }
      ]
    },
    {
      "cell_type": "code",
      "source": [],
      "metadata": {
        "id": "5W6FJ2YDvM4n"
      },
      "execution_count": null,
      "outputs": []
    }
  ]
}