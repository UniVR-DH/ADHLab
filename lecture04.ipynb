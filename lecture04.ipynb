{
  "nbformat": 4,
  "nbformat_minor": 0,
  "metadata": {
    "colab": {
      "provenance": [],
      "include_colab_link": true
    },
    "kernelspec": {
      "name": "python3",
      "display_name": "Python 3"
    },
    "language_info": {
      "name": "python"
    }
  },
  "cells": [
    {
      "cell_type": "markdown",
      "metadata": {
        "id": "view-in-github",
        "colab_type": "text"
      },
      "source": [
        "<a href=\"https://colab.research.google.com/github/UniVR-DH/ADHLab/blob/main/lecture04.ipynb\" target=\"_parent\"><img src=\"https://colab.research.google.com/assets/colab-badge.svg\" alt=\"Open In Colab\"/></a>"
      ]
    },
    {
      "cell_type": "markdown",
      "source": [
        "# Producing N-Grams and Building Inverted Indexes\n"
      ],
      "metadata": {
        "id": "4MNB7PsQ99Bx"
      }
    },
    {
      "cell_type": "markdown",
      "source": [
        "<img src=\"https://drive.google.com/uc?export=view&id=1m_EMdnI5C826kgqK7r5vB4TXnB0-Wq7W\" alt=\"Intestazione con loghi istituzionali\" width=\"525\"/>\n",
        "\n",
        "| Docente      | Insegnamento | Anno Accademico    |\n",
        "| :---        |    :----   |          ---: |\n",
        "| Matteo Lissandrini      | Laboratorio Avanzato di Informatica Umanistica       | 2023/2024   |"
      ],
      "metadata": {
        "id": "dChTXqspd6TT"
      }
    },
    {
      "cell_type": "markdown",
      "source": [
        "## Usual install and basic imports"
      ],
      "metadata": {
        "id": "GXBM6I9FeBmc"
      }
    },
    {
      "cell_type": "code",
      "source": [
        "%pip install wikipedia-api\n",
        "%pip install rank_bm25"
      ],
      "metadata": {
        "id": "pmOC8TtR5Wm5",
        "colab": {
          "base_uri": "https://localhost:8080/"
        },
        "outputId": "3d43972f-06ad-4450-be44-bcfce55478f2"
      },
      "execution_count": 1,
      "outputs": [
        {
          "output_type": "stream",
          "name": "stdout",
          "text": [
            "Collecting wikipedia-api\n",
            "  Downloading Wikipedia_API-0.6.0-py3-none-any.whl (14 kB)\n",
            "Requirement already satisfied: requests in /usr/local/lib/python3.10/dist-packages (from wikipedia-api) (2.31.0)\n",
            "Requirement already satisfied: charset-normalizer<4,>=2 in /usr/local/lib/python3.10/dist-packages (from requests->wikipedia-api) (3.3.2)\n",
            "Requirement already satisfied: idna<4,>=2.5 in /usr/local/lib/python3.10/dist-packages (from requests->wikipedia-api) (3.4)\n",
            "Requirement already satisfied: urllib3<3,>=1.21.1 in /usr/local/lib/python3.10/dist-packages (from requests->wikipedia-api) (2.0.7)\n",
            "Requirement already satisfied: certifi>=2017.4.17 in /usr/local/lib/python3.10/dist-packages (from requests->wikipedia-api) (2023.7.22)\n",
            "Installing collected packages: wikipedia-api\n",
            "Successfully installed wikipedia-api-0.6.0\n",
            "Collecting rank_bm25\n",
            "  Downloading rank_bm25-0.2.2-py3-none-any.whl (8.6 kB)\n",
            "Requirement already satisfied: numpy in /usr/local/lib/python3.10/dist-packages (from rank_bm25) (1.23.5)\n",
            "Installing collected packages: rank_bm25\n",
            "Successfully installed rank_bm25-0.2.2\n"
          ]
        }
      ]
    },
    {
      "cell_type": "code",
      "source": [
        "import gzip\n",
        "import math\n",
        "import string\n",
        "import requests\n",
        "import numpy as np\n",
        "import regex as re\n",
        "import matplotlib.pyplot as plt\n",
        "from collections import Counter"
      ],
      "metadata": {
        "id": "miPm486TF629"
      },
      "execution_count": 2,
      "outputs": []
    },
    {
      "cell_type": "code",
      "source": [
        "punct_regex = re.compile('[{}]'.format(re.escape(string.punctuation))) # Regex matching any punctuation\n",
        "space_regex = re.compile(' +') # Regex matching whitespace"
      ],
      "metadata": {
        "id": "0drW0pfEuOFr"
      },
      "execution_count": 7,
      "outputs": []
    },
    {
      "cell_type": "markdown",
      "source": [
        "## Declare Wikipedia API Object to download pages"
      ],
      "metadata": {
        "id": "vOFvsPfreLTT"
      }
    },
    {
      "cell_type": "code",
      "source": [
        "import wikipediaapi\n",
        "wapi_text = wikipediaapi.Wikipedia('MyProjectName (name@studenti.univr.it)',\n",
        "                                   'en',\n",
        "                                   extract_format=wikipediaapi.ExtractFormat.WIKI)"
      ],
      "metadata": {
        "id": "f2ymnwhM7PGX"
      },
      "execution_count": null,
      "outputs": []
    },
    {
      "cell_type": "code",
      "source": [
        "page_py = wapi_text.page('New York City')\n",
        "print(\"Page - Exists: %s\" % page_py.exists())\n",
        "print(page_py.text[-140:])\n",
        "\n",
        "page_tokens = space_regex.sub(' ', punct_regex.sub(' ', page_py.text.lower())).strip().split()\n",
        "print(len(page_tokens))\n",
        "# Create the bag of words\n",
        "page_bow = Counter(page_tokens)\n",
        "\n",
        "print(len(page_bow))"
      ],
      "metadata": {
        "id": "9peoLRdX5yfJ"
      },
      "execution_count": null,
      "outputs": []
    },
    {
      "cell_type": "markdown",
      "source": [
        "## Goal:  build a search engine on chapters of Alice in Wonderland and Aesop's Fables\n",
        "\n"
      ],
      "metadata": {
        "id": "zzYNeqRXeSQa"
      }
    },
    {
      "cell_type": "code",
      "source": [
        "inverted_index = {}\n",
        "    # In this index we use a key the keyword\n",
        "    # and as value a dictionary for  <document, page> to save word frequency\n",
        "\n",
        "\n",
        "page_statistics = {}\n",
        "    # in this dictionary we save data about each page, key is the <document, page>\n",
        "    # and data will be length as number of words\n",
        "\n"
      ],
      "metadata": {
        "id": "x_vRKF5WpniA"
      },
      "execution_count": 10,
      "outputs": []
    },
    {
      "cell_type": "code",
      "source": [
        "def get_pages(book_text):\n",
        "  \"\"\"\n",
        "  Function that given  the book text returns a list of pages\n",
        "  \"\"\"\n",
        "  _pages = book_text.split(\"\\n\\r\\n\\r\\n\\r\")\n",
        "  _pages = [ space_regex.sub(' ', page).strip() for page in _pages ]\n",
        "  _pages = [ space_regex.sub(' ', \" \".join(page.splitlines())) for page in _pages ]\n",
        "  _pages = [ page for page in _pages if page != \"\" ]\n",
        "\n",
        "  return _pages\n",
        "\n",
        "\n",
        "def add_to_index(text_pages, inverted_index, page_statistics, book_name=\"\"):\n",
        "  \"\"\"\n",
        "  Indexing function\n",
        "  This function indexes only words!\n",
        "  \"\"\"\n",
        "  print('===')\n",
        "  print(\"Indexing {} pages\".format(len(text_pages)))\n",
        "\n",
        "  # index page by page\n",
        "  num_pages = len(text_pages)\n",
        "  distinct_words = set()\n",
        "  for page_number, page in enumerate(text_pages):\n",
        "    page_word_list = page.split(' ')\n",
        "\n",
        "    page_statistics[(book_name, page_number)]= len(page_word_list)\n",
        "\n",
        "    for position, word in enumerate(page_word_list):\n",
        "        index_entry = inverted_index.setdefault(word, {})\n",
        "        distinct_words.add(word)\n",
        "        word_frequency = index_entry.get((book_name, page_number), 0)\n",
        "        index_entry[(book_name, page_number)] = word_frequency + 1\n",
        "\n",
        "  print('Indexed {} words over {} pages'.format(len(distinct_words), num_pages))\n",
        "\n",
        "\n"
      ],
      "metadata": {
        "id": "oDvifMzNp-ve"
      },
      "execution_count": 20,
      "outputs": []
    },
    {
      "cell_type": "code",
      "source": [
        "# request the raw text of Alice in Wonderland\n",
        "r = requests.get(r'https://ia801604.us.archive.org/6/items/alicesadventures19033gut/19033.txt')\n",
        "alice = r.text\n",
        "\n",
        "alice_pages = get_pages(alice)\n",
        "\n",
        "\n",
        "add_to_index(alice_pages, inverted_index, page_statistics, \"Alice\")\n",
        "\n",
        "r = requests.get(r'https://ia600906.us.archive.org/29/items/aesopsfablesanew11339gut/11339.txt')\n",
        "fables = r.text\n",
        "\n",
        "fables_pages = get_pages(fables)\n",
        "add_to_index(fables_pages, inverted_index, page_statistics, \"Fables\")\n"
      ],
      "metadata": {
        "id": "AZXAKNfk8Y_w",
        "outputId": "598444a9-b8bd-4b8b-9926-8ac897948369",
        "colab": {
          "base_uri": "https://localhost:8080/"
        }
      },
      "execution_count": 21,
      "outputs": [
        {
          "output_type": "stream",
          "name": "stdout",
          "text": [
            "===\n",
            "Indexing 19 pages\n",
            "Indexed 3410 words over 19 pages\n",
            "===\n",
            "Indexing 294 pages\n",
            "Indexed 8164 words over 294 pages\n"
          ]
        }
      ]
    },
    {
      "cell_type": "code",
      "source": [
        "print(inverted_index[\"Alice\"])\n",
        "print(inverted_index[\"white\"])\n",
        "print(inverted_index[\"rose\"])\n",
        "print(inverted_index[\"fox\"])"
      ],
      "metadata": {
        "id": "OW8WNKmAUOKM",
        "colab": {
          "base_uri": "https://localhost:8080/"
        },
        "outputId": "cc35563b-f8a1-47aa-965a-3313cdfb66ad"
      },
      "execution_count": 26,
      "outputs": [
        {
          "output_type": "stream",
          "name": "stdout",
          "text": [
            "{('Alice', 0): 4, ('Alice', 2): 2, ('Alice', 7): 28, ('Alice', 8): 16, ('Alice', 9): 20, ('Alice', 10): 24, ('Alice', 11): 22, ('Alice', 12): 20, ('Alice', 13): 16, ('Alice', 14): 34, ('Alice', 15): 6, ('Alice', 16): 8, ('Alice', 17): 2}\n",
            "{('Alice', 8): 6, ('Alice', 10): 4, ('Alice', 14): 2, ('Fables', 3): 4, ('Fables', 76): 4, ('Fables', 154): 2}\n",
            "{('Alice', 16): 2, ('Fables', 26): 2, ('Fables', 219): 2}\n",
            "{('Fables', 3): 8, ('Fables', 89): 2, ('Fables', 97): 2, ('Fables', 123): 2}\n"
          ]
        }
      ]
    },
    {
      "cell_type": "code",
      "source": [],
      "metadata": {
        "id": "5W6FJ2YDvM4n"
      },
      "execution_count": null,
      "outputs": []
    },
    {
      "cell_type": "markdown",
      "source": [
        "## Using BM25"
      ],
      "metadata": {
        "id": "5aqq177EwfdQ"
      }
    },
    {
      "cell_type": "code",
      "source": [
        "from rank_bm25 import BM25Okapi\n",
        "\n",
        "\n",
        "bm25_alice = BM25Okapi([_page.split(\" \") for _page in alice_pages])\n",
        "\n",
        "query = \"white rabbit\"\n",
        "tokenized_query = query.split(\" \")\n",
        "\n",
        "doc_scores = bm25_alice.get_scores(tokenized_query)\n",
        "print([ (id, score) for id, score in  enumerate(doc_scores) if score > 0 ])\n",
        "\n",
        "bm25_alice.get_top_n(tokenized_query, alice_pages, n=1)"
      ],
      "metadata": {
        "id": "M0aT2xHSwgvF",
        "outputId": "70abfb24-a243-4116-870a-6aff6cfe3e7f",
        "colab": {
          "base_uri": "https://localhost:8080/"
        }
      },
      "execution_count": 32,
      "outputs": [
        {
          "output_type": "stream",
          "name": "stdout",
          "text": [
            "[(7, 1.7325403378321267), (8, 2.1968624956863216), (10, 1.6792970436782613), (14, 1.1847792904574401)]\n"
          ]
        },
        {
          "output_type": "execute_result",
          "data": {
            "text/plain": [
              "['II--THE POOL OF TEARS \"Curiouser and curiouser!\" cried Alice (she was so much surprised that for the moment she quite forgot how to speak good English). \"Now I\\'m opening out like the largest telescope that ever was! Good-by, feet! Oh, my poor little feet, I wonder who will put on your shoes and stockings for you now, dears? I shall be a great deal too far off to trouble myself about you.\" Just at this moment her head struck against the roof of the hall; in fact, she was now rather more than nine feet high, and she at once took up the little golden key and hurried off to the garden door. Poor Alice! It was as much as she could do, lying down on one side, to look through into the garden with one eye; but to get through was more hopeless than ever. She sat down and began to cry again. She went on shedding gallons of tears, until there was a large pool all \\'round her and reaching half down the hall. After a time, she heard a little pattering of feet in the distance and she hastily dried her eyes to see what was coming. It was the White Rabbit returning, splendidly dressed, with a pair of white kid-gloves in one hand and a large fan in the other. He came trotting along in a great hurry, muttering to himself, \"Oh! the Duchess, the Duchess! Oh! _won\\'t_ she be savage if I\\'ve kept her waiting!\" When the Rabbit came near her, Alice began, in a low, timid voice, \"If you please, sir--\" The Rabbit started violently, dropped the white kid-gloves and the fan and skurried away into the darkness as hard as he could go. [Illustration] Alice took up the fan and gloves and she kept fanning herself all the time she went on talking. \"Dear, dear! How queer everything is to-day! And yesterday things went on just as usual. _Was_ I the same when I got up this morning? But if I\\'m not the same, the next question is, \\'Who in the world am I?\\' Ah, _that\\'s_ the great puzzle!\" As she said this, she looked down at her hands and was surprised to see that she had put on one of the Rabbit\\'s little white kid-gloves while she was talking. \"How _can_ I have done that?\" she thought. \"I must be growing small again.\" She got up and went to the table to measure herself by it and found that she was now about two feet high and was going on shrinking rapidly. She soon found out that the cause of this was the fan she was holding and she dropped it hastily, just in time to save herself from shrinking away altogether. \"That _was_ a narrow escape!\" said Alice, a good deal frightened at the sudden change, but very glad to find herself still in existence. \"And now for the garden!\" And she ran with all speed back to the little door; but, alas! the little door was shut again and the little golden key was lying on the glass table as before. \"Things are worse than ever,\" thought the poor child, \"for I never was so small as this before, never!\" As she said these words, her foot slipped, and in another moment, splash! she was up to her chin in salt-water. Her first idea was that she had somehow fallen into the sea. However, she soon made out that she was in the pool of tears which she had wept when she was nine feet high. [Illustration] Just then she heard something splashing about in the pool a little way off, and she swam nearer to see what it was: she soon made out that it was only a mouse that had slipped in like herself. \"Would it be of any use, now,\" thought Alice, \"to speak to this mouse? Everything is so out-of-the-way down here that I should think very likely it can talk; at any rate, there\\'s no harm in trying.\" So she began, \"O Mouse, do you know the way out of this pool? I am very tired of swimming about here, O Mouse!\" The Mouse looked at her rather inquisitively and seemed to her to wink with one of its little eyes, but it said nothing. \"Perhaps it doesn\\'t understand English,\" thought Alice. \"I dare say it\\'s a French mouse, come over with William the Conqueror.\" So she began again: \"Ou est ma chatte?\" which was the first sentence in her French lesson-book. The Mouse gave a sudden leap out of the water and seemed to quiver all over with fright. \"Oh, I beg your pardon!\" cried Alice hastily, afraid that she had hurt the poor animal\\'s feelings. \"I quite forgot you didn\\'t like cats.\" \"Not like cats!\" cried the Mouse in a shrill, passionate voice. \"Would _you_ like cats, if you were me?\" \"Well, perhaps not,\" said Alice in a soothing tone; \"don\\'t be angry about it. And yet I wish I could show you our cat Dinah. I think you\\'d take a fancy to cats, if you could only see her. She is such a dear, quiet thing.\" The Mouse was bristling all over and she felt certain it must be really offended. \"We won\\'t talk about her any more, if you\\'d rather not.\" \"We, indeed!\" cried the Mouse, who was trembling down to the end of its tail. \"As if _I_ would talk on such a subject! Our family always _hated_ cats--nasty, low, vulgar things! Don\\'t let me hear the name again!\" [Illustration: Alice at the Mad Tea Party.] \"I won\\'t indeed!\" said Alice, in a great hurry to change the subject of conversation. \"Are you--are you fond--of--of dogs? There is such a nice little dog near our house, I should like to show you! It kills all the rats and--oh, dear!\" cried Alice in a sorrowful tone. \"I\\'m afraid I\\'ve offended it again!\" For the Mouse was swimming away from her as hard as it could go, and making quite a commotion in the pool as it went. So she called softly after it, \"Mouse dear! Do come back again, and we won\\'t talk about cats, or dogs either, if you don\\'t like them!\" When the Mouse heard this, it turned \\'round and swam slowly back to her; its face was quite pale, and it said, in a low, trembling voice, \"Let us get to the shore and then I\\'ll tell you my history and you\\'ll understand why it is I hate cats and dogs.\" It was high time to go, for the pool was getting quite crowded with the birds and animals that had fallen into it; there were a Duck and a Dodo, a Lory and an Eaglet, and several other curious creatures. Alice led the way and the whole party swam to the shore. [Illustration]']"
            ]
          },
          "metadata": {},
          "execution_count": 32
        }
      ]
    },
    {
      "cell_type": "code",
      "source": [],
      "metadata": {
        "id": "oyBKKoAXxNyv"
      },
      "execution_count": null,
      "outputs": []
    }
  ]
}