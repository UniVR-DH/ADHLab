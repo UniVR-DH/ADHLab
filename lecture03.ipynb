{
  "nbformat": 4,
  "nbformat_minor": 0,
  "metadata": {
    "colab": {
      "provenance": [],
      "include_colab_link": true
    },
    "kernelspec": {
      "name": "python3",
      "display_name": "Python 3"
    },
    "language_info": {
      "name": "python"
    }
  },
  "cells": [
    {
      "cell_type": "markdown",
      "metadata": {
        "id": "view-in-github",
        "colab_type": "text"
      },
      "source": [
        "<a href=\"https://colab.research.google.com/github/UniVR-DH/ADHLab/blob/main/lecture03.ipynb\" target=\"_parent\"><img src=\"https://colab.research.google.com/assets/colab-badge.svg\" alt=\"Open In Colab\"/></a>"
      ]
    },
    {
      "cell_type": "markdown",
      "source": [
        "# Producing N-Grams and Building Inverted Indexes\n"
      ],
      "metadata": {
        "id": "4MNB7PsQ99Bx"
      }
    },
    {
      "cell_type": "markdown",
      "source": [
        "<img src=\"https://drive.google.com/uc?export=view&id=1m_EMdnI5C826kgqK7r5vB4TXnB0-Wq7W\" alt=\"Intestazione con loghi istituzionali\" width=\"525\"/>\n",
        "\n",
        "| Docente      | Insegnamento | Anno Accademico    |\n",
        "| :---        |    :----   |          ---: |\n",
        "| Matteo Lissandrini      | Laboratorio Avanzato di Informatica Umanistica       | 2023/2024   |"
      ],
      "metadata": {
        "id": "dChTXqspd6TT"
      }
    },
    {
      "cell_type": "markdown",
      "source": [
        "## Usual install and basic imports"
      ],
      "metadata": {
        "id": "GXBM6I9FeBmc"
      }
    },
    {
      "cell_type": "code",
      "source": [
        "%pip install wikipedia-api"
      ],
      "metadata": {
        "id": "pmOC8TtR5Wm5"
      },
      "execution_count": null,
      "outputs": []
    },
    {
      "cell_type": "code",
      "source": [
        "import gzip\n",
        "import math\n",
        "import string\n",
        "import requests\n",
        "import numpy as np\n",
        "import regex as re\n",
        "import matplotlib.pyplot as plt\n",
        "from collections import Counter"
      ],
      "metadata": {
        "id": "miPm486TF629"
      },
      "execution_count": 46,
      "outputs": []
    },
    {
      "cell_type": "markdown",
      "source": [
        "## Declare Wikipedia API Object to download pages"
      ],
      "metadata": {
        "id": "vOFvsPfreLTT"
      }
    },
    {
      "cell_type": "code",
      "source": [
        "import wikipediaapi\n",
        "wapi_text = wikipediaapi.Wikipedia('MyProjectName (name@studenti.univr.it)',\n",
        "                                   'en',\n",
        "                                   extract_format=wikipediaapi.ExtractFormat.WIKI)\n",
        "\n",
        "punct_regex = re.compile('[{}]'.format(re.escape(string.punctuation))) # Regex matching any punctuation\n",
        "space_regex = re.compile(' +') # Regex matching whitespace"
      ],
      "metadata": {
        "id": "f2ymnwhM7PGX"
      },
      "execution_count": null,
      "outputs": []
    },
    {
      "cell_type": "code",
      "source": [
        "page_py = wapi_text.page('New York City')\n",
        "print(\"Page - Exists: %s\" % page_py.exists())\n",
        "print(page_py.text[-140:])\n",
        "\n",
        "page_tokens = space_regex.sub(' ', punct_regex.sub(' ', page_py.text.lower())).strip().split()\n",
        "print(len(page_tokens))\n",
        "# Create the bag of words\n",
        "page_bow = Counter(page_tokens)\n",
        "\n",
        "print(len(page_bow))"
      ],
      "metadata": {
        "id": "9peoLRdX5yfJ"
      },
      "execution_count": null,
      "outputs": []
    },
    {
      "cell_type": "markdown",
      "source": [
        "### Goal:  build an inverted index on a set of bigrams\n",
        "\n"
      ],
      "metadata": {
        "id": "zzYNeqRXeSQa"
      }
    },
    {
      "cell_type": "code",
      "source": [
        "# request the raw text of Alice in Wonderland\n",
        "r = requests.get(r'https://ia801604.us.archive.org/6/items/alicesadventures19033gut/19033.txt')\n",
        "alice = r.text\n",
        "\n",
        "alice_pages = alice.split(\"\\n\\r\\n\\r\\n\\r\")\n",
        "alice_pages = [ space_regex.sub(' ', page).strip() for page in alice_pages ]\n",
        "alice_pages = [ page for page in alice_pages if page != \"\" ]\n",
        "print(len(alice_pages))\n",
        "print(\" \".join(alice_pages[7].splitlines()))\n"
      ],
      "metadata": {
        "id": "AZXAKNfk8Y_w",
        "outputId": "508d2200-fb46-442f-d569-c42dca43bb01",
        "colab": {
          "base_uri": "https://localhost:8080/"
        }
      },
      "execution_count": 102,
      "outputs": [
        {
          "output_type": "stream",
          "name": "stdout",
          "text": [
            "19\n",
            "I--DOWN THE RABBIT-HOLE   Alice was beginning to get very tired of sitting by her sister on the bank, and of having nothing to do. Once or twice she had peeped into the book her sister was reading, but it had no pictures or conversations in it, \"and what is the use of a book,\" thought Alice, \"without pictures or conversations?\"  So she was considering in her own mind (as well as she could, for the day made her feel very sleepy and stupid), whether the pleasure of making a daisy-chain would be worth the trouble of getting up and picking the daisies, when suddenly a White Rabbit with pink eyes ran close by her.  There was nothing so very remarkable in that, nor did Alice think it so very much out of the way to hear the Rabbit say to itself, \"Oh dear! Oh dear! I shall be too late!\" But when the Rabbit actually took a watch out of its waistcoat-pocket and looked at it and then hurried on, Alice started to her feet, for it flashed across her mind that she had never before seen a rabbit with either a waistcoat-pocket, or a watch to take out of it, and, burning with curiosity, she ran across the field after it and was just in time to see it pop down a large rabbit-hole, under the hedge. In another moment, down went Alice after it!  [Illustration]  The rabbit-hole went straight on like a tunnel for some way and then dipped suddenly down, so suddenly that Alice had not a moment to think about stopping herself before she found herself falling down what seemed to be a very deep well.  Either the well was very deep, or she fell very slowly, for she had plenty of time, as she went down, to look about her. First, she tried to make out what she was coming to, but it was too dark to see anything; then she looked at the sides of the well and noticed that they were filled with cupboards and book-shelves; here and there she saw maps and pictures hung upon pegs. She took down a jar from one of the shelves as she passed. It was labeled \"ORANGE MARMALADE,\" but, to her great disappointment, it was empty; she did not like to drop the jar, so managed to put it into one of the cupboards as she fell past it.  Down, down, down! Would the fall never come to an end? There was nothing else to do, so Alice soon began talking to herself. \"Dinah'll miss me very much to-night, I should think!\" (Dinah was the cat.) \"I hope they'll remember her saucer of milk at tea-time. Dinah, my dear, I wish you were down here with me!\" Alice felt that she was dozing off, when suddenly, thump! thump! down she came upon a heap of sticks and dry leaves, and the fall was over.  Alice was not a bit hurt, and she jumped up in a moment. She looked up, but it was all dark overhead; before her was another long passage and the White Rabbit was still in sight, hurrying down it. There was not a moment to be lost. Away went Alice like the wind and was just in time to hear it say, as it turned a corner, \"Oh, my ears and whiskers, how late it's getting!\" She was close behind it when she turned the corner, but the Rabbit was no longer to be seen.  She found herself in a long, low hall, which was lit up by a row of lamps hanging from the roof. There were doors all 'round the hall, but they were all locked; and when Alice had been all the way down one side and up the other, trying every door, she walked sadly down the middle, wondering how she was ever to get out again.  Suddenly she came upon a little table, all made of solid glass. There was nothing on it but a tiny golden key, and Alice's first idea was that this might belong to one of the doors of the hall; but, alas! either the locks were too large, or the key was too small, but, at any rate, it would not open any of them. However, on the second time 'round, she came upon a low curtain she had not noticed before, and behind it was a little door about fifteen inches high. She tried the little golden key in the lock, and to her great delight, it fitted!  [Illustration]  Alice opened the door and found that it led into a small passage, not much larger than a rat-hole; she knelt down and looked along the passage into the loveliest garden you ever saw. How she longed to get out of that dark hall and wander about among those beds of bright flowers and those cool fountains, but she could not even get her head through the doorway. \"Oh,\" said Alice, \"how I wish I could shut up like a telescope! I think I could, if I only knew how to begin.\"  Alice went back to the table, half hoping she might find another key on it, or at any rate, a book of rules for shutting people up like telescopes. This time she found a little bottle on it (\"which certainly was not here before,\" said Alice), and tied 'round the neck of the bottle was a paper label, with the words \"DRINK ME\" beautifully printed on it in large letters.  \"No, I'll look first,\" she said, \"and see whether it's marked '_poison_' or not,\" for she had never forgotten that, if you drink from a bottle marked \"poison,\" it is almost certain to disagree with you, sooner or later. However, this bottle was _not_ marked \"poison,\" so Alice ventured to taste it, and, finding it very nice (it had a sort of mixed flavor of cherry-tart, custard, pineapple, roast turkey, toffy and hot buttered toast), she very soon finished it off.   * * * * *  \"What a curious feeling!\" said Alice. \"I must be shutting up like a telescope!\"  And so it was indeed! She was now only ten inches high, and her face brightened up at the thought that she was now the right size for going through the little door into that lovely garden.  After awhile, finding that nothing more happened, she decided on going into the garden at once; but, alas for poor Alice! When she got to the door, she found she had forgotten the little golden key, and when she went back to the table for it, she found she could not possibly reach it: she could see it quite plainly through the glass and she tried her best to climb up one of the legs of the table, but it was too slippery, and when she had tired herself out with trying, the poor little thing sat down and cried.  \"Come, there's no use in crying like that!\" said Alice to herself rather sharply. \"I advise you to leave off this minute!\" She generally gave herself very good advice (though she very seldom followed it), and sometimes she scolded herself so severely as to bring tears into her eyes.  Soon her eye fell on a little glass box that was lying under the table: she opened it and found in it a very small cake, on which the words \"EAT ME\" were beautifully marked in currants. \"Well, I'll eat it,\" said Alice, \"and if it makes me grow larger, I can reach the key; and if it makes me grow smaller, I can creep under the door: so either way I'll get into the garden, and I don't care which happens!\"  She ate a little bit and said anxiously to herself, \"Which way? Which way?\" holding her hand on the top of her head to feel which way she was growing; and she was quite surprised to find that she remained the same size. So she set to work and very soon finished off the cake.  [Illustration]\n"
          ]
        }
      ]
    },
    {
      "cell_type": "code",
      "source": [
        "r = requests.get(r'https://ia600906.us.archive.org/29/items/aesopsfablesanew11339gut/11339.txt')\n",
        "fables = r.text\n",
        "\n",
        "fables_pages = fables.split(\"\\n\\r\\n\\r\\n\\r\")\n",
        "fables_pages = [ space_regex.sub(' ', page).strip() for page in fables_pages ]\n",
        "fables_pages = [ page for page in fables_pages if page != \"\" ]\n",
        "print(len(fables_pages))\n",
        "print(\" \".join(fables_pages[3].splitlines()))"
      ],
      "metadata": {
        "id": "wdSrY-XS_Tjt",
        "outputId": "e30bc1b3-2c42-4d32-d1cf-8900b7f3b05d",
        "colab": {
          "base_uri": "https://localhost:8080/"
        }
      },
      "execution_count": 106,
      "outputs": [
        {
          "output_type": "stream",
          "name": "stdout",
          "text": [
            "294\n",
            "INTRODUCTION   _AEsop embodies an epigram not uncommon in human history; his fame is all the more deserved because he never deserved it. The firm foundations of common sense, the shrewd shots at uncommon sense, that characterise all the Fables, belong not him but to humanity. In the earliest human history whatever is authentic is universal: and whatever is universal is anonymous. In such cases there is always some central man who had first the trouble of collecting them, and afterwards the fame of creating them. He had the fame; and, on the whole, he earned the fame. There must have been something great and human, something of the human future and the human past, in such a man: even if he only used it to rob the past or deceive the future. The story of Arthur may have been really connected with the most fighting Christianity of falling Rome or with the most heathen traditions hidden in the hills of Wales. But the word \"Mappe\" or \"Malory\" will always mean King Arthur; even though we find older and better origins than the Mabinogian; or write later and worse versions than the \"Idylls of the King.\" The nursery fairy tales may have come out of Asia with the Indo-European race, now fortunately extinct; they may have been invented by some fine French lady or gentleman like Perrault: they may possibly even be what they profess to be. But we shall always call the best selection of such tales \"Grimm's Tales\": simply because it is the best collection.  The historical AEsop, in so far as he was historical, would seem to have been a Phrygian slave, or at least one not to be specially and symbolically adorned with the Phrygian cap of liberty. He lived, if he did live, about the sixth century before Christ, in the time of that Croesus whose story we love and suspect like everything else in Herodotus. There are also stories of deformity of feature and a ready ribaldry of tongue: stories which (as the celebrated Cardinal said) explain, though they do not excuse, his having been hurled over a high precipice at Delphi. It is for those who read the Fables to judge whether he was really thrown over the cliff for being ugly and offensive, or rather for being highly moral and correct. But there is no kind of doubt that the general legend of him may justly rank him with a race too easily forgotten in our modern comparisons: the race of the great philosophic slaves. AEsop may have been a fiction like Uncle Remus: he was also, like Uncle Remus, a fact. It is a fact that slaves in the old world could be worshipped like AEsop, or loved like Uncle Remus. It is odd to note that both the great slaves told their best stories about beasts and birds.  But whatever be fairly due to AEsop, the human tradition called Fables is not due to him. This had gone on long before any sarcastic freedman from Phrygia had or had not been flung off a precipice; this has remained long after. It is to our advantage, indeed, to realise the distinction; because it makes AEsop more obviously effective than any other fabulist. Grimm's Tales, glorious as they are, were collected by two German students. And if we find it hard to be certain of a German student, at least we know more about him than We know about a Phrygian slave. The truth is, of course, that AEsop's Fables are not AEsop's fables, any more than Grimm's Fairy Tales were ever Grimm's fairy tales. But the fable and the fairy tale are things utterly distinct. There are many elements of difference; but the plainest is plain enough. There can be no good fable with human beings in it. There can be no good fairy tale without them.  AEsop, or Babrius (or whatever his name was), understood that, for a fable, all the persons must be impersonal. They must be like abstractions in algebra, or like pieces in chess. The lion must always be stronger than the wolf, just as four is always double of two. The fox in a fable must move crooked, as the knight in chess must move crooked. The sheep in a fable must march on, as the pawn in chess must march on. The fable must not allow for the crooked captures of the pawn; it must not allow for what Balzac called \"the revolt of a sheep\" The fairy tale, on the other hand, absolutely revolves on the pivot of human personality. If no hero were there to fight the dragons, we should not even know that they were dragons. If no adventurer were cast on the undiscovered island--it would remain undiscovered. If the miller's third son does not find the enchanted garden where the seven princesses stand white and frozen--why, then, they will remain white and frozen and enchanted. If there is no personal prince to find the Sleeping Beauty she will simply sleep. Fables repose upon quite the opposite idea; that everything is itself, and will in any case speak for itself. The wolf will be always wolfish; the fox will be always foxy. Something of the same sort may have been meant by the animal worship, in which Egyptian and Indian and many other great peoples have combined. Men do not, I think, love beetles or cats or crocodiles with a wholly personal love; they salute them as expressions of that abstract and anonymous energy in nature which to any one is awful, and to an atheist must be frightful. So in all the fables that are or are not AEsop's all the animal forces drive like inanimate forces, like great rivers or growing trees. It is the limit and the loss of all such things that they cannot be anything but themselves: it is their tragedy that they could not lose their souls.  This is the immortal justification of the Fable: that we could not teach the plainest truths so simply without turning men into chessmen. We cannot talk of such simple things without using animals that do not talk at all. Suppose, for a moment, that you turn the wolf into a wolfish baron, or the fox into a foxy diplomatist. You will at once remember that even barons are human, you will be unable to forget that even diplomatists are men. You will always be looking for that accidental good-humour that should go with the brutality of any brutal man; for that allowance for all delicate things, including virtue, that should exist in any good diplomatist. Once put a thing on two legs instead of four and pluck it of feathers and you cannot help asking for a human being, either heroic, as in the fairy tales, or un-heroic, as in the modern novels.  But by using animals in this austere and arbitrary style as they are used on the shields of heraldry or the hieroglyphics of the ancients, men have really succeeded in handing down those tremendous truths that are called truisms. If the chivalric lion be red and rampant, it is rigidly red and rampant; if the sacred ibis stands anywhere on one leg, it stands on one leg for ever. In this language, like a large animal alphabet, are written some of the first philosophic certainties of men. As the child learns A for Ass or B for Bull or C for Cow, so man has learnt here to connect the simpler and stronger creatures with the simpler and stronger truths. That a flowing stream cannot befoul its own fountain, and that any one who says it does is a tyrant and a liar; that a mouse is too weak to fight a lion, but too strong for the cords that can hold a lion; that a fox who gets most out of a flat dish may easily get least out of a deep dish; that the crow whom the gods forbid to sing, the gods nevertheless provide with cheese; that when the goat insults from a mountain-top it is not the goat that insults, but the mountain: all these are deep truths deeply graven on the rocks wherever men have passed. It matters nothing how old they are, or how new; they are the alphabet of humanity, which like so many forms of primitive picture-writing employs any living symbol in preference to man. These ancient and universal tales are all of animals; as the latest discoveries in the oldest pre-historic caverns are all of animals. Man, in his simpler states, always felt that he himself was something too mysterious to be drawn. But the legend he carved under these cruder symbols was everywhere the same; and whether fables began with AEsop or began with Adam, whether they were German and mediaeval as Reynard the Fox, or as French and Renaissance as La Fontaine, the upshot is everywhere essentially the same: that superiority is always insolent, because it is always accidental; that pride goes before a fall; and that there is such a thing as being too clever by half. You will not find any other legend but this written upon the rocks by any hand of man. There is every type and time of fable: but there is only one moral to the fable; because there is only one moral to everything_.  G. K. CHESTERTON\n"
          ]
        }
      ]
    },
    {
      "cell_type": "code",
      "source": [],
      "metadata": {
        "id": "OW8WNKmAUOKM"
      },
      "execution_count": null,
      "outputs": []
    }
  ]
}