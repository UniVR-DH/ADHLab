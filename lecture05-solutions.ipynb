{
  "nbformat": 4,
  "nbformat_minor": 0,
  "metadata": {
    "colab": {
      "provenance": [],
      "include_colab_link": true
    },
    "kernelspec": {
      "name": "python3",
      "display_name": "Python 3"
    },
    "language_info": {
      "name": "python"
    }
  },
  "cells": [
    {
      "cell_type": "markdown",
      "metadata": {
        "id": "view-in-github",
        "colab_type": "text"
      },
      "source": [
        "<a href=\"https://colab.research.google.com/github/UniVR-DH/ADHLab/blob/main/lecture05-solutions.ipynb\" target=\"_parent\"><img src=\"https://colab.research.google.com/assets/colab-badge.svg\" alt=\"Open In Colab\"/></a>"
      ]
    },
    {
      "cell_type": "markdown",
      "source": [
        "# Testing Named Entity Recognition\n",
        "\n",
        "We will use the Spacy Library:\n",
        "https://spacy.io/usage/spacy-101\n"
      ],
      "metadata": {
        "id": "4MNB7PsQ99Bx"
      }
    },
    {
      "cell_type": "markdown",
      "source": [
        "<img src=\"https://drive.google.com/uc?export=view&id=1m_EMdnI5C826kgqK7r5vB4TXnB0-Wq7W\" alt=\"Intestazione con loghi istituzionali\" width=\"525\"/>\n",
        "\n",
        "| Docente      | Insegnamento | Anno Accademico    |\n",
        "| :---        |    :----   |          ---: |\n",
        "| Matteo Lissandrini      | Laboratorio Avanzato di Informatica Umanistica       | 2023/2024   |"
      ],
      "metadata": {
        "id": "dChTXqspd6TT"
      }
    },
    {
      "cell_type": "markdown",
      "source": [
        "## Usual install and basic imports"
      ],
      "metadata": {
        "id": "GXBM6I9FeBmc"
      }
    },
    {
      "cell_type": "code",
      "source": [
        "%pip install wikipedia-api\n",
        "%pip install spacy==3.7.0"
      ],
      "metadata": {
        "id": "pmOC8TtR5Wm5",
        "colab": {
          "base_uri": "https://localhost:8080/"
        },
        "outputId": "22f771f2-eb2e-4ba5-df13-ff50990508b6"
      },
      "execution_count": 11,
      "outputs": [
        {
          "output_type": "stream",
          "name": "stdout",
          "text": [
            "Requirement already satisfied: wikipedia-api in /usr/local/lib/python3.10/dist-packages (0.6.0)\n",
            "Requirement already satisfied: requests in /usr/local/lib/python3.10/dist-packages (from wikipedia-api) (2.31.0)\n",
            "Requirement already satisfied: charset-normalizer<4,>=2 in /usr/local/lib/python3.10/dist-packages (from requests->wikipedia-api) (3.3.2)\n",
            "Requirement already satisfied: idna<4,>=2.5 in /usr/local/lib/python3.10/dist-packages (from requests->wikipedia-api) (3.4)\n",
            "Requirement already satisfied: urllib3<3,>=1.21.1 in /usr/local/lib/python3.10/dist-packages (from requests->wikipedia-api) (2.0.7)\n",
            "Requirement already satisfied: certifi>=2017.4.17 in /usr/local/lib/python3.10/dist-packages (from requests->wikipedia-api) (2023.7.22)\n",
            "Requirement already satisfied: spacy==3.7.0 in /usr/local/lib/python3.10/dist-packages (3.7.0)\n",
            "Requirement already satisfied: spacy-legacy<3.1.0,>=3.0.11 in /usr/local/lib/python3.10/dist-packages (from spacy==3.7.0) (3.0.12)\n",
            "Requirement already satisfied: spacy-loggers<2.0.0,>=1.0.0 in /usr/local/lib/python3.10/dist-packages (from spacy==3.7.0) (1.0.5)\n",
            "Requirement already satisfied: murmurhash<1.1.0,>=0.28.0 in /usr/local/lib/python3.10/dist-packages (from spacy==3.7.0) (1.0.10)\n",
            "Requirement already satisfied: cymem<2.1.0,>=2.0.2 in /usr/local/lib/python3.10/dist-packages (from spacy==3.7.0) (2.0.8)\n",
            "Requirement already satisfied: preshed<3.1.0,>=3.0.2 in /usr/local/lib/python3.10/dist-packages (from spacy==3.7.0) (3.0.9)\n",
            "Requirement already satisfied: thinc<8.3.0,>=8.1.8 in /usr/local/lib/python3.10/dist-packages (from spacy==3.7.0) (8.1.12)\n",
            "Requirement already satisfied: wasabi<1.2.0,>=0.9.1 in /usr/local/lib/python3.10/dist-packages (from spacy==3.7.0) (1.1.2)\n",
            "Requirement already satisfied: srsly<3.0.0,>=2.4.3 in /usr/local/lib/python3.10/dist-packages (from spacy==3.7.0) (2.4.8)\n",
            "Requirement already satisfied: catalogue<2.1.0,>=2.0.6 in /usr/local/lib/python3.10/dist-packages (from spacy==3.7.0) (2.0.10)\n",
            "Requirement already satisfied: weasel<0.4.0,>=0.1.0 in /usr/local/lib/python3.10/dist-packages (from spacy==3.7.0) (0.3.4)\n",
            "Requirement already satisfied: typer<0.10.0,>=0.3.0 in /usr/local/lib/python3.10/dist-packages (from spacy==3.7.0) (0.9.0)\n",
            "Requirement already satisfied: pathy>=0.10.0 in /usr/local/lib/python3.10/dist-packages (from spacy==3.7.0) (0.10.3)\n",
            "Requirement already satisfied: smart-open<7.0.0,>=5.2.1 in /usr/local/lib/python3.10/dist-packages (from spacy==3.7.0) (6.4.0)\n",
            "Requirement already satisfied: tqdm<5.0.0,>=4.38.0 in /usr/local/lib/python3.10/dist-packages (from spacy==3.7.0) (4.66.1)\n",
            "Requirement already satisfied: requests<3.0.0,>=2.13.0 in /usr/local/lib/python3.10/dist-packages (from spacy==3.7.0) (2.31.0)\n",
            "Requirement already satisfied: pydantic!=1.8,!=1.8.1,<3.0.0,>=1.7.4 in /usr/local/lib/python3.10/dist-packages (from spacy==3.7.0) (1.10.13)\n",
            "Requirement already satisfied: jinja2 in /usr/local/lib/python3.10/dist-packages (from spacy==3.7.0) (3.1.2)\n",
            "Requirement already satisfied: setuptools in /usr/local/lib/python3.10/dist-packages (from spacy==3.7.0) (67.7.2)\n",
            "Requirement already satisfied: packaging>=20.0 in /usr/local/lib/python3.10/dist-packages (from spacy==3.7.0) (23.2)\n",
            "Requirement already satisfied: langcodes<4.0.0,>=3.2.0 in /usr/local/lib/python3.10/dist-packages (from spacy==3.7.0) (3.3.0)\n",
            "Requirement already satisfied: numpy>=1.19.0 in /usr/local/lib/python3.10/dist-packages (from spacy==3.7.0) (1.23.5)\n",
            "Requirement already satisfied: typing-extensions>=4.2.0 in /usr/local/lib/python3.10/dist-packages (from pydantic!=1.8,!=1.8.1,<3.0.0,>=1.7.4->spacy==3.7.0) (4.5.0)\n",
            "Requirement already satisfied: charset-normalizer<4,>=2 in /usr/local/lib/python3.10/dist-packages (from requests<3.0.0,>=2.13.0->spacy==3.7.0) (3.3.2)\n",
            "Requirement already satisfied: idna<4,>=2.5 in /usr/local/lib/python3.10/dist-packages (from requests<3.0.0,>=2.13.0->spacy==3.7.0) (3.4)\n",
            "Requirement already satisfied: urllib3<3,>=1.21.1 in /usr/local/lib/python3.10/dist-packages (from requests<3.0.0,>=2.13.0->spacy==3.7.0) (2.0.7)\n",
            "Requirement already satisfied: certifi>=2017.4.17 in /usr/local/lib/python3.10/dist-packages (from requests<3.0.0,>=2.13.0->spacy==3.7.0) (2023.7.22)\n",
            "Requirement already satisfied: blis<0.8.0,>=0.7.8 in /usr/local/lib/python3.10/dist-packages (from thinc<8.3.0,>=8.1.8->spacy==3.7.0) (0.7.11)\n",
            "Requirement already satisfied: confection<1.0.0,>=0.0.1 in /usr/local/lib/python3.10/dist-packages (from thinc<8.3.0,>=8.1.8->spacy==3.7.0) (0.1.3)\n",
            "Requirement already satisfied: click<9.0.0,>=7.1.1 in /usr/local/lib/python3.10/dist-packages (from typer<0.10.0,>=0.3.0->spacy==3.7.0) (8.1.7)\n",
            "Requirement already satisfied: cloudpathlib<0.17.0,>=0.7.0 in /usr/local/lib/python3.10/dist-packages (from weasel<0.4.0,>=0.1.0->spacy==3.7.0) (0.16.0)\n",
            "Requirement already satisfied: MarkupSafe>=2.0 in /usr/local/lib/python3.10/dist-packages (from jinja2->spacy==3.7.0) (2.1.3)\n"
          ]
        }
      ]
    },
    {
      "cell_type": "code",
      "source": [
        "import gzip\n",
        "import math\n",
        "import string\n",
        "import requests\n",
        "import numpy as np\n",
        "import regex as re\n",
        "import matplotlib.pyplot as plt\n",
        "from collections import Counter\n",
        "\n",
        "punct_regex = re.compile('[{}]'.format(re.escape(string.punctuation))) # Regex matching any punctuation\n",
        "space_regex = re.compile(' +') # Regex matching whitespace"
      ],
      "metadata": {
        "id": "miPm486TF629"
      },
      "execution_count": 22,
      "outputs": []
    },
    {
      "cell_type": "code",
      "source": [
        "import spacy\n",
        "from spacy import displacy\n",
        "# Load module for english\n",
        "nlp = spacy.load(\"en_core_web_sm\")"
      ],
      "metadata": {
        "id": "WPKx5_Wy2rCz"
      },
      "execution_count": 23,
      "outputs": []
    },
    {
      "cell_type": "markdown",
      "source": [
        "## Test the NER methods"
      ],
      "metadata": {
        "id": "0PY4xCPndvxy"
      }
    },
    {
      "cell_type": "code",
      "source": [
        "doc = nlp(\"Paris Hilton welcomes 2nd child with Carter Reum\")\n",
        "\n",
        "for ent in doc.ents:\n",
        "    print(ent.text, ent.start_char, ent.end_char, ent.label_)"
      ],
      "metadata": {
        "colab": {
          "base_uri": "https://localhost:8080/"
        },
        "id": "UuuNm2f37G6t",
        "outputId": "53e34afb-106f-4c21-bf1d-e1b25a4e96b6"
      },
      "execution_count": 14,
      "outputs": [
        {
          "output_type": "stream",
          "name": "stdout",
          "text": [
            "Paris Hilton 0 12 PERSON\n",
            "2nd 22 25 ORDINAL\n",
            "Carter Reum 37 48 PERSON\n"
          ]
        }
      ]
    },
    {
      "cell_type": "code",
      "source": [
        "# We can render in a nice format our annotations\n",
        "displacy.render(doc, style=\"ent\", jupyter=True)"
      ],
      "metadata": {
        "id": "ARHyM9GN87q4",
        "outputId": "48fd6b28-ff72-4cde-9baa-a42f572febe8",
        "colab": {
          "base_uri": "https://localhost:8080/",
          "height": 52
        }
      },
      "execution_count": 15,
      "outputs": [
        {
          "output_type": "display_data",
          "data": {
            "text/plain": [
              "<IPython.core.display.HTML object>"
            ],
            "text/html": [
              "<span class=\"tex2jax_ignore\"><div class=\"entities\" style=\"line-height: 2.5; direction: ltr\">\n",
              "<mark class=\"entity\" style=\"background: #aa9cfc; padding: 0.45em 0.6em; margin: 0 0.25em; line-height: 1; border-radius: 0.35em;\">\n",
              "    Paris Hilton\n",
              "    <span style=\"font-size: 0.8em; font-weight: bold; line-height: 1; border-radius: 0.35em; vertical-align: middle; margin-left: 0.5rem\">PERSON</span>\n",
              "</mark>\n",
              " welcomes \n",
              "<mark class=\"entity\" style=\"background: #e4e7d2; padding: 0.45em 0.6em; margin: 0 0.25em; line-height: 1; border-radius: 0.35em;\">\n",
              "    2nd\n",
              "    <span style=\"font-size: 0.8em; font-weight: bold; line-height: 1; border-radius: 0.35em; vertical-align: middle; margin-left: 0.5rem\">ORDINAL</span>\n",
              "</mark>\n",
              " child with \n",
              "<mark class=\"entity\" style=\"background: #aa9cfc; padding: 0.45em 0.6em; margin: 0 0.25em; line-height: 1; border-radius: 0.35em;\">\n",
              "    Carter Reum\n",
              "    <span style=\"font-size: 0.8em; font-weight: bold; line-height: 1; border-radius: 0.35em; vertical-align: middle; margin-left: 0.5rem\">PERSON</span>\n",
              "</mark>\n",
              "</div></span>"
            ]
          },
          "metadata": {}
        }
      ]
    },
    {
      "cell_type": "code",
      "source": [
        "doc = nlp(\"The Hilton Paris  hotel welcomes this year more than 1640 guests\")\n",
        "\n",
        "for ent in doc.ents:\n",
        "    print(ent.text, ent.start_char, ent.end_char, ent.label_)\n",
        "displacy.render(doc, style=\"ent\", jupyter=True)"
      ],
      "metadata": {
        "outputId": "db7a583a-1c13-4d63-c6b7-27b352da2036",
        "colab": {
          "base_uri": "https://localhost:8080/",
          "height": 107
        },
        "id": "Edix6GV2E3kk"
      },
      "execution_count": 16,
      "outputs": [
        {
          "output_type": "stream",
          "name": "stdout",
          "text": [
            "Hilton Paris 4 16 GPE\n",
            "this year 33 42 DATE\n",
            "more than 1640 43 57 CARDINAL\n"
          ]
        },
        {
          "output_type": "display_data",
          "data": {
            "text/plain": [
              "<IPython.core.display.HTML object>"
            ],
            "text/html": [
              "<span class=\"tex2jax_ignore\"><div class=\"entities\" style=\"line-height: 2.5; direction: ltr\">The \n",
              "<mark class=\"entity\" style=\"background: #feca74; padding: 0.45em 0.6em; margin: 0 0.25em; line-height: 1; border-radius: 0.35em;\">\n",
              "    Hilton Paris\n",
              "    <span style=\"font-size: 0.8em; font-weight: bold; line-height: 1; border-radius: 0.35em; vertical-align: middle; margin-left: 0.5rem\">GPE</span>\n",
              "</mark>\n",
              "  hotel welcomes \n",
              "<mark class=\"entity\" style=\"background: #bfe1d9; padding: 0.45em 0.6em; margin: 0 0.25em; line-height: 1; border-radius: 0.35em;\">\n",
              "    this year\n",
              "    <span style=\"font-size: 0.8em; font-weight: bold; line-height: 1; border-radius: 0.35em; vertical-align: middle; margin-left: 0.5rem\">DATE</span>\n",
              "</mark>\n",
              " \n",
              "<mark class=\"entity\" style=\"background: #e4e7d2; padding: 0.45em 0.6em; margin: 0 0.25em; line-height: 1; border-radius: 0.35em;\">\n",
              "    more than 1640\n",
              "    <span style=\"font-size: 0.8em; font-weight: bold; line-height: 1; border-radius: 0.35em; vertical-align: middle; margin-left: 0.5rem\">CARDINAL</span>\n",
              "</mark>\n",
              " guests</div></span>"
            ]
          },
          "metadata": {}
        }
      ]
    },
    {
      "cell_type": "code",
      "source": [
        "doc = nlp(\"Hilton Paris: Born in New York City, and raised there and in Los Angeles \")\n",
        "\n",
        "for ent in doc.ents:\n",
        "    print(ent.text, ent.start_char, ent.end_char, ent.label_)\n",
        "displacy.render(doc, style=\"ent\", jupyter=True)"
      ],
      "metadata": {
        "outputId": "c973c8bf-d733-4346-a00f-442cbe54da59",
        "colab": {
          "base_uri": "https://localhost:8080/",
          "height": 107
        },
        "id": "etKC5tdbFSJu"
      },
      "execution_count": 17,
      "outputs": [
        {
          "output_type": "stream",
          "name": "stdout",
          "text": [
            "Hilton Paris 0 12 PERSON\n",
            "New York City 22 35 GPE\n",
            "Los Angeles 61 72 GPE\n"
          ]
        },
        {
          "output_type": "display_data",
          "data": {
            "text/plain": [
              "<IPython.core.display.HTML object>"
            ],
            "text/html": [
              "<span class=\"tex2jax_ignore\"><div class=\"entities\" style=\"line-height: 2.5; direction: ltr\">\n",
              "<mark class=\"entity\" style=\"background: #aa9cfc; padding: 0.45em 0.6em; margin: 0 0.25em; line-height: 1; border-radius: 0.35em;\">\n",
              "    Hilton Paris\n",
              "    <span style=\"font-size: 0.8em; font-weight: bold; line-height: 1; border-radius: 0.35em; vertical-align: middle; margin-left: 0.5rem\">PERSON</span>\n",
              "</mark>\n",
              ": Born in \n",
              "<mark class=\"entity\" style=\"background: #feca74; padding: 0.45em 0.6em; margin: 0 0.25em; line-height: 1; border-radius: 0.35em;\">\n",
              "    New York City\n",
              "    <span style=\"font-size: 0.8em; font-weight: bold; line-height: 1; border-radius: 0.35em; vertical-align: middle; margin-left: 0.5rem\">GPE</span>\n",
              "</mark>\n",
              ", and raised there and in \n",
              "<mark class=\"entity\" style=\"background: #feca74; padding: 0.45em 0.6em; margin: 0 0.25em; line-height: 1; border-radius: 0.35em;\">\n",
              "    Los Angeles\n",
              "    <span style=\"font-size: 0.8em; font-weight: bold; line-height: 1; border-radius: 0.35em; vertical-align: middle; margin-left: 0.5rem\">GPE</span>\n",
              "</mark>\n",
              " </div></span>"
            ]
          },
          "metadata": {}
        }
      ]
    },
    {
      "cell_type": "code",
      "source": [
        "# Longer document\n",
        "doc = nlp(\"\"\"\n",
        "Citing high fuel prices, United Airlines said Friday it has increased fares by $6\n",
        "per round trip on flights to some cities also served by lower-cost carriers.\n",
        "American Airlines, a unit of AMR Corp., immediately matched the move,\n",
        "spokesman Tim Wagner said.\n",
        "\"\"\")\n",
        "\n",
        "for ent in doc.ents:\n",
        "    print(ent.text, ent.start_char, ent.end_char, ent.label_)\n",
        "\n",
        "displacy.render(doc, style=\"ent\", jupyter=True)"
      ],
      "metadata": {
        "outputId": "f7484718-3d6a-41a9-9d1b-ef861a69f638",
        "colab": {
          "base_uri": "https://localhost:8080/",
          "height": 302
        },
        "id": "id0Yik_qKmKR"
      },
      "execution_count": 18,
      "outputs": [
        {
          "output_type": "stream",
          "name": "stdout",
          "text": [
            "United Airlines 26 41 ORG\n",
            "Friday 47 53 DATE\n",
            "6 81 82 MONEY\n",
            "American Airlines 160 177 ORG\n",
            "AMR Corp. 189 198 ORG\n",
            "Tim Wagner 240 250 PERSON\n"
          ]
        },
        {
          "output_type": "display_data",
          "data": {
            "text/plain": [
              "<IPython.core.display.HTML object>"
            ],
            "text/html": [
              "<span class=\"tex2jax_ignore\"><div class=\"entities\" style=\"line-height: 2.5; direction: ltr\"><br>Citing high fuel prices, \n",
              "<mark class=\"entity\" style=\"background: #7aecec; padding: 0.45em 0.6em; margin: 0 0.25em; line-height: 1; border-radius: 0.35em;\">\n",
              "    United Airlines\n",
              "    <span style=\"font-size: 0.8em; font-weight: bold; line-height: 1; border-radius: 0.35em; vertical-align: middle; margin-left: 0.5rem\">ORG</span>\n",
              "</mark>\n",
              " said \n",
              "<mark class=\"entity\" style=\"background: #bfe1d9; padding: 0.45em 0.6em; margin: 0 0.25em; line-height: 1; border-radius: 0.35em;\">\n",
              "    Friday\n",
              "    <span style=\"font-size: 0.8em; font-weight: bold; line-height: 1; border-radius: 0.35em; vertical-align: middle; margin-left: 0.5rem\">DATE</span>\n",
              "</mark>\n",
              " it has increased fares by $\n",
              "<mark class=\"entity\" style=\"background: #e4e7d2; padding: 0.45em 0.6em; margin: 0 0.25em; line-height: 1; border-radius: 0.35em;\">\n",
              "    6\n",
              "    <span style=\"font-size: 0.8em; font-weight: bold; line-height: 1; border-radius: 0.35em; vertical-align: middle; margin-left: 0.5rem\">MONEY</span>\n",
              "</mark>\n",
              "<br>per round trip on flights to some cities also served by lower-cost carriers.<br>\n",
              "<mark class=\"entity\" style=\"background: #7aecec; padding: 0.45em 0.6em; margin: 0 0.25em; line-height: 1; border-radius: 0.35em;\">\n",
              "    American Airlines\n",
              "    <span style=\"font-size: 0.8em; font-weight: bold; line-height: 1; border-radius: 0.35em; vertical-align: middle; margin-left: 0.5rem\">ORG</span>\n",
              "</mark>\n",
              ", a unit of \n",
              "<mark class=\"entity\" style=\"background: #7aecec; padding: 0.45em 0.6em; margin: 0 0.25em; line-height: 1; border-radius: 0.35em;\">\n",
              "    AMR Corp.\n",
              "    <span style=\"font-size: 0.8em; font-weight: bold; line-height: 1; border-radius: 0.35em; vertical-align: middle; margin-left: 0.5rem\">ORG</span>\n",
              "</mark>\n",
              ", immediately matched the move,<br>spokesman \n",
              "<mark class=\"entity\" style=\"background: #aa9cfc; padding: 0.45em 0.6em; margin: 0 0.25em; line-height: 1; border-radius: 0.35em;\">\n",
              "    Tim Wagner\n",
              "    <span style=\"font-size: 0.8em; font-weight: bold; line-height: 1; border-radius: 0.35em; vertical-align: middle; margin-left: 0.5rem\">PERSON</span>\n",
              "</mark>\n",
              " said.<br></div></span>"
            ]
          },
          "metadata": {}
        }
      ]
    },
    {
      "cell_type": "markdown",
      "source": [
        "## Goal:  Test how NER would work on Text from Alice in Wonderland and Aesop's Fables\n",
        "\n"
      ],
      "metadata": {
        "id": "zzYNeqRXeSQa"
      }
    },
    {
      "cell_type": "code",
      "source": [
        "def get_pages(book_text):\n",
        "  \"\"\"\n",
        "  Function that given  the book text returns a list of pages\n",
        "  \"\"\"\n",
        "  _pages = [ _page.strip() for _page in book_text.split(\"\\n\\r\\n\\r\\n\\r\")] # pages are divided by multiple newlines\n",
        "  _pages = [ space_regex.sub(' ', page).strip() for page in _pages ]\n",
        "  _pages = [ space_regex.sub(' ', \" \".join(page.splitlines())) for page in _pages ]\n",
        "  _pages = [ _page for _page in _pages if _pages != '' ]\n",
        "\n",
        "  return _pages"
      ],
      "metadata": {
        "id": "oDvifMzNp-ve"
      },
      "execution_count": 19,
      "outputs": []
    },
    {
      "cell_type": "code",
      "source": [
        "# request the raw text of Alice in Wonderland\n",
        "r = requests.get(r'https://ia801604.us.archive.org/6/items/alicesadventures19033gut/19033.txt')\n",
        "alice = r.text\n",
        "\n",
        "alice_pages = get_pages(alice)\n",
        "\n",
        "\n",
        "r = requests.get(r'https://ia600906.us.archive.org/29/items/aesopsfablesanew11339gut/11339.txt')\n",
        "fables = r.text\n",
        "\n",
        "fables_pages = get_pages(fables)\n",
        "\n"
      ],
      "metadata": {
        "id": "AZXAKNfk8Y_w"
      },
      "execution_count": 20,
      "outputs": []
    },
    {
      "cell_type": "code",
      "source": [
        "print(len(fables_pages))\n",
        "print(len(alice_pages))"
      ],
      "metadata": {
        "id": "Sjs5s1cQjfq1",
        "outputId": "80cf1645-98e8-48e6-8f21-6568db412119",
        "colab": {
          "base_uri": "https://localhost:8080/"
        }
      },
      "execution_count": 26,
      "outputs": [
        {
          "output_type": "stream",
          "name": "stdout",
          "text": [
            "296\n",
            "22\n"
          ]
        }
      ]
    },
    {
      "cell_type": "code",
      "source": [
        "test_page = fables_pages[24]\n",
        "doc = nlp(test_page)\n",
        "displacy.render(doc, style=\"ent\", jupyter=True)"
      ],
      "metadata": {
        "id": "OW8WNKmAUOKM",
        "colab": {
          "base_uri": "https://localhost:8080/",
          "height": 262
        },
        "outputId": "78a53fed-2e5d-4700-a21b-a8caf1cb5859"
      },
      "execution_count": 29,
      "outputs": [
        {
          "output_type": "display_data",
          "data": {
            "text/plain": [
              "<IPython.core.display.HTML object>"
            ],
            "text/html": [
              "<span class=\"tex2jax_ignore\"><div class=\"entities\" style=\"line-height: 2.5; direction: ltr\">THE ASS, THE \n",
              "<mark class=\"entity\" style=\"background: #7aecec; padding: 0.45em 0.6em; margin: 0 0.25em; line-height: 1; border-radius: 0.35em;\">\n",
              "    FOX\n",
              "    <span style=\"font-size: 0.8em; font-weight: bold; line-height: 1; border-radius: 0.35em; vertical-align: middle; margin-left: 0.5rem\">ORG</span>\n",
              "</mark>\n",
              ", AND THE LION An Ass and a \n",
              "<mark class=\"entity\" style=\"background: #7aecec; padding: 0.45em 0.6em; margin: 0 0.25em; line-height: 1; border-radius: 0.35em;\">\n",
              "    Fox\n",
              "    <span style=\"font-size: 0.8em; font-weight: bold; line-height: 1; border-radius: 0.35em; vertical-align: middle; margin-left: 0.5rem\">ORG</span>\n",
              "</mark>\n",
              " went into partnership and sallied out to forage for food together. They hadn't gone far before they saw a \n",
              "<mark class=\"entity\" style=\"background: #7aecec; padding: 0.45em 0.6em; margin: 0 0.25em; line-height: 1; border-radius: 0.35em;\">\n",
              "    Lion\n",
              "    <span style=\"font-size: 0.8em; font-weight: bold; line-height: 1; border-radius: 0.35em; vertical-align: middle; margin-left: 0.5rem\">ORG</span>\n",
              "</mark>\n",
              " coming their way, at which they were both dreadfully frightened. But the \n",
              "<mark class=\"entity\" style=\"background: #7aecec; padding: 0.45em 0.6em; margin: 0 0.25em; line-height: 1; border-radius: 0.35em;\">\n",
              "    Fox\n",
              "    <span style=\"font-size: 0.8em; font-weight: bold; line-height: 1; border-radius: 0.35em; vertical-align: middle; margin-left: 0.5rem\">ORG</span>\n",
              "</mark>\n",
              " thought he saw a way of saving his own skin, and went boldly up to the \n",
              "<mark class=\"entity\" style=\"background: #7aecec; padding: 0.45em 0.6em; margin: 0 0.25em; line-height: 1; border-radius: 0.35em;\">\n",
              "    Lion\n",
              "    <span style=\"font-size: 0.8em; font-weight: bold; line-height: 1; border-radius: 0.35em; vertical-align: middle; margin-left: 0.5rem\">ORG</span>\n",
              "</mark>\n",
              " and whispered in his ear, &quot;I'll manage that you shall get hold of the Ass without the trouble of stalking him, if you'll promise to let me go free.&quot; The \n",
              "<mark class=\"entity\" style=\"background: #7aecec; padding: 0.45em 0.6em; margin: 0 0.25em; line-height: 1; border-radius: 0.35em;\">\n",
              "    Lion\n",
              "    <span style=\"font-size: 0.8em; font-weight: bold; line-height: 1; border-radius: 0.35em; vertical-align: middle; margin-left: 0.5rem\">ORG</span>\n",
              "</mark>\n",
              " agreed to this, and the \n",
              "<mark class=\"entity\" style=\"background: #7aecec; padding: 0.45em 0.6em; margin: 0 0.25em; line-height: 1; border-radius: 0.35em;\">\n",
              "    Fox\n",
              "    <span style=\"font-size: 0.8em; font-weight: bold; line-height: 1; border-radius: 0.35em; vertical-align: middle; margin-left: 0.5rem\">ORG</span>\n",
              "</mark>\n",
              " then rejoined his companion and contrived before long to lead him by a hidden pit, which some hunter had dug as a trap for wild animals, and into which he fell. When the \n",
              "<mark class=\"entity\" style=\"background: #7aecec; padding: 0.45em 0.6em; margin: 0 0.25em; line-height: 1; border-radius: 0.35em;\">\n",
              "    Lion\n",
              "    <span style=\"font-size: 0.8em; font-weight: bold; line-height: 1; border-radius: 0.35em; vertical-align: middle; margin-left: 0.5rem\">ORG</span>\n",
              "</mark>\n",
              " saw that the Ass was safely caught and couldn't get away, it was to the \n",
              "<mark class=\"entity\" style=\"background: #7aecec; padding: 0.45em 0.6em; margin: 0 0.25em; line-height: 1; border-radius: 0.35em;\">\n",
              "    Fox\n",
              "    <span style=\"font-size: 0.8em; font-weight: bold; line-height: 1; border-radius: 0.35em; vertical-align: middle; margin-left: 0.5rem\">ORG</span>\n",
              "</mark>\n",
              " that he \n",
              "<mark class=\"entity\" style=\"background: #e4e7d2; padding: 0.45em 0.6em; margin: 0 0.25em; line-height: 1; border-radius: 0.35em;\">\n",
              "    first\n",
              "    <span style=\"font-size: 0.8em; font-weight: bold; line-height: 1; border-radius: 0.35em; vertical-align: middle; margin-left: 0.5rem\">ORDINAL</span>\n",
              "</mark>\n",
              " turned his attention, and he soon finished him off, and then at his leisure proceeded to feast upon \n",
              "<mark class=\"entity\" style=\"background: #f0d0ff; padding: 0.45em 0.6em; margin: 0 0.25em; line-height: 1; border-radius: 0.35em;\">\n",
              "    the Ass\n",
              "    <span style=\"font-size: 0.8em; font-weight: bold; line-height: 1; border-radius: 0.35em; vertical-align: middle; margin-left: 0.5rem\">WORK_OF_ART</span>\n",
              "</mark>\n",
              ". Betray a friend, and you'll often find you have ruined yourself.</div></span>"
            ]
          },
          "metadata": {}
        }
      ]
    },
    {
      "cell_type": "code",
      "source": [
        "\"\"\"\n",
        "PERSON:      People, including fictional.\n",
        "NORP:        Nationalities or religious or political groups.\n",
        "FAC:         Buildings, airports, highways, bridges, etc.\n",
        "ORG:         Companies, agencies, institutions, etc.\n",
        "GPE:         Countries, cities, states.\n",
        "LOC:         Non-GPE locations, mountain ranges, bodies of water.\n",
        "PRODUCT:     Objects, vehicles, foods, etc. (Not services.)\n",
        "EVENT:       Named hurricanes, battles, wars, sports events, etc.\n",
        "WORK_OF_ART: Titles of books, songs, etc.\n",
        "LAW:         Named documents made into laws.\n",
        "LANGUAGE:    Any named language.\n",
        "DATE:        Absolute or relative dates or periods.\n",
        "TIME:        Times smaller than a day.\n",
        "PERCENT:     Percentage, including ”%“.\n",
        "MONEY:       Monetary values, including unit.\n",
        "QUANTITY:    Measurements, as of weight or distance.\n",
        "ORDINAL:     “first”, “second”, etc.\n",
        "CARDINAL:    Numerals that do not fall under another type.\n",
        "\"\"\"\n"
      ],
      "metadata": {
        "id": "KdjAuc99g9kS"
      },
      "execution_count": 21,
      "outputs": []
    },
    {
      "cell_type": "code",
      "source": [
        "\n",
        "\n",
        "invert['torta'] = [ 'Anna' , 'MArco']\n",
        "\n",
        "\n",
        "\n"
      ],
      "metadata": {
        "id": "KE2MY4Arre1c"
      },
      "execution_count": null,
      "outputs": []
    },
    {
      "cell_type": "code",
      "source": [
        "index = {}\n",
        "\n",
        "\n",
        "\n",
        "\n",
        "for pos, page in enumerate(fables_pages):\n",
        "  if pos < 10:\n",
        "    continue\n",
        "  # for each page use spacy to identify NE\n",
        "  doc = nlp(page)\n",
        "\n",
        "  for ent in doc.ents:\n",
        "      _key = (ent.text, ent.label_)\n",
        "      if _key not in index:\n",
        "        index[_key] = set()\n",
        "\n",
        "      index[_key].add(pos)\n",
        "\n",
        "\n",
        "print(len(index))\n",
        "\n",
        "\n",
        "q=\"The Ass, The Fox, they saw a Lion\"\n",
        "doc = nlp(q)\n",
        "\n",
        "for ent in doc.ents:\n",
        "  print(ent.text, ent.label_,  index[(ent.text, ent.label_)])\n",
        "\n",
        "\n",
        "\n",
        "    #index\n",
        "\n",
        "\n",
        "###############\n",
        "\n",
        "# index = {\n",
        "\n",
        "#          ('Fox', 'ORG') : q,\n",
        "#          ('Lion', 'ORG') :q\n",
        "\n",
        "# }\n",
        "\n",
        "# #displacy.render(doc, style=\"ent\", jupyter=True)\n",
        "# alice_pages\n",
        "# fables_pages\n",
        "\n",
        "\n",
        "\n",
        "\n",
        "\n"
      ],
      "metadata": {
        "id": "sGVougsBlwtV",
        "outputId": "4fa626ea-3976-41bc-b09d-36f5f84a2861",
        "colab": {
          "base_uri": "https://localhost:8080/"
        }
      },
      "execution_count": 43,
      "outputs": [
        {
          "output_type": "stream",
          "name": "stdout",
          "text": [
            "605\n",
            "Fox ORG {256, 259, 261, 263, 264, 138, 15, 271, 272, 273, 149, 24, 152, 32, 37, 41, 48, 53, 60, 67, 69, 71, 72, 202, 210, 211, 93, 96, 104, 237, 110, 120, 252}\n",
            "Lion ORG {128, 259, 261, 135, 138, 273, 148, 24, 25, 166, 44, 181, 187, 69, 207, 84, 254, 86, 219, 223, 99, 247, 249, 252, 126}\n"
          ]
        }
      ]
    },
    {
      "cell_type": "code",
      "source": [
        "print(index.keys())"
      ],
      "metadata": {
        "id": "6qNX5dZOuPQO",
        "outputId": "d4a84b38-0f8e-460a-f00c-fb31855fb5df",
        "colab": {
          "base_uri": "https://localhost:8080/"
        }
      },
      "execution_count": 42,
      "outputs": [
        {
          "output_type": "stream",
          "name": "stdout",
          "text": [
            "dict_keys([('Charcoal', 'ORG'), ('Fuller', 'ORG'), ('THE MICE IN COUNCIL Once', 'ORG'), ('Mice', 'ORG'), ('Council', 'ORG'), ('Mouse', 'PERSON'), ('Bat', 'PERSON'), ('Weasel', 'PERSON'), ('Weasel', 'ORG'), ('FOX', 'ORG'), ('THE CROW A Crow', 'ORG'), ('Fox', 'ORG'), ('Crow', 'PERSON'), ('HORSE', 'ORG'), ('Groom', 'PRODUCT'), ('long hours', 'TIME'), ('daily', 'DATE'), ('Groom', 'PERSON'), ('WOLF', 'PERSON'), ('LAMB', 'NORP'), ('Wolf', 'PERSON'), ('Lamb', 'PERSON'), ('Last year', 'DATE'), ('PEACOCK', 'ORG'), ('Crane', 'PRODUCT'), ('Crane', 'PERSON'), ('CAT', 'ORG'), ('Cat', 'ORG'), ('SPENDTHRIFT', 'ORG'), ('early spring', 'DATE'), ('Swallow', 'PERSON'), ('Spendthrift', 'ORG'), ('One', 'CARDINAL'), ('summer', 'DATE'), ('MOON', 'ORG'), ('Moon', 'PERSON'), ('one', 'CARDINAL'), ('New Moon', 'GPE'), ('MERCURY', 'ORG'), ('THE WOODMAN', 'ORG'), ('Mercury', 'ORG'), ('Woodman', 'ORG'), ('second', 'ORDINAL'), ('Woodman', 'FAC'), ('Woodman', 'PERSON'), ('two', 'CARDINAL'), ('Honesty', 'GPE'), ('Lion', 'ORG'), ('first', 'ORDINAL'), ('the Ass', 'WORK_OF_ART'), ('Lion', 'PERSON'), ('CROW', 'NORP'), ('Pitcher', 'GPE'), ('BOYS', 'PRODUCT'), ('FROGS', 'LAW'), ('Frogs', 'PERSON'), ('SUN', 'ORG'), ('North Wind', 'GPE'), ('Sun', 'ORG'), ('Sun', 'LOC'), ('such an hour', 'TIME'), ('winter', 'DATE'), ('Mistress', 'ORG'), ('Mistress', 'NORP'), ('the middle of the night', 'DATE'), ('Goods', 'LOC'), ('earth', 'LOC'), ('Jupiter', 'LOC'), ('Jupiter', 'PERSON'), ('Ills', 'GPE'), ('Goods', 'PERSON'), ('HARES', 'ORG'), ('Hares', 'ORG'), ('Frogs', 'ORG'), ('the night', 'TIME'), ('Sheep', 'ORG'), ('Oxen', 'ORG'), ('afternoon', 'TIME'), ('more than one', 'CARDINAL'), ('Stag', 'LOC'), ('Oxen', 'GPE'), ('DOLPHINS', 'ORG'), ('WHALES', 'PERSON'), ('Whales', 'PERSON'), ('Sprat', 'ORG'), ('Dolphins', 'PERSON'), ('Monkey', 'PRODUCT'), ('Monkey', 'ORG'), ('their day', 'DATE'), ('Ass and a Lap-dog', 'WORK_OF_ART'), ('half', 'CARDINAL'), ('FIR', 'ORG'), ('Bramble', 'ORG'), ('Bramble', 'PERSON'), ('Fir', 'NORP'), ('FROGS', 'ORG'), ('Suns', 'ORG'), ('COCK', 'ORG'), ('Cock', 'PERSON'), ('GNAT', 'ORG'), ('Bull', 'PERSON'), ('BEAR', 'ORG'), ('Bear', 'ORG'), ('Traveller', 'PERSON'), ('fidelity', 'ORG'), ('FLEA', 'ORG'), ('BEE', 'ORG'), ('Queen Bee', 'PERSON'), ('Hymettus', 'PERSON'), ('Olympus', 'NORP'), ('OAK', 'ORG'), ('Reeds', 'ORG'), ('CUB', 'ORG'), ('Blind Man', 'WORK_OF_ART'), ('Cub', 'ORG'), ('BOY', 'ORG'), ('APES', 'ORG'), ('TWO', 'CARDINAL'), ('Two', 'CARDINAL'), ('Apes', 'GPE'), ('Apes', 'FAC'), ('Apes', 'PRODUCT'), ('Travellers', 'ORG'), ('Ape', 'PERSON'), ('The King of the Apes', 'WORK_OF_ART'), ('wolf', 'PERSON'), ('Goat', 'PERSON'), ('The Goat', 'WORK_OF_ART'), ('one day', 'DATE'), ('Fisherman', 'ORG'), ('Rhodes', 'GPE'), ('Rhodes', 'PERSON'), ('Rhodes for a minute', 'WORK_OF_ART'), ('The Young Crab', 'WORK_OF_ART'), ('The Old Crab', 'WORK_OF_ART'), ('Ass', 'WORK_OF_ART'), ('summertime', 'DATE'), ('the day', 'DATE'), ('Shadow', 'PRODUCT'), ('FARMER', 'ORG'), ('Sons', 'ORG'), ('two or three days', 'DATE'), ('Cook', 'PERSON'), ('Beasts', 'NORP'), ('the Goddess of the Earth', 'ORG'), ('Earth', 'LOC'), ('Fortune', 'WORK_OF_ART'), ('JUPITER', 'LOC'), ('OWL', 'ORG'), ('Birds', 'ORG'), (\"Lion's Skin\", 'ORG'), ('Fox', 'PERSON'), ('THE QUACK FROG Once', 'ORG'), ('Physician', 'PERSON'), ('THE SWOLLEN FOX A', 'ORG'), ('MOUSE', 'ORG'), ('FROG', 'ORG'), ('Frog', 'ORG'), ('Mouse', 'NORP'), ('Hawk', 'PERSON'), ('Hawk', 'ORG'), ('Nettle', 'NORP'), ('PEASANT', 'ORG'), ('APPLE', 'ORG'), ('Peasant', 'ORG'), ('Apple', 'ORG'), ('JACKDAW', 'ORG'), ('Pigeons', 'ORG'), ('Tortoise', 'ORG'), ('OXEN', 'ORG'), ('Axletrees', 'PERSON'), ('Filberts', 'GPE'), ('THE FROGS ASKING FOR A KING Time', 'ORG'), ('FIG', 'ORG'), ('Olive', 'ORG'), ('Fig', 'PERSON'), ('the spring', 'DATE'), ('the height of summer', 'DATE'), ('a little spring', 'DATE'), ('WALNUT', 'ORG'), ('every year', 'DATE'), ('Lions', 'PERSON'), ('TORTOISE', 'ORG'), ('Eagle', 'ORG'), ('Tortoise', 'GPE'), ('Foxes', 'ORG'), ('Foxes', 'PRODUCT'), ('a day', 'DATE'), ('Jackdaw', 'PERSON'), ('Jackdaw', 'PRODUCT'), ('Hurry', 'PERSON'), ('Winds', 'ORG'), ('Wild Boar', 'LOC'), ('THE SCULPTOR Mercury', 'ORG'), ('Sculptor', 'ORG'), ('Juno', 'ORG'), ('FAWN', 'ORG'), ('Fawn', 'PERSON'), ('Hind', 'PERSON'), ('third', 'ORDINAL'), ('EAGLE', 'ORG'), ('BLACKSMITH', 'ORG'), ('STAG', 'LOC'), ('Weasels', 'ORG'), ('Weasels', 'WORK_OF_ART'), ('Mice', 'PERSON'), ('Juno', 'PERSON'), ('Peacock', 'ORG'), ('Fate', 'PERSON'), ('four', 'CARDINAL'), ('this morning', 'TIME'), ('Waggoner', 'PERSON'), ('Hercules', 'GPE'), ('Pomegranate', 'PERSON'), ('Ethiopian', 'NORP'), ('Ethiopians', 'NORP'), ('Robber', 'FAC'), ('Robber', 'LOC'), ('Wild Ass', 'LOC'), ('three', 'CARDINAL'), ('Satyr', 'ORG'), ('Image of Mercury', 'ORG'), ('Arrow', 'PRODUCT'), ('Arrow', 'PERSON'), ('Tanner', 'PRODUCT'), ('the tan-yard', 'ORG'), ('Child', 'ORG'), ('the evening', 'TIME'), ('Child', 'PRODUCT'), ('Woman', 'PRODUCT'), ('Wine-jar', 'PERSON'), ('LIONESS', 'ORG'), ('Vixen', 'ORG'), ('Lioness', 'ORG'), ('VIPER', 'ORG'), ('File', 'ORG'), ('Cocks', 'PRODUCT'), ('day', 'DATE'), ('HARE', 'ORG'), ('Hare', 'GPE'), ('Hare', 'ORG'), ('Horse', 'NORP'), ('a given day', 'DATE'), ('Butchers', 'ORG'), ('SHEEP', 'ORG'), ('I.', 'ORG'), ('THREE', 'CARDINAL'), ('BULLS Three Bulls', 'ORG'), ('Bulls', 'ORG'), ('fed', 'ORG'), ('Rider', 'ORG'), ('Horse', 'ORG'), ('GOAT', 'ORG'), ('Vine', 'PERSON'), ('The Brazen Pot', 'ORG'), ('Hound', 'PRODUCT'), ('years', 'DATE'), ('One day', 'DATE'), ('Hound', 'PERSON'), ('Clown', 'ORG'), ('Countryman', 'PERSON'), ('the following day', 'DATE'), ('Countryman', 'ORG'), ('Larks', 'ORG'), ('a few days', 'DATE'), ('Lark', 'PERSON'), ('HOUND', 'ORG'), ('THE FOX A Lion', 'ORG'), ('Cat', 'LOC'), ('Wild Sow', 'LOC'), ('Sow', 'PERSON'), ('Only by night', 'TIME'), ('Dolphin', 'ORG'), ('Carpenter', 'PERSON'), ('the Country Mouse', 'GPE'), ('The Country Mouse', 'ORG'), ('Ape', 'PRODUCT'), ('Cock', 'NORP'), ('Jackdaw', 'LOC'), ('night', 'TIME'), ('Farmer', 'PERSON'), ('VENUS', 'ORG'), ('THE CAT A Cat', 'ORG'), ('Venus', 'LOC'), ('Venus', 'PERSON'), ('THE SWAN A Crow', 'ORG'), ('Swan', 'GPE'), ('Swan', 'NORP'), ('ONE', 'CARDINAL'), ('that quarter', 'DATE'), ('an unexpected quarter', 'DATE'), ('FLY', 'ORG'), ('Mule', 'PERSON'), ('THE JEWEL A Cock', 'ORG'), ('Jewel', 'PERSON'), ('Shepherd', 'PERSON'), ('CHARGER', 'ORG'), ('all day', 'DATE'), ('Miller', 'PERSON'), ('Grasshopper', 'GPE'), ('Grasshopper', 'ORG'), ('Apollo', 'ORG'), ('Minerva', 'PERSON'), ('the other day', 'DATE'), ('The Grasshopper', 'WORK_OF_ART'), ('Ants', 'ORG'), ('the winter', 'DATE'), ('the summer', 'DATE'), ('Viper', 'PRODUCT'), ('Kindness', 'PERSON'), ('The Marsh Frog', 'ORG'), ('A few days', 'DATE'), ('Cobbler', 'ORG'), ('the King of the country', 'WORK_OF_ART'), ('days', 'DATE'), ('BELLY', 'ORG'), ('BALD', 'ORG'), ('Bald Man', 'PERSON'), ('Fly', 'ORG'), ('MONKEY', 'ORG'), ('CAMEL', 'ORG'), ('Camel', 'ORG'), ('Plane', 'PERSON'), ('BIRDS', 'ORG'), ('BEASTS', 'ORG'), ('THE BAT The Birds', 'WORK_OF_ART'), ('this day', 'DATE'), ('First', 'ORDINAL'), ('secondly', 'ORDINAL'), ('thirdly', 'ORDINAL'), ('MILLER', 'ORG'), ('Son', 'PERSON'), ('STAG', 'ORG'), ('ARCHER', 'ORG'), ('Archer', 'PERSON'), ('Ass and a Mule', 'WORK_OF_ART'), ('BROTHER', 'ORG'), ('Sister', 'PERSON'), ('HEIFER', 'ORG'), ('Heifer', 'ORG'), ('THE KINGDOM OF THE LION', 'FAC'), ('Driver', 'ORG'), ('THE HARE', 'ORG'), ('Wolves', 'ORG'), ('Wolves', 'FAC'), ('Wolves', 'GPE'), ('BULL', 'ORG'), ('CALF', 'ORG'), ('ASTRONOMER', 'ORG'), ('Astronomer', 'PERSON'), ('One night', 'TIME'), ('LABOURER', 'ORG'), ('Snake', 'ORG'), ('THE BAT A Singing-bird', 'WORK_OF_ART'), ('Bird', 'ORG'), ('KID', 'ORG'), ('Before many minutes', 'TIME'), ('DEBTOR', 'PERSON'), ('Athens', 'GPE'), ('Debtor', 'PERSON'), ('Mysteries', 'PERSON'), ('Panathenea', 'GPE'), ('Athenians', 'NORP'), ('Dionysia', 'GPE'), ('Sow', 'GPE'), ('THE BALD HUNTSMAN A Man', 'ORG'), ('Herdsman', 'PERSON'), ('Great Jupiter', 'WORK_OF_ART'), ('One morning', 'TIME'), ('the end of the day', 'DATE'), ('THIEF', 'ORG'), ('some days', 'DATE'), ('Innkeeper', 'ORG'), ('Innkeeper', 'LOC'), ('Gardener', 'ORG'), ('every day', 'DATE'), ('Two Frogs', 'PERSON'), ('CRAB', 'WORK_OF_ART'), ('THE GRASSHOPPER A Grasshopper', 'ORG'), ('Rooks', 'PERSON'), ('Rooks', 'ORG'), ('Asses', 'ORG'), ('Image', 'ORG'), ('ATHENIAN', 'PRODUCT'), ('Athenian', 'NORP'), ('Theban', 'PRODUCT'), ('Theban', 'ORG'), ('Theseus', 'PERSON'), ('Thebes', 'PERSON'), ('Theseus', 'GPE'), ('GOATHERD', 'ORG'), ('Goatherd', 'PERSON'), ('Elephant', 'ORG'), ('ten thousand', 'CARDINAL'), ('PIG', 'ORG'), ('BEE-KEEPER A Thief', 'ORG'), ('Keeper', 'PERSON'), ('Seagull', 'ORG'), ('Seagull', 'PERSON'), ('Seagull', 'LOC'), ('some day', 'DATE'), ('WASP', 'ORG'), ('Beetle', 'PRODUCT'), ('Beetle', 'FAC'), ('Eagles', 'GPE'), ('Eagles', 'PERSON'), ('the season', 'DATE'), ('Beetles', 'ORG'), ('FOWLER', 'LOC'), ('Fowler', 'PERSON'), ('THE FISHERMAN PIPING A Fisherman', 'ORG'), ('Ploughman', 'NORP'), ('Assembly', 'ORG'), ('AEsop', 'ORG'), ('Demades', 'ORG'), ('Demeter', 'PERSON'), ('Eel', 'PERSON'), ('East', 'LOC'), ('Attica', 'GPE'), ('Piraeus', 'ORG'), ('Dolphin', 'PERSON'), ('Piraeus', 'PERSON'), ('NIGHTINGALE', 'ORG'), ('Nightingale', 'GPE'), ('ROSE', 'ORG'), ('THE AMARANTH A Rose', 'ORG'), ('Rose', 'PERSON'), ('MAN', 'ORG'), (\"One winter's day\", 'DATE'), ('Horse', 'PERSON'), ('WOLVES', 'GPE'), ('Ram', 'PERSON'), ('THE SWAN The Swan', 'EVENT'), ('Swan', 'PERSON'), ('A few days later', 'DATE'), ('that day', 'DATE'), ('hundreds', 'CARDINAL'), ('THE WILY LION A Lion', 'ORG'), ('Parrot', 'PERSON'), ('hundred', 'CARDINAL'), ('a hundred', 'CARDINAL'), ('Dogs', 'GPE'), ('Hides', 'ORG'), ('THE ASS A Lion', 'WORK_OF_ART'), ('FOWLER', 'LAW'), ('Partridge', 'PERSON'), ('the morning', 'TIME'), ('Gnat', 'LOC'), ('the King of the Beasts', 'WORK_OF_ART'), ('Eagle', 'FAC'), ('Butcher', 'PERSON'), ('THE QUACK DOCTOR A', 'ORG'), ('twenty-four hours', 'TIME'), ('HERCULES', 'PERSON'), ('Hercules', 'PERSON'), ('Plutus', 'ORG'), ('Leopard', 'PRODUCT'), ('Hedgehog', 'NORP'), ('Raven', 'LOC'), ('THE WITCH A Witch', 'ORG'), ('Devil', 'PERSON'), ('more than half', 'CARDINAL'), ('Death', 'PERSON'), ('A Miser', 'PERSON'), ('Every day', 'DATE'), ('one night', 'TIME'), ('Next day', 'DATE'), ('Miser', 'PERSON'), ('THE STAG A Lion', 'ORG'), ('Spade', 'PRODUCT'), ('Spade', 'ORG'), ('Hunter', 'PERSON'), ('Serpent', 'GPE'), ('Serpent', 'ORG'), ('ROGUE', 'ORG'), ('ORACLE A Rogue', 'ORG'), ('Delphi', 'ORG'), ('the appointed day', 'DATE'), ('Oracle', 'ORG'), ('Oracle', 'NORP'), ('Stranger', 'PRODUCT'), ('Grief', 'NORP'), ('KITE', 'ORG'), ('THE PIGEONS The Pigeons', 'ORG'), ('Kite', 'ORG'), ('a year', 'DATE'), ('Woman', 'ORG'), ('Farmer', 'LOC'), ('Man', 'GPE'), ('Mankind', 'PRODUCT'), ('a King of Athens', 'PERSON'), ('HUNTER', 'PERSON'), ('Horseman', 'PERSON'), ('gallop', 'ORG'), ('Horseman', 'PRODUCT'), ('Wild Goats', 'NORP'), ('TRAVELLER', 'ORG'), ('FORTUNE A Traveller', 'PERSON'), ('BLACKAMOOR', 'ORG'), (\"Aesop's Fables\", 'ORG'), ('Aesop **', 'LOC'), ('Suzanne Shell', 'PERSON'), ('Greg Chapman', 'PERSON'), ('the Online Distributed Proofreading Team', 'ORG'), ('a United States', 'GPE'), ('Foundation', 'ORG'), ('the United States', 'GPE'), ('the General Terms of Use', 'ORG'), ('Project Gutenberg-tm', 'PERSON'), ('Project Gutenberg', 'PERSON'), ('eBooks', 'ORG'), ('eBook', 'PRODUCT'), ('Section 1', 'LAW'), ('1.A.', 'CARDINAL'), ('1.E.8', 'GPE'), ('1.B.', 'CARDINAL'), ('1.C', 'CARDINAL'), ('1.C.', 'CARDINAL'), ('Project Gutenberg-tm License', 'PERSON'), ('1.D.', 'CARDINAL'), ('1.E.1', 'CARDINAL'), ('the Project Gutenberg License', 'ORG'), ('eBook', 'ORG'), ('1.E.7', 'DATE'), ('1.E.4', 'CARDINAL'), ('1.E.6', 'CARDINAL'), ('Plain Vanilla ASCII', 'WORK_OF_ART'), ('1.E.9', 'CARDINAL'), ('20%', 'PERCENT'), ('60 days', 'DATE'), ('Section 4', 'LAW'), ('30 days', 'DATE'), ('1.F.3', 'DATE'), ('90 days', 'DATE'), ('Michael Hart', 'PERSON'), ('Section 3', 'LAW'), ('1.F.', 'TIME'), ('1.F.2', 'DATE'), ('LIMITED WARRANTY', 'PERSON'), ('DISCLAIMER OF DAMAGES - Except', 'ORG'), ('LIABILITY', 'ORG'), ('DIRECT', 'ORG'), ('1.F.4', 'CARDINAL'), ('EXPRESS', 'ORG'), ('IMPLIED', 'ORG'), ('PURPOSE', 'ORG'), ('1.F.5', 'CARDINAL'), ('1.F.6', 'ORG'), ('Section 2', 'LAW'), ('the Mission of Project Gutenberg-tm Project', 'ORG'), (\"Project Gutenberg-tm's\", 'PERSON'), ('2001', 'DATE'), ('3', 'CARDINAL'), ('Gutenberg Literary Archive Foundation', 'ORG'), ('Mississippi', 'GPE'), ('the Internal Revenue Service', 'ORG'), ('EIN', 'ORG'), ('64-6221541', 'DATE'), ('U.S.', 'GPE'), ('4557', 'DATE'), ('Melan', 'NORP'), ('S. Fairbanks', 'PERSON'), ('AK', 'ORG'), ('99712', 'DATE'), ('809', 'CARDINAL'), ('Salt Lake City', 'GPE'), ('84116', 'DATE'), ('801', 'CARDINAL'), ('596-1887', 'DATE'), ('Gregory B. Newby', 'PERSON'), ('$1 to $5,000', 'MONEY'), ('IRS', 'ORG'), ('50', 'CARDINAL'), ('SEND', 'ORG'), ('General Information', 'ORG'), ('Michael S. Hart', 'PERSON'), ('thirty years', 'DATE'), ('Project Gutenberg-tm eBooks', 'PERSON'), ('ASCII', 'ORG'), ('VERSIONS', 'ORG'), ('EBooks', 'ORG'), ('November 2003', 'DATE'), ('10000', 'MONEY'), ('the etext year', 'DATE'), ('http://www.gutenberg.net/etext06', 'PERSON'), ('05', 'CARDINAL'), ('04', 'DATE'), ('03', 'DATE'), ('02', 'DATE'), ('01', 'DATE'), ('00', 'DATE'), ('99', 'DATE'), ('98', 'DATE'), ('97', 'DATE'), ('96', 'DATE'), ('95', 'DATE'), ('94', 'DATE'), ('93', 'DATE'), ('92', 'DATE'), ('91', 'CARDINAL'), ('90) EBooks', 'ORG'), ('OVER #10000', 'MONEY'), ('The year', 'DATE'), ('10234', 'DATE'), ('24689', 'DATE')])\n"
          ]
        }
      ]
    },
    {
      "cell_type": "code",
      "source": [
        "index[('Crow', 'PERSON')]"
      ],
      "metadata": {
        "id": "s69EKQpAvIyZ",
        "outputId": "2eaaf914-9fe8-42c6-d5e4-1e23bf660813",
        "colab": {
          "base_uri": "https://localhost:8080/"
        }
      },
      "execution_count": 44,
      "outputs": [
        {
          "output_type": "execute_result",
          "data": {
            "text/plain": [
              "{15, 26, 236, 265, 286}"
            ]
          },
          "metadata": {},
          "execution_count": 44
        }
      ]
    },
    {
      "cell_type": "code",
      "source": [
        "fables_pages[26]"
      ],
      "metadata": {
        "id": "KcRcD7EUmn-o",
        "outputId": "ebe22c17-bbf1-432f-a0e4-742195a4da72",
        "colab": {
          "base_uri": "https://localhost:8080/",
          "height": 109
        }
      },
      "execution_count": 45,
      "outputs": [
        {
          "output_type": "execute_result",
          "data": {
            "text/plain": [
              "'THE CROW AND THE PITCHER A thirsty Crow found a Pitcher with some water in it, but so little was there that, try as she might, she could not reach it with her beak, and it seemed as though she would die of thirst within sight of the remedy. At last she hit upon a clever plan. She began dropping pebbles into the Pitcher, and with each pebble the water rose a little higher until at last it reached the brim, and the knowing bird was enabled to quench her thirst. Necessity is the mother of invention.'"
            ],
            "application/vnd.google.colaboratory.intrinsic+json": {
              "type": "string"
            }
          },
          "metadata": {},
          "execution_count": 45
        }
      ]
    },
    {
      "cell_type": "markdown",
      "source": [
        "**If you are curious about `entity linking` you can see this tutorial:**\n",
        "\n",
        "https://github.com/explosion/projects/blob/v3/tutorials/nel_emerson/notebooks/notebook_video.ipynb"
      ],
      "metadata": {
        "id": "A8Uu753_g926"
      }
    },
    {
      "cell_type": "code",
      "source": [],
      "metadata": {
        "id": "_Hb0Y9edhC_f"
      },
      "execution_count": 21,
      "outputs": []
    }
  ]
}