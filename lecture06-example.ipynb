{
  "nbformat": 4,
  "nbformat_minor": 0,
  "metadata": {
    "colab": {
      "provenance": [],
      "include_colab_link": true
    },
    "kernelspec": {
      "name": "python3",
      "display_name": "Python 3"
    },
    "language_info": {
      "name": "python"
    }
  },
  "cells": [
    {
      "cell_type": "markdown",
      "metadata": {
        "id": "view-in-github",
        "colab_type": "text"
      },
      "source": [
        "<a href=\"https://colab.research.google.com/github/UniVR-DH/ADHLab/blob/main/lecture06-example.ipynb\" target=\"_parent\"><img src=\"https://colab.research.google.com/assets/colab-badge.svg\" alt=\"Open In Colab\"/></a>"
      ]
    },
    {
      "cell_type": "markdown",
      "source": [
        "# Searching with Ngrams and Entities\n",
        "\n",
        "We will use the Spacy Library:\n",
        "https://spacy.io/usage/spacy-101\n"
      ],
      "metadata": {
        "id": "4MNB7PsQ99Bx"
      }
    },
    {
      "cell_type": "markdown",
      "source": [
        "<img src=\"https://drive.google.com/uc?export=view&id=1m_EMdnI5C826kgqK7r5vB4TXnB0-Wq7W\" alt=\"Intestazione con loghi istituzionali\" width=\"525\"/>\n",
        "\n",
        "| Docente      | Insegnamento | Anno Accademico    |\n",
        "| :---        |    :----   |          ---: |\n",
        "| Matteo Lissandrini      | Laboratorio Avanzato di Informatica Umanistica       | 2023/2024   |"
      ],
      "metadata": {
        "id": "dChTXqspd6TT"
      }
    },
    {
      "cell_type": "markdown",
      "source": [
        "The content of this notebooks is heavily based on this conversation with ChatGPT\n",
        "\n",
        "https://chat.openai.com/share/8dd2550f-8da7-49a8-b1c6-57d88fc9076c\n"
      ],
      "metadata": {
        "id": "zgfusMOQMaWS"
      }
    },
    {
      "cell_type": "markdown",
      "source": [
        "## Usual install and basic imports"
      ],
      "metadata": {
        "id": "GXBM6I9FeBmc"
      }
    },
    {
      "cell_type": "code",
      "source": [
        "%pip install wikipedia-api\n",
        "%pip install spacy==3.7.0"
      ],
      "metadata": {
        "id": "pmOC8TtR5Wm5",
        "colab": {
          "base_uri": "https://localhost:8080/",
          "height": 1000
        },
        "outputId": "a4bf66aa-19d2-4ab7-8dae-0515a3c0e5b9"
      },
      "execution_count": 4,
      "outputs": [
        {
          "output_type": "stream",
          "name": "stdout",
          "text": [
            "Collecting wikipedia-api\n",
            "  Downloading Wikipedia_API-0.6.0-py3-none-any.whl (14 kB)\n",
            "Requirement already satisfied: requests in /usr/local/lib/python3.10/dist-packages (from wikipedia-api) (2.31.0)\n",
            "Requirement already satisfied: charset-normalizer<4,>=2 in /usr/local/lib/python3.10/dist-packages (from requests->wikipedia-api) (3.3.2)\n",
            "Requirement already satisfied: idna<4,>=2.5 in /usr/local/lib/python3.10/dist-packages (from requests->wikipedia-api) (3.6)\n",
            "Requirement already satisfied: urllib3<3,>=1.21.1 in /usr/local/lib/python3.10/dist-packages (from requests->wikipedia-api) (2.0.7)\n",
            "Requirement already satisfied: certifi>=2017.4.17 in /usr/local/lib/python3.10/dist-packages (from requests->wikipedia-api) (2023.11.17)\n",
            "Installing collected packages: wikipedia-api\n",
            "Successfully installed wikipedia-api-0.6.0\n",
            "Collecting spacy==3.7.0\n",
            "  Downloading spacy-3.7.0-cp310-cp310-manylinux_2_17_x86_64.manylinux2014_x86_64.whl (6.6 MB)\n",
            "\u001b[2K     \u001b[90m━━━━━━━━━━━━━━━━━━━━━━━━━━━━━━━━━━━━━━━━\u001b[0m \u001b[32m6.6/6.6 MB\u001b[0m \u001b[31m11.3 MB/s\u001b[0m eta \u001b[36m0:00:00\u001b[0m\n",
            "\u001b[?25hRequirement already satisfied: spacy-legacy<3.1.0,>=3.0.11 in /usr/local/lib/python3.10/dist-packages (from spacy==3.7.0) (3.0.12)\n",
            "Requirement already satisfied: spacy-loggers<2.0.0,>=1.0.0 in /usr/local/lib/python3.10/dist-packages (from spacy==3.7.0) (1.0.5)\n",
            "Requirement already satisfied: murmurhash<1.1.0,>=0.28.0 in /usr/local/lib/python3.10/dist-packages (from spacy==3.7.0) (1.0.10)\n",
            "Requirement already satisfied: cymem<2.1.0,>=2.0.2 in /usr/local/lib/python3.10/dist-packages (from spacy==3.7.0) (2.0.8)\n",
            "Requirement already satisfied: preshed<3.1.0,>=3.0.2 in /usr/local/lib/python3.10/dist-packages (from spacy==3.7.0) (3.0.9)\n",
            "Requirement already satisfied: thinc<8.3.0,>=8.1.8 in /usr/local/lib/python3.10/dist-packages (from spacy==3.7.0) (8.1.12)\n",
            "Requirement already satisfied: wasabi<1.2.0,>=0.9.1 in /usr/local/lib/python3.10/dist-packages (from spacy==3.7.0) (1.1.2)\n",
            "Requirement already satisfied: srsly<3.0.0,>=2.4.3 in /usr/local/lib/python3.10/dist-packages (from spacy==3.7.0) (2.4.8)\n",
            "Requirement already satisfied: catalogue<2.1.0,>=2.0.6 in /usr/local/lib/python3.10/dist-packages (from spacy==3.7.0) (2.0.10)\n",
            "Collecting weasel<0.4.0,>=0.1.0 (from spacy==3.7.0)\n",
            "  Downloading weasel-0.3.4-py3-none-any.whl (50 kB)\n",
            "\u001b[2K     \u001b[90m━━━━━━━━━━━━━━━━━━━━━━━━━━━━━━━━━━━━━━━━\u001b[0m \u001b[32m50.1/50.1 kB\u001b[0m \u001b[31m5.8 MB/s\u001b[0m eta \u001b[36m0:00:00\u001b[0m\n",
            "\u001b[?25hRequirement already satisfied: typer<0.10.0,>=0.3.0 in /usr/local/lib/python3.10/dist-packages (from spacy==3.7.0) (0.9.0)\n",
            "Requirement already satisfied: pathy>=0.10.0 in /usr/local/lib/python3.10/dist-packages (from spacy==3.7.0) (0.10.3)\n",
            "Requirement already satisfied: smart-open<7.0.0,>=5.2.1 in /usr/local/lib/python3.10/dist-packages (from spacy==3.7.0) (6.4.0)\n",
            "Requirement already satisfied: tqdm<5.0.0,>=4.38.0 in /usr/local/lib/python3.10/dist-packages (from spacy==3.7.0) (4.66.1)\n",
            "Requirement already satisfied: requests<3.0.0,>=2.13.0 in /usr/local/lib/python3.10/dist-packages (from spacy==3.7.0) (2.31.0)\n",
            "Requirement already satisfied: pydantic!=1.8,!=1.8.1,<3.0.0,>=1.7.4 in /usr/local/lib/python3.10/dist-packages (from spacy==3.7.0) (1.10.13)\n",
            "Requirement already satisfied: jinja2 in /usr/local/lib/python3.10/dist-packages (from spacy==3.7.0) (3.1.2)\n",
            "Requirement already satisfied: setuptools in /usr/local/lib/python3.10/dist-packages (from spacy==3.7.0) (67.7.2)\n",
            "Requirement already satisfied: packaging>=20.0 in /usr/local/lib/python3.10/dist-packages (from spacy==3.7.0) (23.2)\n",
            "Requirement already satisfied: langcodes<4.0.0,>=3.2.0 in /usr/local/lib/python3.10/dist-packages (from spacy==3.7.0) (3.3.0)\n",
            "Requirement already satisfied: numpy>=1.19.0 in /usr/local/lib/python3.10/dist-packages (from spacy==3.7.0) (1.23.5)\n",
            "Requirement already satisfied: typing-extensions>=4.2.0 in /usr/local/lib/python3.10/dist-packages (from pydantic!=1.8,!=1.8.1,<3.0.0,>=1.7.4->spacy==3.7.0) (4.5.0)\n",
            "Requirement already satisfied: charset-normalizer<4,>=2 in /usr/local/lib/python3.10/dist-packages (from requests<3.0.0,>=2.13.0->spacy==3.7.0) (3.3.2)\n",
            "Requirement already satisfied: idna<4,>=2.5 in /usr/local/lib/python3.10/dist-packages (from requests<3.0.0,>=2.13.0->spacy==3.7.0) (3.6)\n",
            "Requirement already satisfied: urllib3<3,>=1.21.1 in /usr/local/lib/python3.10/dist-packages (from requests<3.0.0,>=2.13.0->spacy==3.7.0) (2.0.7)\n",
            "Requirement already satisfied: certifi>=2017.4.17 in /usr/local/lib/python3.10/dist-packages (from requests<3.0.0,>=2.13.0->spacy==3.7.0) (2023.11.17)\n",
            "Requirement already satisfied: blis<0.8.0,>=0.7.8 in /usr/local/lib/python3.10/dist-packages (from thinc<8.3.0,>=8.1.8->spacy==3.7.0) (0.7.11)\n",
            "Requirement already satisfied: confection<1.0.0,>=0.0.1 in /usr/local/lib/python3.10/dist-packages (from thinc<8.3.0,>=8.1.8->spacy==3.7.0) (0.1.4)\n",
            "Requirement already satisfied: click<9.0.0,>=7.1.1 in /usr/local/lib/python3.10/dist-packages (from typer<0.10.0,>=0.3.0->spacy==3.7.0) (8.1.7)\n",
            "Collecting cloudpathlib<0.17.0,>=0.7.0 (from weasel<0.4.0,>=0.1.0->spacy==3.7.0)\n",
            "  Downloading cloudpathlib-0.16.0-py3-none-any.whl (45 kB)\n",
            "\u001b[2K     \u001b[90m━━━━━━━━━━━━━━━━━━━━━━━━━━━━━━━━━━━━━━━━\u001b[0m \u001b[32m45.0/45.0 kB\u001b[0m \u001b[31m5.3 MB/s\u001b[0m eta \u001b[36m0:00:00\u001b[0m\n",
            "\u001b[?25hRequirement already satisfied: MarkupSafe>=2.0 in /usr/local/lib/python3.10/dist-packages (from jinja2->spacy==3.7.0) (2.1.3)\n",
            "Installing collected packages: cloudpathlib, weasel, spacy\n",
            "  Attempting uninstall: spacy\n",
            "    Found existing installation: spacy 3.6.1\n",
            "    Uninstalling spacy-3.6.1:\n",
            "      Successfully uninstalled spacy-3.6.1\n",
            "\u001b[31mERROR: pip's dependency resolver does not currently take into account all the packages that are installed. This behaviour is the source of the following dependency conflicts.\n",
            "en-core-web-sm 3.6.0 requires spacy<3.7.0,>=3.6.0, but you have spacy 3.7.0 which is incompatible.\u001b[0m\u001b[31m\n",
            "\u001b[0mSuccessfully installed cloudpathlib-0.16.0 spacy-3.7.0 weasel-0.3.4\n"
          ]
        },
        {
          "output_type": "display_data",
          "data": {
            "application/vnd.colab-display-data+json": {
              "pip_warning": {
                "packages": [
                  "spacy"
                ]
              }
            }
          },
          "metadata": {}
        }
      ]
    },
    {
      "cell_type": "code",
      "source": [
        "import wikipediaapi\n",
        "import re\n",
        "\n",
        "# Step 1: Import necessary libraries\n",
        "#wiki_wiki = wikipediaapi.Wikipedia('en', user_agent='YourUserAgent/1.0')  # WRONG\n",
        "# wiki_wiki = wikipediaapi.Wikipedia('en', extract_format=wikipediaapi.ExtractFormat.WIKI, user_agent='YourUserAgent/1.0') # WRONG\n",
        "wiki_wiki = wikipediaapi.Wikipedia('MyTestProjectName (my.name@univr.it)',\n",
        "                                   'en',\n",
        "                                   extract_format=wikipediaapi.ExtractFormat.WIKI)\n",
        "\n",
        "# Step 2: Prepare a list of titles of Wikipedia pages\n",
        "fantasy_literature_titles = [\n",
        "    \"Fantasy literature\",\n",
        "    \"The Lord of the Rings\",\n",
        "    \"Harry Potter\",\n",
        "    \"A Song of Ice and Fire\",\n",
        "    \"The Chronicles of Narnia\",\n",
        "    \"The Hobbit\",\n",
        "    \"Alice's Adventures in Wonderland\",\n",
        "    \"The Wizard of Oz\",\n",
        "    \"The Silmarillion\",\n",
        "    \"Discworld\",\n",
        "    \"His Dark Materials\",\n",
        "    \"The Wheel of Time\",\n",
        "    \"Earthsea\",\n",
        "    \"The Once and Future King\",\n",
        "    \"The Princess Bride\",\n",
        "    \"The Name of the Wind\",\n",
        "    \"Mistborn\",\n",
        "    \"The Malazan Book of the Fallen\",\n",
        "    \"The Kingkiller Chronicle\",\n",
        "    \"The Inheritance Cycle\"\n",
        "]\n",
        "\n",
        "# Step 3: Write code to download main content in plain text and create a collection of cleaned text\n",
        "cleaned_texts = []\n",
        "\n",
        "for title in fantasy_literature_titles:\n",
        "    page_py = wiki_wiki.page(title)\n",
        "\n",
        "    if page_py.exists():\n",
        "        # Keep the original URL of the page\n",
        "        original_url = page_py.fullurl\n",
        "\n",
        "        # Remove brackets and their contents from the text\n",
        "        content = re.sub(r'\\[[^\\]]*\\]', '', page_py.text)\n",
        "\n",
        "        # Remove newline characters and extra spaces\n",
        "        clean_text = ' '.join(content.split())\n",
        "\n",
        "        # Store the cleaned text along with the original URL\n",
        "        cleaned_texts.append({'title': title, 'content': clean_text, 'url': original_url})\n",
        "    else:\n",
        "        print(f\"Page '{title}' does not exist on Wikipedia.\")\n",
        "\n",
        "# Display the cleaned texts and their original URLs (optional)\n",
        "# for idx, entry in enumerate(cleaned_texts, 1):\n",
        "#     print(f\"Text {idx} - Title: {entry['title']}\\nURL: {entry['url']}\\nContent:\\n{entry['content']}\\n{'='*50}\\n\")\n"
      ],
      "metadata": {
        "id": "r55SvyEnxVWZ"
      },
      "execution_count": 5,
      "outputs": []
    },
    {
      "cell_type": "code",
      "source": [
        "from collections import defaultdict\n",
        "import re\n",
        "\n",
        "# Step 4: Build an inverted index of lowercase ngrams ignoring non-alphanumeric symbols\n",
        "inverted_index = defaultdict(list)\n",
        "\n",
        "NGRAM_SIZE = 5\n",
        "\n",
        "for entry in cleaned_texts:\n",
        "    title = entry['title']\n",
        "    content = entry['content'].lower()\n",
        "    url = entry['url']\n",
        "\n",
        "    # Remove non-alphanumeric symbols\n",
        "    content = re.sub(r'[^a-z0-9 ]', '', content)\n",
        "\n",
        "    # Generate ngrams of size NGRAM_SIZE\n",
        "    ngrams = [content[i:i+NGRAM_SIZE] for i in range(len(content)-(NGRAM_SIZE-1))]\n",
        "\n",
        "    # Build inverted index\n",
        "    for trigram in set(ngrams):  # Using set to remove duplicates\n",
        "        inverted_index[trigram].append({'title': title, 'url': url})\n",
        "\n",
        "# Display the inverted index (optional)\n",
        "# for ngram, entries in inverted_index.items():\n",
        "#     print(f\"N-gram: {ngram}\")\n",
        "#     for entry in entries:\n",
        "#         print(f\"  Title: {entry['title']}, URL: {entry['url']}\")\n"
      ],
      "metadata": {
        "id": "9r6VqaaPxl-D"
      },
      "execution_count": 6,
      "outputs": []
    },
    {
      "cell_type": "code",
      "source": [
        "from sklearn.feature_extraction.text import TfidfVectorizer\n",
        "\n",
        "def compute_tfidf(query, inverted_index, cleaned_texts):\n",
        "    # Step 5: Given an input query, compute the TF-IDF for each page that matches at least one ngram\n",
        "    query = query.lower()\n",
        "\n",
        "    # Remove non-alphanumeric symbols\n",
        "    query = re.sub(r'[^a-z0-9 ]', '', query)\n",
        "\n",
        "    # Generate ngrams\n",
        "    query_ngrams = [query[i:i+NGRAM_SIZE] for i in range(len(query)-(NGRAM_SIZE-1))]\n",
        "\n",
        "    # Find matching trigrams in the inverted index\n",
        "    matching_ngrams = set(query_ngrams).intersection(inverted_index.keys())\n",
        "\n",
        "    # Collect titles and URLs of pages matching the trigrams\n",
        "    matching_pages = []\n",
        "    for ngram in matching_ngrams:\n",
        "        matching_pages.extend(inverted_index[ngram])\n",
        "\n",
        "    # Get unique titles and URLs\n",
        "    unique_titles = list({page['title'] for page in matching_pages})\n",
        "    unique_urls = list({page['url'] for page in matching_pages})\n",
        "\n",
        "    # Extract content for the matching pages\n",
        "    matching_contents = [entry['content'] for entry in cleaned_texts if entry['title'] in unique_titles]\n",
        "\n",
        "    # Compute TF-IDF\n",
        "    vectorizer = TfidfVectorizer()\n",
        "    tfidf_matrix = vectorizer.fit_transform(matching_contents)\n",
        "\n",
        "    # Get feature names (words) from the vectorizer\n",
        "    feature_names = vectorizer.get_feature_names_out()\n",
        "\n",
        "    # Prepare a list of pairs with URL and TF-IDF score for each matching page\n",
        "    result_list = []\n",
        "    for i, title in enumerate(unique_titles):\n",
        "        tfidf_values = tfidf_matrix[i].toarray()[0]\n",
        "        page_tfidf = {feature_names[j]: tfidf_values[j] for j in range(len(feature_names))}\n",
        "        result_list.append({'url': unique_urls[i], 'tfidf_score': page_tfidf})\n",
        "\n",
        "    return result_list\n",
        "\n",
        "# Example usage:\n",
        "query = \"fantasy adventure\"\n",
        "result = compute_tfidf(query, inverted_index, cleaned_texts)\n",
        "print(len(result))\n"
      ],
      "metadata": {
        "id": "JJS2Lw6xzAcF",
        "colab": {
          "base_uri": "https://localhost:8080/"
        },
        "outputId": "e00ba2d3-d79c-45a4-8c43-da1462a189cc"
      },
      "execution_count": 7,
      "outputs": [
        {
          "output_type": "stream",
          "name": "stdout",
          "text": [
            "20\n"
          ]
        }
      ]
    },
    {
      "cell_type": "code",
      "source": [
        "# Function to print the top-k URLs and their TF-IDF scores\n",
        "def print_top_k_urls(result_list, k):\n",
        "    # Sort the result list based on the sum of TF-IDF scores\n",
        "    sorted_results = sorted(result_list, key=lambda x: sum(x['tfidf_score'].values()), reverse=True)\n",
        "\n",
        "    # Print the top-k URLs and their TF-IDF scores\n",
        "    for i in range(min(k, len(sorted_results))):\n",
        "        url = sorted_results[i]['url']\n",
        "        tfidf_value = sum(sorted_results[i]['tfidf_score'].values())\n",
        "        print(f\"Top {i+1} URL: {url}, TF-IDF Value: {tfidf_value}\")\n",
        "\n",
        "# Example usage:\n",
        "query = \"fantasy adventure\"\n",
        "k = 5  # Change k to the desired number of top URLs\n",
        "result = compute_tfidf(query, inverted_index, cleaned_texts)\n",
        "print_top_k_urls(result, k)\n"
      ],
      "metadata": {
        "colab": {
          "base_uri": "https://localhost:8080/"
        },
        "id": "Yzyo0rRtZn87",
        "outputId": "3daaa537-8363-4ad3-e0bf-b1b41f6b6e37"
      },
      "execution_count": 8,
      "outputs": [
        {
          "output_type": "stream",
          "name": "stdout",
          "text": [
            "Top 1 URL: https://en.wikipedia.org/wiki/The_Name_of_the_Wind, TF-IDF Value: 15.266600695829172\n",
            "Top 2 URL: https://en.wikipedia.org/wiki/Discworld, TF-IDF Value: 14.107094592697385\n",
            "Top 3 URL: https://en.wikipedia.org/wiki/The_Lord_of_the_Rings, TF-IDF Value: 13.80408119729509\n",
            "Top 4 URL: https://en.wikipedia.org/wiki/Fantasy_literature, TF-IDF Value: 13.661325773324807\n",
            "Top 5 URL: https://en.wikipedia.org/wiki/Malazan_Book_of_the_Fallen, TF-IDF Value: 13.65790134661919\n"
          ]
        }
      ]
    },
    {
      "cell_type": "code",
      "source": [
        "%pip install spacy\n",
        "%pip install networkx"
      ],
      "metadata": {
        "colab": {
          "base_uri": "https://localhost:8080/"
        },
        "id": "kwOB64JSbVfu",
        "outputId": "49bf0ce6-4782-4a77-9631-e29d18faa8ba"
      },
      "execution_count": 9,
      "outputs": [
        {
          "output_type": "stream",
          "name": "stdout",
          "text": [
            "Requirement already satisfied: spacy in /usr/local/lib/python3.10/dist-packages (3.7.0)\n",
            "Requirement already satisfied: spacy-legacy<3.1.0,>=3.0.11 in /usr/local/lib/python3.10/dist-packages (from spacy) (3.0.12)\n",
            "Requirement already satisfied: spacy-loggers<2.0.0,>=1.0.0 in /usr/local/lib/python3.10/dist-packages (from spacy) (1.0.5)\n",
            "Requirement already satisfied: murmurhash<1.1.0,>=0.28.0 in /usr/local/lib/python3.10/dist-packages (from spacy) (1.0.10)\n",
            "Requirement already satisfied: cymem<2.1.0,>=2.0.2 in /usr/local/lib/python3.10/dist-packages (from spacy) (2.0.8)\n",
            "Requirement already satisfied: preshed<3.1.0,>=3.0.2 in /usr/local/lib/python3.10/dist-packages (from spacy) (3.0.9)\n",
            "Requirement already satisfied: thinc<8.3.0,>=8.1.8 in /usr/local/lib/python3.10/dist-packages (from spacy) (8.1.12)\n",
            "Requirement already satisfied: wasabi<1.2.0,>=0.9.1 in /usr/local/lib/python3.10/dist-packages (from spacy) (1.1.2)\n",
            "Requirement already satisfied: srsly<3.0.0,>=2.4.3 in /usr/local/lib/python3.10/dist-packages (from spacy) (2.4.8)\n",
            "Requirement already satisfied: catalogue<2.1.0,>=2.0.6 in /usr/local/lib/python3.10/dist-packages (from spacy) (2.0.10)\n",
            "Requirement already satisfied: weasel<0.4.0,>=0.1.0 in /usr/local/lib/python3.10/dist-packages (from spacy) (0.3.4)\n",
            "Requirement already satisfied: typer<0.10.0,>=0.3.0 in /usr/local/lib/python3.10/dist-packages (from spacy) (0.9.0)\n",
            "Requirement already satisfied: pathy>=0.10.0 in /usr/local/lib/python3.10/dist-packages (from spacy) (0.10.3)\n",
            "Requirement already satisfied: smart-open<7.0.0,>=5.2.1 in /usr/local/lib/python3.10/dist-packages (from spacy) (6.4.0)\n",
            "Requirement already satisfied: tqdm<5.0.0,>=4.38.0 in /usr/local/lib/python3.10/dist-packages (from spacy) (4.66.1)\n",
            "Requirement already satisfied: requests<3.0.0,>=2.13.0 in /usr/local/lib/python3.10/dist-packages (from spacy) (2.31.0)\n",
            "Requirement already satisfied: pydantic!=1.8,!=1.8.1,<3.0.0,>=1.7.4 in /usr/local/lib/python3.10/dist-packages (from spacy) (1.10.13)\n",
            "Requirement already satisfied: jinja2 in /usr/local/lib/python3.10/dist-packages (from spacy) (3.1.2)\n",
            "Requirement already satisfied: setuptools in /usr/local/lib/python3.10/dist-packages (from spacy) (67.7.2)\n",
            "Requirement already satisfied: packaging>=20.0 in /usr/local/lib/python3.10/dist-packages (from spacy) (23.2)\n",
            "Requirement already satisfied: langcodes<4.0.0,>=3.2.0 in /usr/local/lib/python3.10/dist-packages (from spacy) (3.3.0)\n",
            "Requirement already satisfied: numpy>=1.19.0 in /usr/local/lib/python3.10/dist-packages (from spacy) (1.23.5)\n",
            "Requirement already satisfied: typing-extensions>=4.2.0 in /usr/local/lib/python3.10/dist-packages (from pydantic!=1.8,!=1.8.1,<3.0.0,>=1.7.4->spacy) (4.5.0)\n",
            "Requirement already satisfied: charset-normalizer<4,>=2 in /usr/local/lib/python3.10/dist-packages (from requests<3.0.0,>=2.13.0->spacy) (3.3.2)\n",
            "Requirement already satisfied: idna<4,>=2.5 in /usr/local/lib/python3.10/dist-packages (from requests<3.0.0,>=2.13.0->spacy) (3.6)\n",
            "Requirement already satisfied: urllib3<3,>=1.21.1 in /usr/local/lib/python3.10/dist-packages (from requests<3.0.0,>=2.13.0->spacy) (2.0.7)\n",
            "Requirement already satisfied: certifi>=2017.4.17 in /usr/local/lib/python3.10/dist-packages (from requests<3.0.0,>=2.13.0->spacy) (2023.11.17)\n",
            "Requirement already satisfied: blis<0.8.0,>=0.7.8 in /usr/local/lib/python3.10/dist-packages (from thinc<8.3.0,>=8.1.8->spacy) (0.7.11)\n",
            "Requirement already satisfied: confection<1.0.0,>=0.0.1 in /usr/local/lib/python3.10/dist-packages (from thinc<8.3.0,>=8.1.8->spacy) (0.1.4)\n",
            "Requirement already satisfied: click<9.0.0,>=7.1.1 in /usr/local/lib/python3.10/dist-packages (from typer<0.10.0,>=0.3.0->spacy) (8.1.7)\n",
            "Requirement already satisfied: cloudpathlib<0.17.0,>=0.7.0 in /usr/local/lib/python3.10/dist-packages (from weasel<0.4.0,>=0.1.0->spacy) (0.16.0)\n",
            "Requirement already satisfied: MarkupSafe>=2.0 in /usr/local/lib/python3.10/dist-packages (from jinja2->spacy) (2.1.3)\n",
            "Requirement already satisfied: networkx in /usr/local/lib/python3.10/dist-packages (3.2.1)\n"
          ]
        }
      ]
    },
    {
      "cell_type": "code",
      "source": [
        "import spacy\n",
        "import networkx as nx\n",
        "\n",
        "# Load SpaCy model for NER\n",
        "nlp = spacy.load(\"en_core_web_sm\")\n",
        "\n",
        "# Function to extract entities from text using SpaCy NER, considering a minimum count\n",
        "def extract_entities(text, min_entity_count=5):\n",
        "    doc = nlp(text)\n",
        "    entity_counts = Counter(ent.text.lower() for ent in doc.ents)\n",
        "    entities = {ent.text: ent.label_ for ent in doc.ents if entity_counts[ent.text.lower()] >= min_entity_count}\n",
        "    return entities\n",
        "\n",
        "\n",
        "# Function to build a co-occurrence graph of entities with NetworkX\n",
        "def build_co_occurrence_graph(cleaned_texts):\n",
        "    co_occurrence_graph = nx.Graph()\n",
        "\n",
        "    for entry in cleaned_texts:\n",
        "        entities = extract_entities(entry['content'])\n",
        "        for entity, label in entities.items():\n",
        "            co_occurrence_graph.add_node(entity, label=label)\n",
        "        for entity1, label1 in entities.items():\n",
        "            for entity2, label2 in entities.items():\n",
        "                if entity1 != entity2:\n",
        "                    if co_occurrence_graph.has_edge(entity1, entity2):\n",
        "                        co_occurrence_graph[entity1][entity2]['weight'] += 1\n",
        "                    else:\n",
        "                        co_occurrence_graph.add_edge(entity1, entity2, weight=1)\n",
        "\n",
        "    return co_occurrence_graph\n",
        "\n",
        "# Example usage:\n",
        "co_occurrence_graph = build_co_occurrence_graph(cleaned_texts)\n",
        "\n",
        "# Print the nodes, labels, edges, and weights in the co-occurrence graph\n",
        "#for node, data in co_occurrence_graph.nodes(data=True):\n",
        "#    print(f\"Node: {node}, Label: {data['label']}\")\n",
        "#for edge in co_occurrence_graph.edges(data=True):\n",
        "#    print(f\"Edge: {edge[0]} - {edge[1]}, Weight: {edge[2]['weight']}\")\n"
      ],
      "metadata": {
        "id": "5Sb4HMbwCS9B"
      },
      "execution_count": 20,
      "outputs": []
    },
    {
      "cell_type": "code",
      "source": [
        "import random\n",
        "\n",
        "# Function to show the neighbors of a random node in the co-occurrence graph\n",
        "def show_random_node_neighbors(co_occurrence_graph):\n",
        "    # Get a random node from the graph\n",
        "    random_node = random.choice(list(co_occurrence_graph.nodes()))\n",
        "\n",
        "    # Get neighbors of the random node\n",
        "    neighbors = list(co_occurrence_graph.neighbors(random_node))\n",
        "\n",
        "    # Print the random node and its neighbors\n",
        "    print(f\"Random Node: {random_node}, Label: {co_occurrence_graph.nodes[random_node]['label']}\")\n",
        "    print(f\"Neighbors: {neighbors}\")\n",
        "\n",
        "# Example usage:\n",
        "show_random_node_neighbors(co_occurrence_graph)\n"
      ],
      "metadata": {
        "colab": {
          "base_uri": "https://localhost:8080/"
        },
        "id": "bh8xu5HoDj3q",
        "outputId": "c1dc2fd7-a94e-404e-917a-2263bd900ed1"
      },
      "execution_count": 21,
      "outputs": [
        {
          "output_type": "stream",
          "name": "stdout",
          "text": [
            "Random Node: The Lord of the Rings, Label: WORK_OF_ART\n",
            "Neighbors: ['Rings', 'English', 'Tolkien', 'The Hobbit', 'One', 'Middle-earth', 'Pippin', 'Boromir', 'Sauron', 'Frodo', 'one', 'two', 'Silmarillion', 'three', 'BBC', 'Gollum', 'Bilbo', 'Gandalf', 'Merry', 'Sam', 'Saruman', 'Mordor', 'Galadriel', 'Gimli', 'Legolas', 'Rohan', 'Minas Tirith', 'Gondor', 'First', 'first', 'the 1960s', 'the United States', 'Houghton Mifflin', '978']\n"
          ]
        }
      ]
    },
    {
      "cell_type": "code",
      "source": [
        "# Function to compute PageRank scores for each node in the graph\n",
        "def compute_page_rank(graph):\n",
        "    page_rank_scores = nx.pagerank(graph)\n",
        "    return page_rank_scores\n",
        "\n",
        "# Example usage:\n",
        "# co_occurrence_graph = build_co_occurrence_graph(cleaned_texts)  # Assuming `build_co_occurrence_graph` is defined\n",
        "page_rank_scores = compute_page_rank(co_occurrence_graph)\n",
        "\n",
        "# Print the top-k nodes with the highest PageRank scores\n",
        "k = 5  # Change k to the desired number of top nodes\n",
        "top_nodes = sorted(page_rank_scores, key=page_rank_scores.get, reverse=True)[:k]\n",
        "\n",
        "for node in top_nodes:\n",
        "    label = co_occurrence_graph.nodes[node]['label']\n",
        "    page_rank = page_rank_scores[node]\n",
        "    print(f\"Node: {node}, Label: {label}, PageRank Score: {page_rank}\")"
      ],
      "metadata": {
        "colab": {
          "base_uri": "https://localhost:8080/"
        },
        "id": "OWJS8kZeEfOA",
        "outputId": "32b120b6-c09c-4556-caac-e4636ba47071"
      },
      "execution_count": 22,
      "outputs": [
        {
          "output_type": "stream",
          "name": "stdout",
          "text": [
            "Node: first, Label: ORDINAL, PageRank Score: 0.02948451296297414\n",
            "Node: one, Label: CARDINAL, PageRank Score: 0.022973013483891067\n",
            "Node: two, Label: CARDINAL, PageRank Score: 0.02022754705391083\n",
            "Node: second, Label: ORDINAL, PageRank Score: 0.019385566605250478\n",
            "Node: three, Label: CARDINAL, PageRank Score: 0.01727790639888287\n"
          ]
        }
      ]
    },
    {
      "cell_type": "code",
      "source": [
        "# Print the top-k nodes of type 'PERSON' with the highest PageRank scores\n",
        "k = 5  # Change k to the desired number of top nodes\n",
        "person_nodes = [node for node in page_rank_scores if co_occurrence_graph.nodes[node]['label'] == 'PERSON']\n",
        "top_person_nodes = sorted(person_nodes, key=page_rank_scores.get, reverse=True)[:k]\n",
        "\n",
        "for node in top_person_nodes:\n",
        "    label = co_occurrence_graph.nodes[node]['label']\n",
        "    page_rank = page_rank_scores[node]\n",
        "    print(f\"Node: {node}, Label: {label}, PageRank Score: {page_rank}\")"
      ],
      "metadata": {
        "colab": {
          "base_uri": "https://localhost:8080/"
        },
        "id": "7zypxME-FZsb",
        "outputId": "d53a7844-492c-4c90-803c-068245fe75bb"
      },
      "execution_count": 23,
      "outputs": [
        {
          "output_type": "stream",
          "name": "stdout",
          "text": [
            "Node: Tolkien, Label: PERSON, PageRank Score: 0.011165033657602335\n",
            "Node: Houghton Mifflin, Label: PERSON, PageRank Score: 0.006632282362434322\n",
            "Node: Gollum, Label: PERSON, PageRank Score: 0.004031559968788694\n",
            "Node: Bilbo, Label: PERSON, PageRank Score: 0.004031559968788694\n",
            "Node: Sanderson, Label: PERSON, PageRank Score: 0.003954766879490537\n"
          ]
        }
      ]
    },
    {
      "cell_type": "code",
      "source": [
        "# Function to build an inverted index of entities with corresponding pages\n",
        "def build_entity_inverted_index(cleaned_texts):\n",
        "    inverted_index = {}\n",
        "\n",
        "    for entry in cleaned_texts:\n",
        "        entities = extract_entities(entry['content'])\n",
        "        for entity, label in entities.items():\n",
        "            if entity not in inverted_index:\n",
        "                inverted_index[entity] = {'label': label, 'pages': []}\n",
        "            inverted_index[entity]['pages'].append({'title': entry['title'], 'url': entry['url']})\n",
        "\n",
        "    return inverted_index\n",
        "\n",
        "# Example usage:\n",
        "entity_inverted_index = build_entity_inverted_index(cleaned_texts)\n",
        "\n",
        "print(len(entity_inverted_index))\n",
        "\n",
        "# Print the inverted index (optional)\n",
        "#for entity, data in entity_inverted_index.items():\n",
        "#    print(f\"Entity: {entity}, Label: {data['label']}\")\n",
        "#    for page in data['pages']:\n",
        "#        print(f\"  Page Title: {page['title']}, URL: {page['url']}\")\n"
      ],
      "metadata": {
        "colab": {
          "base_uri": "https://localhost:8080/"
        },
        "id": "4lHAndQTFwVE",
        "outputId": "50c78c4f-6c37-4657-c52d-6c0e54d40f79"
      },
      "execution_count": 24,
      "outputs": [
        {
          "output_type": "stream",
          "name": "stdout",
          "text": [
            "286\n"
          ]
        }
      ]
    },
    {
      "cell_type": "code",
      "source": [
        "import networkx as nx\n",
        "from collections import Counter\n",
        "\n",
        "# Function to build a graph with nodes as pages and edges between pages sharing some entity mentions\n",
        "def build_page_graph(cleaned_texts, max_entity_percentage=0.85):\n",
        "    page_graph = nx.Graph()\n",
        "\n",
        "    # Build an inverted index of entities with corresponding pages\n",
        "    entity_inverted_index = build_entity_inverted_index(cleaned_texts)\n",
        "\n",
        "    # Count entity occurrences in each page\n",
        "    entity_counts = Counter()\n",
        "    for data in entity_inverted_index.values():\n",
        "        for page in data['pages']:\n",
        "            entity_counts[page['title']] += 1\n",
        "\n",
        "    # Identify entities that appear in more than max_entity_percentage of pages\n",
        "    frequent_entities = {entity for entity, data in entity_inverted_index.items() if len(data['pages']) > max_entity_percentage * len(cleaned_texts)}\n",
        "\n",
        "    # Add nodes to the graph (representing pages) without frequent entities\n",
        "    for entry in cleaned_texts:\n",
        "        if entry['title'] not in frequent_entities:\n",
        "            page_graph.add_node(entry['title'], label='Page', url=entry['url'])\n",
        "\n",
        "    # Add edges between pages that share some entity mentions, excluding frequent entities\n",
        "    for entity, data in entity_inverted_index.items():\n",
        "        if len(data['pages']) > 1 and entity not in frequent_entities:\n",
        "            for i in range(len(data['pages'])):\n",
        "                for j in range(i + 1, len(data['pages'])):\n",
        "                    page1 = data['pages'][i]['title']\n",
        "                    page2 = data['pages'][j]['title']\n",
        "                    if not page_graph.has_edge(page1, page2):\n",
        "                        page_graph.add_edge(page1, page2, entities=[entity])\n",
        "\n",
        "    return page_graph\n",
        "\n",
        "# Example usage:\n",
        "page_graph = build_page_graph(cleaned_texts)"
      ],
      "metadata": {
        "id": "4Eqo8mzVGjZ2"
      },
      "execution_count": 25,
      "outputs": []
    },
    {
      "cell_type": "code",
      "source": [
        "# Print the number of nodes, edges, and average degree\n",
        "num_nodes = page_graph.number_of_nodes()\n",
        "num_edges = page_graph.number_of_edges()\n",
        "avg_degree = sum(dict(page_graph.degree()).values()) / num_nodes\n",
        "\n",
        "print(f\"Number of Nodes: {num_nodes}\")\n",
        "print(f\"Number of Edges: {num_edges}\")\n",
        "print(f\"Average Degree: {avg_degree}\")\n",
        "\n"
      ],
      "metadata": {
        "colab": {
          "base_uri": "https://localhost:8080/"
        },
        "id": "mIHyqzqaHDoV",
        "outputId": "52a78e24-af01-48f9-f9b8-80eddbf55179"
      },
      "execution_count": 26,
      "outputs": [
        {
          "output_type": "stream",
          "name": "stdout",
          "text": [
            "Number of Nodes: 20\n",
            "Number of Edges: 116\n",
            "Average Degree: 11.6\n"
          ]
        }
      ]
    },
    {
      "cell_type": "code",
      "source": [
        "import matplotlib.pyplot as plt\n",
        "\n",
        "# Function to plot the page graph\n",
        "def plot_page_graph(page_graph):\n",
        "    pos = nx.spring_layout(page_graph)  # You can use other layout algorithms as well\n",
        "\n",
        "    # Draw nodes\n",
        "    nx.draw_networkx_nodes(page_graph, pos, node_color='skyblue', node_size=300)\n",
        "\n",
        "    # Draw edges\n",
        "    nx.draw_networkx_edges(page_graph, pos, edge_color='gray', width=0.5)\n",
        "\n",
        "    # Draw labels\n",
        "    labels = nx.get_node_attributes(page_graph, 'label')\n",
        "    nx.draw_networkx_labels(page_graph, pos, labels, font_size=8, font_color='black')\n",
        "\n",
        "    plt.title('Page Graph with Shared Entities')\n",
        "    plt.show()\n",
        "\n",
        "# Example usage:\n",
        "plot_page_graph(page_graph)\n"
      ],
      "metadata": {
        "colab": {
          "base_uri": "https://localhost:8080/",
          "height": 428
        },
        "id": "hp3Lxie3HStq",
        "outputId": "98b862cf-3a26-4dd6-a28a-80ea0f55d613"
      },
      "execution_count": 27,
      "outputs": [
        {
          "output_type": "display_data",
          "data": {
            "text/plain": [
              "<Figure size 640x480 with 1 Axes>"
            ],
            "image/png": "[encoded data removed]"
          },
          "metadata": {}
        }
      ]
    },
    {
      "cell_type": "code",
      "source": [],
      "metadata": {
        "id": "AtTgM1icHXI_"
      },
      "execution_count": null,
      "outputs": []
    }
  ]
}