{
  "nbformat": 4,
  "nbformat_minor": 0,
  "metadata": {
    "colab": {
      "provenance": [],
      "include_colab_link": true
    },
    "kernelspec": {
      "name": "python3",
      "display_name": "Python 3"
    },
    "language_info": {
      "name": "python"
    }
  },
  "cells": [
    {
      "cell_type": "markdown",
      "metadata": {
        "id": "view-in-github",
        "colab_type": "text"
      },
      "source": [
        "<a href=\"https://colab.research.google.com/github/UniVR-DH/ADHLab/blob/main/lecture06_base.ipynb\" target=\"_parent\"><img src=\"https://colab.research.google.com/assets/colab-badge.svg\" alt=\"Open In Colab\"/></a>"
      ]
    },
    {
      "cell_type": "markdown",
      "source": [
        "# Experimenting with Word Frequencies\n"
      ],
      "metadata": {
        "id": "4MNB7PsQ99Bx"
      }
    },
    {
      "cell_type": "markdown",
      "source": [
        "<img src=\"https://drive.google.com/uc?export=view&id=1m_EMdnI5C826kgqK7r5vB4TXnB0-Wq7W\" alt=\"Intestazione con loghi istituzionali\" width=\"525\"/>\n",
        "\n",
        "| Docente      | Insegnamento | Anno Accademico    |\n",
        "| :---        |    :----   |          ---: |\n",
        "| Matteo Lissandrini      | Laboratorio Avanzato di Informatica Umanistica       | 2024/2025   |"
      ],
      "metadata": {
        "id": "dChTXqspd6TT"
      }
    },
    {
      "cell_type": "markdown",
      "source": [
        "## Usual install and basic imports"
      ],
      "metadata": {
        "id": "GXBM6I9FeBmc"
      }
    },
    {
      "cell_type": "code",
      "source": [
        "%pip install wikipedia-api"
      ],
      "metadata": {
        "id": "pmOC8TtR5Wm5",
        "outputId": "4b904ae1-c8fa-4a93-9b70-fb26b77c771d",
        "colab": {
          "base_uri": "https://localhost:8080/"
        }
      },
      "execution_count": null,
      "outputs": [
        {
          "output_type": "stream",
          "name": "stdout",
          "text": [
            "Collecting wikipedia-api\n",
            "  Downloading wikipedia_api-0.7.1.tar.gz (17 kB)\n",
            "  Preparing metadata (setup.py) ... \u001b[?25l\u001b[?25hdone\n",
            "Requirement already satisfied: requests in /usr/local/lib/python3.10/dist-packages (from wikipedia-api) (2.32.3)\n",
            "Requirement already satisfied: charset-normalizer<4,>=2 in /usr/local/lib/python3.10/dist-packages (from requests->wikipedia-api) (3.4.0)\n",
            "Requirement already satisfied: idna<4,>=2.5 in /usr/local/lib/python3.10/dist-packages (from requests->wikipedia-api) (3.10)\n",
            "Requirement already satisfied: urllib3<3,>=1.21.1 in /usr/local/lib/python3.10/dist-packages (from requests->wikipedia-api) (2.2.3)\n",
            "Requirement already satisfied: certifi>=2017.4.17 in /usr/local/lib/python3.10/dist-packages (from requests->wikipedia-api) (2024.8.30)\n",
            "Building wheels for collected packages: wikipedia-api\n",
            "  Building wheel for wikipedia-api (setup.py) ... \u001b[?25l\u001b[?25hdone\n",
            "  Created wheel for wikipedia-api: filename=Wikipedia_API-0.7.1-py3-none-any.whl size=14346 sha256=cd27877f17a1cef9d877786a7dad1ff46831a0f08c11f4d5c1152e32de451118\n",
            "  Stored in directory: /root/.cache/pip/wheels/4c/96/18/b9201cc3e8b47b02b510460210cfd832ccf10c0c4dd0522962\n",
            "Successfully built wikipedia-api\n",
            "Installing collected packages: wikipedia-api\n",
            "Successfully installed wikipedia-api-0.7.1\n"
          ]
        }
      ]
    },
    {
      "cell_type": "code",
      "source": [
        "import gzip\n",
        "import math\n",
        "import string\n",
        "import numpy as np\n",
        "\n",
        "import regex as re\n",
        "\n",
        "import matplotlib.pyplot as plt\n",
        "\n",
        "from collections import Counter"
      ],
      "metadata": {
        "id": "miPm486TF629"
      },
      "execution_count": null,
      "outputs": []
    },
    {
      "cell_type": "markdown",
      "source": [
        "## Declare Wikipedia API Object to download pages"
      ],
      "metadata": {
        "id": "vOFvsPfreLTT"
      }
    },
    {
      "cell_type": "code",
      "source": [
        "import wikipediaapi\n",
        "wapi_text = wikipediaapi.Wikipedia('MyProjectName (name@studenti.univr.it)',\n",
        "                                   'en',\n",
        "                                   extract_format=wikipediaapi.ExtractFormat.WIKI)\n",
        "\n",
        "punct_regex = re.compile('[{}]'.format(re.escape(string.punctuation))) # Regex matching any punctuation\n",
        "space_regex = re.compile(' +') # Regex matching whitespace"
      ],
      "metadata": {
        "id": "f2ymnwhM7PGX"
      },
      "execution_count": null,
      "outputs": []
    },
    {
      "cell_type": "markdown",
      "source": [
        "### Download two pages, verify the properties of word frequencies\n",
        "\n",
        "**Compare different pages and the same page in different languages**"
      ],
      "metadata": {
        "id": "zzYNeqRXeSQa"
      }
    },
    {
      "cell_type": "code",
      "source": [
        "page_py = wapi_text.page('New York City')\n",
        "print(\"Page - Exists: %s\" % page_py.exists())\n",
        "\n",
        "page_tokens = space_regex.sub(' ', punct_regex.sub(' ', page_py.text.lower())).strip().split()\n",
        "print(\"Tokens: \", len(page_tokens))\n",
        "# Create the bag of words\n",
        "page_bow = Counter(page_tokens)\n",
        "\n",
        "print(\"Distinct tokens: \", len(page_bow))"
      ],
      "metadata": {
        "id": "9peoLRdX5yfJ",
        "outputId": "59fa3ce8-3553-42d5-9767-bc35650e8451",
        "colab": {
          "base_uri": "https://localhost:8080/"
        }
      },
      "execution_count": null,
      "outputs": [
        {
          "output_type": "stream",
          "name": "stdout",
          "text": [
            "Page - Exists: True\n",
            "Tokens:  15797\n",
            "Distinct tokens:  3392\n"
          ]
        }
      ]
    },
    {
      "cell_type": "code",
      "source": [
        "words, counts = zip(*page_bow.most_common(30))\n",
        "indexes = np.arange(len(words))\n",
        "\n",
        "bar_width = 0.35\n",
        "\n",
        "# Prepare figure with bars\n",
        "plt.figure(figsize=(10,5))\n",
        "plt.bar(indexes, counts)\n",
        "\n",
        "# add labels\n",
        "plt.xticks(indexes + bar_width, words, rotation=90)\n",
        "plt.show()"
      ],
      "metadata": {
        "id": "SXUmbAa0k6r3",
        "outputId": "960b73ad-2753-468b-ef47-413f495a5a2b",
        "colab": {
          "base_uri": "https://localhost:8080/",
          "height": 508
        }
      },
      "execution_count": null,
      "outputs": [
        {
          "output_type": "display_data",
          "data": {
            "text/plain": [
              "<Figure size 1000x500 with 1 Axes>"
            ],
            "image/png": "[encoded data removed]"
          },
          "metadata": {}
        }
      ]
    },
    {
      "cell_type": "code",
      "source": [
        "print(page_py.langlinks.keys())"
      ],
      "metadata": {
        "id": "kco4JqHhjDPW",
        "outputId": "96d88d14-70ea-4e8a-a67b-cc092dbfc187",
        "colab": {
          "base_uri": "https://localhost:8080/"
        }
      },
      "execution_count": null,
      "outputs": [
        {
          "output_type": "stream",
          "name": "stdout",
          "text": [
            "dict_keys(['af', 'als', 'am', 'an', 'ang', 'ar', 'arc', 'ary', 'arz', 'as', 'ast', 'av', 'awa', 'ay', 'az', 'azb', 'ba', 'ban', 'bar', 'bat-smg', 'bcl', 'be', 'be-x-old', 'bew', 'bg', 'bh', 'bi', 'bjn', 'bm', 'bn', 'bo', 'br', 'bs', 'bug', 'bxr', 'ca', 'cbk-zam', 'cdo', 'ce', 'ceb', 'ch', 'ckb', 'co', 'crh', 'cs', 'cu', 'cv', 'cy', 'da', 'dag', 'de', 'diq', 'dsb', 'dty', 'ee', 'el', 'eml', 'eo', 'es', 'et', 'eu', 'ext', 'fa', 'ff', 'fi', 'fiu-vro', 'fj', 'fo', 'fr', 'frp', 'frr', 'fur', 'fy', 'ga', 'gag', 'gan', 'gcr', 'gd', 'gl', 'glk', 'gn', 'got', 'gu', 'gv', 'ha', 'hak', 'he', 'hi', 'hif', 'hr', 'hsb', 'ht', 'hu', 'hy', 'hyw', 'ia', 'iba', 'id', 'ie', 'ig', 'ik', 'ilo', 'inh', 'io', 'is', 'it', 'ja', 'jam', 'jbo', 'jv', 'ka', 'kaa', 'kab', 'kbp', 'kge', 'ki', 'kk', 'km', 'kn', 'ko', 'krc', 'ks', 'ku', 'kw', 'ky', 'la', 'lad', 'lb', 'lez', 'lfn', 'li', 'lij', 'lld', 'lmo', 'ln', 'lo', 'lt', 'lv', 'mai', 'map-bms', 'mdf', 'mg', 'mhr', 'mi', 'min', 'mk', 'ml', 'mn', 'mni', 'mr', 'mrj', 'ms', 'mt', 'mwl', 'my', 'myv', 'mzn', 'nap', 'nds', 'nds-nl', 'ne', 'new', 'nl', 'nn', 'nb', 'nov', 'nrm', 'nso', 'nv', 'ny', 'oc', 'olo', 'os', 'pa', 'pam', 'pap', 'pcd', 'pdc', 'pfl', 'pih', 'pl', 'pms', 'pnb', 'ps', 'pt', 'qu', 'rm', 'rmy', 'ro', 'roa-rup', 'roa-tara', 'ru', 'rue', 'sa', 'sah', 'sat', 'sc', 'scn', 'sco', 'sd', 'sh', 'shi', 'si', 'simple', 'sk', 'sl', 'sm', 'smn', 'so', 'sq', 'sr', 'srn', 'stq', 'su', 'sv', 'sw', 'szl', 'ta', 'te', 'tg', 'th', 'tk', 'tl', 'tly', 'to', 'tpi', 'tr', 'tt', 'tum', 'tw', 'ty', 'udm', 'ug', 'uk', 'ur', 'uz', 'vec', 'vep', 'vi', 'vls', 'vo', 'wa', 'war', 'wuu', 'xal', 'xmf', 'yi', 'yo', 'za', 'zea', 'zgh', 'zh', 'zh-classical', 'zh-min-nan', 'zh-yue', 'zu'])\n"
          ]
        }
      ]
    },
    {
      "cell_type": "code",
      "source": [
        "page_py_it = page_py.langlinks['it']\n",
        "\n",
        "print(page_py_it.text[-140:])\n",
        "\n",
        "# Create the bag of words\n",
        "page_bow_it = Counter(space_regex.sub(' ', punct_regex.sub(' ', page_py_it.text.lower())).strip().split())\n",
        "\n",
        "print(len(page_bow_it))"
      ],
      "metadata": {
        "id": "g9qPHkuFmfW2",
        "outputId": "0be21b4e-c6a1-4c1f-833f-fc5d548f1ec3",
        "colab": {
          "base_uri": "https://localhost:8080/"
        }
      },
      "execution_count": null,
      "outputs": [
        {
          "output_type": "stream",
          "name": "stdout",
          "text": [
            "Open Library, Internet Archive. \n",
            "(EN) New York (insediamento umano) / City of New York (city), su Geographic Names Information System, USGS.\n",
            "3506\n"
          ]
        }
      ]
    },
    {
      "cell_type": "code",
      "source": [
        "words, counts = zip(*page_bow_it.most_common(30))\n",
        "\n",
        "indexes = np.arange(len(words))\n",
        "\n",
        "bar_width = 0.35\n",
        "\n",
        "\n",
        "plt.figure(figsize=(10,4))\n",
        "plt.bar(indexes, counts)\n",
        "\n",
        "# add labels\n",
        "plt.xticks(indexes + bar_width, words, rotation=90)\n",
        "plt.show()"
      ],
      "metadata": {
        "id": "1gfhSKGRmxgV",
        "outputId": "45c25a22-993d-4a21-ceca-1fb549d02abe",
        "colab": {
          "base_uri": "https://localhost:8080/",
          "height": 431
        }
      },
      "execution_count": null,
      "outputs": [
        {
          "output_type": "display_data",
          "data": {
            "text/plain": [
              "<Figure size 1000x400 with 1 Axes>"
            ],
            "image/png": "[encoded data removed]"
          },
          "metadata": {}
        }
      ]
    },
    {
      "cell_type": "code",
      "source": [
        "# TODO: Try repeat the code above with a new page or a different language\n",
        "\n",
        "\n",
        "\n"
      ],
      "metadata": {
        "id": "1MBDvtUHPT01"
      },
      "execution_count": null,
      "outputs": []
    },
    {
      "cell_type": "markdown",
      "source": [
        "## Use Word and Character Frequency to classify text\n",
        "\n",
        "This function extracts and processes Wikipedia article summaries in different languages. It takes a Wikipedia page object and a list of desired languages as input. For each specified language, it gets the summary of the article in that language, optionally removes punctuation if requested, and returns a list of tuples containing the processed text and language code. It essentially helps collect the same article's summaries across different language versions of Wikipedia.\n",
        "\n",
        "For example, if you had an article about \"Dog\" and passed in `languages=['es', 'fr']`, it would get you the Spanish and French summaries of the Dog article. The output would be something like `[('Spanish summary text', 'es'), ('French summary text', 'fr')]`."
      ],
      "metadata": {
        "id": "BgfCsY-Om_Mn"
      }
    },
    {
      "cell_type": "code",
      "source": [
        "def extract_lang_version(_page, languages, remove_punct=False):\n",
        "  langlinks = _page.langlinks\n",
        "  language_versions = []\n",
        "\n",
        "  for k in sorted(langlinks.keys()):\n",
        "    if k not in languages:\n",
        "      continue\n",
        "    v = langlinks[k]\n",
        "    page_text = v.summary\n",
        "    if remove_punct:\n",
        "      page_text = page_text.translate(str.maketrans('', '', string.punctuation))\n",
        "\n",
        "    language_versions.append((page_text,k))\n",
        "    # print(\"%s: %s - %s: %s - %s\" % (k, v.language, v.title, v.fullurl, v.summary))\n",
        "  return language_versions"
      ],
      "metadata": {
        "id": "yNQXyCuknUMJ"
      },
      "execution_count": null,
      "outputs": []
    },
    {
      "cell_type": "code",
      "source": [
        "train_pages = ['New York City', 'Rome', 'Berlin', 'Buenos Aires', 'Beijing', 'Budapest', 'Canberra', 'Prague', 'Madrid', 'Moscow', 'Vienna', 'Warsaw', 'Oslo', 'Porto']\n",
        "test_pages = ['Addis Ababa',  'Tom Sawyer', 'Johannes Gutenberg', 'Marcel Proust', 'Google', ' Statoil']\n",
        "languages = set(['als','en', 'es', 'fo', 'fr', 'da','de', 'hu', 'pl', 'pt', 'ru', 'nl', 'nov'])"
      ],
      "metadata": {
        "id": "KzU-oEDznIZ4"
      },
      "execution_count": null,
      "outputs": []
    },
    {
      "cell_type": "code",
      "source": [
        "training_set = []\n",
        "for page_name in train_pages:\n",
        "  page_py = wapi_text.page(page_name)\n",
        "  training_set.extend(extract_lang_version(page_py, languages, True))\n",
        "\n",
        "print(\"extracted text for {} training pages\".format(len(training_set)))"
      ],
      "metadata": {
        "id": "CoPa90VFnKPx",
        "outputId": "c0f32be3-43b2-4afa-a4ac-84f3f24e02ea",
        "colab": {
          "base_uri": "https://localhost:8080/"
        }
      },
      "execution_count": null,
      "outputs": [
        {
          "output_type": "stream",
          "name": "stdout",
          "text": [
            "extracted text for 165 training pages\n"
          ]
        }
      ]
    },
    {
      "cell_type": "code",
      "source": [
        "test_set = []\n",
        "for page_name in test_pages:\n",
        "  page_py = wapi_text.page(page_name)\n",
        "  test_set.extend(extract_lang_version(page_py, languages, True))\n",
        "\n",
        "print(\"extracted text for {} test pages\".format(len(test_set)))"
      ],
      "metadata": {
        "id": "IjtnCUpuFtdy",
        "outputId": "930d30fb-a9fb-4cd3-8460-f3dc7ec75d88",
        "colab": {
          "base_uri": "https://localhost:8080/"
        }
      },
      "execution_count": null,
      "outputs": [
        {
          "output_type": "stream",
          "name": "stdout",
          "text": [
            "extracted text for 55 test pages\n"
          ]
        }
      ]
    },
    {
      "cell_type": "markdown",
      "source": [
        "### Testing the application of\n",
        "[Less is More: Parameter-Free Text Classification with Gzip](https://arxiv.org/pdf/2212.09410.pdf)\n",
        "\n",
        "This code implements a language detection system using compression-based classification (specifically the NCD - Normalized Compression Distance algorithm) with a k-Nearest Neighbors (k=5) approach. Here's what it does:\n",
        "\n",
        "1. For each test document, it compares it to all training documents by:\n",
        "   - Compressing both documents separately and together\n",
        "   - Calculating their similarity using a compression-based distance formula\n",
        "   - Finding the 5 most similar training documents\n",
        "   - Predicting the language by taking the most common language among these 5 documents\n",
        "\n",
        "2. It keeps track of accuracy in two ways:\n",
        "   - Macro accuracy: overall percentage of correct predictions\n",
        "   - Micro accuracy: accuracy broken down by each language\n",
        "\n",
        "Finally, it prints the overall accuracy and the accuracy per language.\n",
        "\n",
        "The interesting part is that it uses file compression (gzip) as a way to measure text similarity - the idea being that if two texts are similar, their compressed combination won't be much larger than their individual compressions. This is a clever way to detect language without needing to understand the actual words or grammar.\n"
      ],
      "metadata": {
        "id": "5iykQX-IRqCg"
      }
    },
    {
      "cell_type": "code",
      "source": [
        "training_set=np.array(training_set)\n",
        "test_set=np.array(test_set)\n",
        "\n",
        "macro_accuracy = 0\n",
        "micro_accuracy = { l:0 for l in languages}\n",
        "\n",
        "count_l = { l:0 for l in languages}\n",
        "\n",
        "\n",
        "print(\"{:6}{:6} \".format(\"True\", \"Pred.\"), \"Text\" ) # print prediction and sample text\n",
        "for (x1 , real) in test_set: # for each document for which we want to predict\n",
        "   Cx1 = len(gzip.compress(x1.encode ())) # compress it and checj the compression size\n",
        "   distance_from_x1 = []\n",
        "\n",
        "   for (x2 , _) in training_set: # for each reference document (for which we know the language)\n",
        "      Cx2 = len(gzip.compress(x2.encode ())) # compress the document\n",
        "      x1x2 = \" \".join([x1 , x2]) # concatenate the test and the reference docs\n",
        "      Cx1x2 = len(gzip.compress(x1x2.encode ())) # compress this new concatenated\n",
        "      ncd = (Cx1x2 - min(Cx1 , Cx2)) / max( Cx1 , Cx2 ) # compare the compression ratio using formula from the paper\n",
        "      distance_from_x1.append( ncd ) # use this value as \"similarity\"\n",
        "\n",
        "   k=5 # <- decide to compare to the best 5\n",
        "\n",
        "   sorted_idx = np.argsort(np.array(distance_from_x1)) # sort documents\n",
        "   top_k_class = list(training_set[sorted_idx[:k], 1]) # find which are the top5 documents\n",
        "   predict_class = max(set(top_k_class) , key=top_k_class.count ) # compute the majority of votes\n",
        "\n",
        "   print(\"{:6}{:6} \".format(real, predict_class), x1[:30] ) # print prediction and sample text\n",
        "   count_l[real]+=1\n",
        "\n",
        "   if real == predict_class:\n",
        "    macro_accuracy+=1\n",
        "    micro_accuracy[real]+=1\n",
        "\n",
        "\n",
        "print(\"\\n\\n\")\n",
        "print(\"Macro accuracy\", macro_accuracy/len(test_set))\n",
        "\n",
        "for l in languages:\n",
        "  if count_l[l] > 0:\n",
        "    print(l, count_l[l], micro_accuracy[l]/count_l[l])"
      ],
      "metadata": {
        "id": "uOmM9Ob46Oda",
        "outputId": "3684589e-28ce-4f2f-a3d6-eb8ad4cd2ea3",
        "colab": {
          "base_uri": "https://localhost:8080/"
        }
      },
      "execution_count": null,
      "outputs": [
        {
          "output_type": "stream",
          "name": "stdout",
          "text": [
            "True  Pred.   Text\n",
            "da    da      Addis Ababa også Addis Abeba e\n",
            "de    als     Addis Abeba adˈɪs ˈaːbeba auch\n",
            "es    es      Adís Abeba1​2​ del amhárico አዲ\n",
            "fo    fo      Høvuðsstaðurin í Etiopia Addis\n",
            "fr    pl      AddisAbeba adis‿abeba  en amha\n",
            "hu    hu      AddiszAbeba Etiópia fővárosa é\n",
            "nl    nl      Addis Abeba Amhaars አዲስ አበባ ni\n",
            "pl    pl      Addis Abeba amh አዲስ አበባ „Nowy \n",
            "pt    pt      Adis Abeba em amárico አዲስ አበባ \n",
            "ru    ru      Адди́сАбе́ба амх አዲስ አበባ — «но\n",
            "es    als     Tom Sawyer es el personaje pri\n",
            "fr    nov     Tom Sawyer est un personnage d\n",
            "nl    nov     Tom Sawyer is een personage be\n",
            "pl    pl      Tom Sawyer – postać fikcyjna t\n",
            "pt    pt      Tom Sawyer é o personagem prin\n",
            "ru    ru      То́мас «Том» Со́йер англ Thoma\n",
            "als   als     Dr Johannes Gensfleisch bekann\n",
            "da    da      Johann Gutenberg født 1394 død\n",
            "de    de      Johannes Gutenberg  um 1400 in\n",
            "es    es      Johannes Gensfleisch zur Laden\n",
            "fr    fr      Johannes Gensfleisch zur Laden\n",
            "hu    hu      Johannes Gensfleisch zur Laden\n",
            "nl    nl      Johannes Gensfleisch zur Laden\n",
            "pl    pl      Johannes Gutenberg właśc Johan\n",
            "pt    pt      Johannes Gensfleisch zur Laden\n",
            "ru    ru      Иога́нн Генсфляйш цур Ладен цу\n",
            "als   als     Dr Valentin Louis Georges Eugè\n",
            "da    da      Marcel Proust født 10 juli 187\n",
            "de    als     Valentin Louis Georges Eugène \n",
            "es    es      Marcel Proust en francés maʁsɛ\n",
            "fo    fo      Valentin Louis Georges Eugène \n",
            "fr    fr      Marcel Proust né le 10 juillet\n",
            "hu    pl      Marcel Proust teljes nevén Val\n",
            "nl    nl      Valentin Louis Georges Eugène \n",
            "pl    fo      Marcel Proust ur 10 lipca 1871\n",
            "pt    pt      Valentin Louis Georges Eugène \n",
            "ru    ru      Валенте́н Луи́ Жорж Эже́н Марс\n",
            "da    da      For alternative betydninger se\n",
            "de    de      Google ist ein USamerikanische\n",
            "es    es      Google LLC es una empresa de t\n",
            "fo    fo      Google er ein amerikansk leiti\n",
            "fr    fr      Google LLC ˈguːgəl est une ent\n",
            "hu    hu      A Google NASDAQ GOOG amerikai \n",
            "nl    nl      Google LLC is het bedrijf acht\n",
            "pl    pl      Google LLC dawniej Google Inc \n",
            "pt    pt      Google LLC ˈɡuːɡəl GOOghəl é u\n",
            "ru    ru      Google LLC МФА ɡuːɡl MWCD ˈgüg\n",
            "da    da      Equinor ASA tidligere Statoil \n",
            "de    de      Die Equinor ASA bis 2018 Stato\n",
            "es    es      Equinor Statoil antes de 2018 \n",
            "fr    fr      Equinor Asa auparavant Statoil\n",
            "nl    nl      Equinor ASA is een Noors energ\n",
            "pl    pl      Equinor ASA do 2018 Statoil AS\n",
            "pt    pt      A Equinor ASA anteriormente St\n",
            "ru    ru      Equinor ASA до 2018 года — Sta\n",
            "\n",
            "\n",
            "\n",
            "Macro accuracy 0.8545454545454545\n",
            "pt 6 1.0\n",
            "es 6 0.8333333333333334\n",
            "nl 6 0.8333333333333334\n",
            "da 5 1.0\n",
            "ru 6 1.0\n",
            "fr 6 0.6666666666666666\n",
            "pl 6 0.8333333333333334\n",
            "de 5 0.6\n",
            "fo 3 1.0\n",
            "hu 4 0.75\n",
            "als 2 1.0\n"
          ]
        }
      ]
    },
    {
      "cell_type": "markdown",
      "source": [
        "# Processing PDF documents\n",
        "\n",
        "We are going to use utilities in the langchain library:\n",
        "\n",
        "- To load text from PDF:  https://python.langchain.com/docs/how_to/document_loader_pdf/\n",
        "\n",
        "- To split text:   https://python.langchain.com/docs/how_to/recursive_text_splitter/\n",
        "\n",
        "-"
      ],
      "metadata": {
        "id": "XcD9iIXqKcgQ"
      }
    },
    {
      "cell_type": "code",
      "source": [
        "%pip install langchain langchain-community pypdf"
      ],
      "metadata": {
        "id": "OW8WNKmAUOKM",
        "outputId": "ec9ea8e1-5612-49ea-f25f-b14729340d52",
        "colab": {
          "base_uri": "https://localhost:8080/"
        }
      },
      "execution_count": null,
      "outputs": [
        {
          "output_type": "stream",
          "name": "stdout",
          "text": [
            "Requirement already satisfied: langchain in /usr/local/lib/python3.10/dist-packages (0.3.7)\n",
            "Collecting langchain-community\n",
            "  Downloading langchain_community-0.3.7-py3-none-any.whl.metadata (2.9 kB)\n",
            "Requirement already satisfied: pypdf in /usr/local/lib/python3.10/dist-packages (5.1.0)\n",
            "Requirement already satisfied: PyYAML>=5.3 in /usr/local/lib/python3.10/dist-packages (from langchain) (6.0.2)\n",
            "Requirement already satisfied: SQLAlchemy<3,>=1.4 in /usr/local/lib/python3.10/dist-packages (from langchain) (2.0.36)\n",
            "Requirement already satisfied: aiohttp<4.0.0,>=3.8.3 in /usr/local/lib/python3.10/dist-packages (from langchain) (3.11.2)\n",
            "Requirement already satisfied: async-timeout<5.0.0,>=4.0.0 in /usr/local/lib/python3.10/dist-packages (from langchain) (4.0.3)\n",
            "Requirement already satisfied: langchain-core<0.4.0,>=0.3.15 in /usr/local/lib/python3.10/dist-packages (from langchain) (0.3.19)\n",
            "Requirement already satisfied: langchain-text-splitters<0.4.0,>=0.3.0 in /usr/local/lib/python3.10/dist-packages (from langchain) (0.3.2)\n",
            "Requirement already satisfied: langsmith<0.2.0,>=0.1.17 in /usr/local/lib/python3.10/dist-packages (from langchain) (0.1.143)\n",
            "Requirement already satisfied: numpy<2,>=1 in /usr/local/lib/python3.10/dist-packages (from langchain) (1.26.4)\n",
            "Requirement already satisfied: pydantic<3.0.0,>=2.7.4 in /usr/local/lib/python3.10/dist-packages (from langchain) (2.9.2)\n",
            "Requirement already satisfied: requests<3,>=2 in /usr/local/lib/python3.10/dist-packages (from langchain) (2.32.3)\n",
            "Requirement already satisfied: tenacity!=8.4.0,<10,>=8.1.0 in /usr/local/lib/python3.10/dist-packages (from langchain) (9.0.0)\n",
            "Collecting SQLAlchemy<3,>=1.4 (from langchain)\n",
            "  Downloading SQLAlchemy-2.0.35-cp310-cp310-manylinux_2_17_x86_64.manylinux2014_x86_64.whl.metadata (9.6 kB)\n",
            "Collecting dataclasses-json<0.7,>=0.5.7 (from langchain-community)\n",
            "  Downloading dataclasses_json-0.6.7-py3-none-any.whl.metadata (25 kB)\n",
            "Collecting httpx-sse<0.5.0,>=0.4.0 (from langchain-community)\n",
            "  Downloading httpx_sse-0.4.0-py3-none-any.whl.metadata (9.0 kB)\n",
            "Collecting pydantic-settings<3.0.0,>=2.4.0 (from langchain-community)\n",
            "  Downloading pydantic_settings-2.6.1-py3-none-any.whl.metadata (3.5 kB)\n",
            "Requirement already satisfied: typing_extensions>=4.0 in /usr/local/lib/python3.10/dist-packages (from pypdf) (4.12.2)\n",
            "Requirement already satisfied: aiohappyeyeballs>=2.3.0 in /usr/local/lib/python3.10/dist-packages (from aiohttp<4.0.0,>=3.8.3->langchain) (2.4.3)\n",
            "Requirement already satisfied: aiosignal>=1.1.2 in /usr/local/lib/python3.10/dist-packages (from aiohttp<4.0.0,>=3.8.3->langchain) (1.3.1)\n",
            "Requirement already satisfied: attrs>=17.3.0 in /usr/local/lib/python3.10/dist-packages (from aiohttp<4.0.0,>=3.8.3->langchain) (24.2.0)\n",
            "Requirement already satisfied: frozenlist>=1.1.1 in /usr/local/lib/python3.10/dist-packages (from aiohttp<4.0.0,>=3.8.3->langchain) (1.5.0)\n",
            "Requirement already satisfied: multidict<7.0,>=4.5 in /usr/local/lib/python3.10/dist-packages (from aiohttp<4.0.0,>=3.8.3->langchain) (6.1.0)\n",
            "Requirement already satisfied: propcache>=0.2.0 in /usr/local/lib/python3.10/dist-packages (from aiohttp<4.0.0,>=3.8.3->langchain) (0.2.0)\n",
            "Requirement already satisfied: yarl<2.0,>=1.17.0 in /usr/local/lib/python3.10/dist-packages (from aiohttp<4.0.0,>=3.8.3->langchain) (1.17.2)\n",
            "Collecting marshmallow<4.0.0,>=3.18.0 (from dataclasses-json<0.7,>=0.5.7->langchain-community)\n",
            "  Downloading marshmallow-3.23.1-py3-none-any.whl.metadata (7.5 kB)\n",
            "Collecting typing-inspect<1,>=0.4.0 (from dataclasses-json<0.7,>=0.5.7->langchain-community)\n",
            "  Downloading typing_inspect-0.9.0-py3-none-any.whl.metadata (1.5 kB)\n",
            "Requirement already satisfied: jsonpatch<2.0,>=1.33 in /usr/local/lib/python3.10/dist-packages (from langchain-core<0.4.0,>=0.3.15->langchain) (1.33)\n",
            "Requirement already satisfied: packaging<25,>=23.2 in /usr/local/lib/python3.10/dist-packages (from langchain-core<0.4.0,>=0.3.15->langchain) (24.2)\n",
            "Requirement already satisfied: httpx<1,>=0.23.0 in /usr/local/lib/python3.10/dist-packages (from langsmith<0.2.0,>=0.1.17->langchain) (0.27.2)\n",
            "Requirement already satisfied: orjson<4.0.0,>=3.9.14 in /usr/local/lib/python3.10/dist-packages (from langsmith<0.2.0,>=0.1.17->langchain) (3.10.11)\n",
            "Requirement already satisfied: requests-toolbelt<2.0.0,>=1.0.0 in /usr/local/lib/python3.10/dist-packages (from langsmith<0.2.0,>=0.1.17->langchain) (1.0.0)\n",
            "Requirement already satisfied: annotated-types>=0.6.0 in /usr/local/lib/python3.10/dist-packages (from pydantic<3.0.0,>=2.7.4->langchain) (0.7.0)\n",
            "Requirement already satisfied: pydantic-core==2.23.4 in /usr/local/lib/python3.10/dist-packages (from pydantic<3.0.0,>=2.7.4->langchain) (2.23.4)\n",
            "Collecting python-dotenv>=0.21.0 (from pydantic-settings<3.0.0,>=2.4.0->langchain-community)\n",
            "  Downloading python_dotenv-1.0.1-py3-none-any.whl.metadata (23 kB)\n",
            "Requirement already satisfied: charset-normalizer<4,>=2 in /usr/local/lib/python3.10/dist-packages (from requests<3,>=2->langchain) (3.4.0)\n",
            "Requirement already satisfied: idna<4,>=2.5 in /usr/local/lib/python3.10/dist-packages (from requests<3,>=2->langchain) (3.10)\n",
            "Requirement already satisfied: urllib3<3,>=1.21.1 in /usr/local/lib/python3.10/dist-packages (from requests<3,>=2->langchain) (2.2.3)\n",
            "Requirement already satisfied: certifi>=2017.4.17 in /usr/local/lib/python3.10/dist-packages (from requests<3,>=2->langchain) (2024.8.30)\n",
            "Requirement already satisfied: greenlet!=0.4.17 in /usr/local/lib/python3.10/dist-packages (from SQLAlchemy<3,>=1.4->langchain) (3.1.1)\n",
            "Requirement already satisfied: anyio in /usr/local/lib/python3.10/dist-packages (from httpx<1,>=0.23.0->langsmith<0.2.0,>=0.1.17->langchain) (3.7.1)\n",
            "Requirement already satisfied: httpcore==1.* in /usr/local/lib/python3.10/dist-packages (from httpx<1,>=0.23.0->langsmith<0.2.0,>=0.1.17->langchain) (1.0.7)\n",
            "Requirement already satisfied: sniffio in /usr/local/lib/python3.10/dist-packages (from httpx<1,>=0.23.0->langsmith<0.2.0,>=0.1.17->langchain) (1.3.1)\n",
            "Requirement already satisfied: h11<0.15,>=0.13 in /usr/local/lib/python3.10/dist-packages (from httpcore==1.*->httpx<1,>=0.23.0->langsmith<0.2.0,>=0.1.17->langchain) (0.14.0)\n",
            "Requirement already satisfied: jsonpointer>=1.9 in /usr/local/lib/python3.10/dist-packages (from jsonpatch<2.0,>=1.33->langchain-core<0.4.0,>=0.3.15->langchain) (3.0.0)\n",
            "Collecting mypy-extensions>=0.3.0 (from typing-inspect<1,>=0.4.0->dataclasses-json<0.7,>=0.5.7->langchain-community)\n",
            "  Downloading mypy_extensions-1.0.0-py3-none-any.whl.metadata (1.1 kB)\n",
            "Requirement already satisfied: exceptiongroup in /usr/local/lib/python3.10/dist-packages (from anyio->httpx<1,>=0.23.0->langsmith<0.2.0,>=0.1.17->langchain) (1.2.2)\n",
            "Downloading langchain_community-0.3.7-py3-none-any.whl (2.4 MB)\n",
            "\u001b[2K   \u001b[90m━━━━━━━━━━━━━━━━━━━━━━━━━━━━━━━━━━━━━━━━\u001b[0m \u001b[32m2.4/2.4 MB\u001b[0m \u001b[31m26.9 MB/s\u001b[0m eta \u001b[36m0:00:00\u001b[0m\n",
            "\u001b[?25hDownloading dataclasses_json-0.6.7-py3-none-any.whl (28 kB)\n",
            "Downloading httpx_sse-0.4.0-py3-none-any.whl (7.8 kB)\n",
            "Downloading pydantic_settings-2.6.1-py3-none-any.whl (28 kB)\n",
            "Downloading SQLAlchemy-2.0.35-cp310-cp310-manylinux_2_17_x86_64.manylinux2014_x86_64.whl (3.1 MB)\n",
            "\u001b[2K   \u001b[90m━━━━━━━━━━━━━━━━━━━━━━━━━━━━━━━━━━━━━━━━\u001b[0m \u001b[32m3.1/3.1 MB\u001b[0m \u001b[31m54.1 MB/s\u001b[0m eta \u001b[36m0:00:00\u001b[0m\n",
            "\u001b[?25hDownloading marshmallow-3.23.1-py3-none-any.whl (49 kB)\n",
            "\u001b[2K   \u001b[90m━━━━━━━━━━━━━━━━━━━━━━━━━━━━━━━━━━━━━━━━\u001b[0m \u001b[32m49.5/49.5 kB\u001b[0m \u001b[31m2.8 MB/s\u001b[0m eta \u001b[36m0:00:00\u001b[0m\n",
            "\u001b[?25hDownloading python_dotenv-1.0.1-py3-none-any.whl (19 kB)\n",
            "Downloading typing_inspect-0.9.0-py3-none-any.whl (8.8 kB)\n",
            "Downloading mypy_extensions-1.0.0-py3-none-any.whl (4.7 kB)\n",
            "Installing collected packages: SQLAlchemy, python-dotenv, mypy-extensions, marshmallow, httpx-sse, typing-inspect, pydantic-settings, dataclasses-json, langchain-community\n",
            "  Attempting uninstall: SQLAlchemy\n",
            "    Found existing installation: SQLAlchemy 2.0.36\n",
            "    Uninstalling SQLAlchemy-2.0.36:\n",
            "      Successfully uninstalled SQLAlchemy-2.0.36\n",
            "Successfully installed SQLAlchemy-2.0.35 dataclasses-json-0.6.7 httpx-sse-0.4.0 langchain-community-0.3.7 marshmallow-3.23.1 mypy-extensions-1.0.0 pydantic-settings-2.6.1 python-dotenv-1.0.1 typing-inspect-0.9.0\n"
          ]
        }
      ]
    },
    {
      "cell_type": "code",
      "source": [
        "!wget  'https://d1io3yog0oux5.cloudfront.net/_11d435a500963f99155ee058df09f574/intel/db/887/9014/earnings_release/Q1+24_EarningsRelease_FINAL.pdf' -O intel_q1_2024_earnings.pdf"
      ],
      "metadata": {
        "id": "pp8xN6CUKg5r",
        "outputId": "2cdcd78f-eaab-42de-f76b-88ef481a00fc",
        "colab": {
          "base_uri": "https://localhost:8080/"
        }
      },
      "execution_count": 3,
      "outputs": [
        {
          "output_type": "stream",
          "name": "stdout",
          "text": [
            "--2024-11-20 21:53:50--  https://d1io3yog0oux5.cloudfront.net/_11d435a500963f99155ee058df09f574/intel/db/887/9014/earnings_release/Q1+24_EarningsRelease_FINAL.pdf\n",
            "Resolving d1io3yog0oux5.cloudfront.net (d1io3yog0oux5.cloudfront.net)... 18.65.226.174, 18.65.226.120, 18.65.226.115, ...\n",
            "Connecting to d1io3yog0oux5.cloudfront.net (d1io3yog0oux5.cloudfront.net)|18.65.226.174|:443... connected.\n",
            "HTTP request sent, awaiting response... 200 OK\n",
            "Length: 133510 (130K) [application/pdf]\n",
            "Saving to: ‘intel_q1_2024_earnings.pdf’\n",
            "\n",
            "intel_q1_2024_earni 100%[===================>] 130.38K   718KB/s    in 0.2s    \n",
            "\n",
            "2024-11-20 21:53:51 (718 KB/s) - ‘intel_q1_2024_earnings.pdf’ saved [133510/133510]\n",
            "\n"
          ]
        }
      ]
    },
    {
      "cell_type": "code",
      "source": [
        "from langchain.text_splitter import RecursiveCharacterTextSplitter\n",
        "from langchain_community.document_loaders import PyPDFLoader\n",
        "loader = PyPDFLoader(\"intel_q1_2024_earnings.pdf\")\n",
        "data = loader.load()"
      ],
      "metadata": {
        "id": "T1lxUfh2Ktoe"
      },
      "execution_count": null,
      "outputs": []
    },
    {
      "cell_type": "code",
      "source": [
        "text_splitter = RecursiveCharacterTextSplitter(chunk_size=500, chunk_overlap=0)\n",
        "all_splits = text_splitter.split_documents(data)"
      ],
      "metadata": {
        "id": "lll2xm9BKwcq"
      },
      "execution_count": null,
      "outputs": []
    },
    {
      "cell_type": "code",
      "source": [
        "all_splits[0]"
      ],
      "metadata": {
        "id": "YwlZ_UcgLUs7",
        "outputId": "8c4bafd9-fba2-4001-a8df-beccf4fb05b2",
        "colab": {
          "base_uri": "https://localhost:8080/"
        }
      },
      "execution_count": null,
      "outputs": [
        {
          "output_type": "execute_result",
          "data": {
            "text/plain": [
              "Document(metadata={'source': 'intel_q1_2024_earnings.pdf', 'page': 0}, page_content='Intel Corporation\\n2200 Mission College Blvd.\\nSanta Clara, CA 95054-1549\\n                                                         \\nNews Release\\n Intel Reports First-Quarter 2024 Financial Results\\nNEWS SUMMARY\\n▪ First-quarter revenue of $12.7 billion, up 9% year over year (YoY).\\n▪ First-quarter GAAP earnings (loss) per share (EPS) attributable to Intel was $(0.09); non-GAAP EPS \\nattributable to Intel was $0.18.')"
            ]
          },
          "metadata": {},
          "execution_count": 26
        }
      ]
    },
    {
      "cell_type": "code",
      "source": [
        "all_splits[1]"
      ],
      "metadata": {
        "id": "fYbA3fY3LzrB",
        "outputId": "e9aba8f1-36f3-411e-d0a1-a048b8087e49",
        "colab": {
          "base_uri": "https://localhost:8080/"
        }
      },
      "execution_count": null,
      "outputs": [
        {
          "output_type": "execute_result",
          "data": {
            "text/plain": [
              "Document(metadata={'source': 'intel_q1_2024_earnings.pdf', 'page': 0}, page_content='▪ Forecasting second-quarter 2024 revenue of $12.5 billion to $13.5 billion; expecting second-quarter EPS of \\n$(0.05); non-GAAP EPS of $0.10.\\nSANTA CLARA, Calif., April 25, 2024 – Intel Corporation today reported first-quarter 2024 financial results.\\n“We are making steady progress against our priorities and delivered a solid quarter,” said Pat Gelsinger, Intel CEO. \\n“Strong innovation across our client, edge and data center portfolios drove double-digit revenue growth in Intel')"
            ]
          },
          "metadata": {},
          "execution_count": 27
        }
      ]
    },
    {
      "cell_type": "code",
      "source": [
        "%pip install spacy\n",
        "%pip install spacypdfreader pdf2image pytesseract"
      ],
      "metadata": {
        "id": "VhwLhdysL198",
        "outputId": "a221a0a9-3ffc-4777-df38-4f7d69702d4f",
        "colab": {
          "base_uri": "https://localhost:8080/"
        }
      },
      "execution_count": 7,
      "outputs": [
        {
          "output_type": "stream",
          "name": "stdout",
          "text": [
            "Requirement already satisfied: spacy in /usr/local/lib/python3.10/dist-packages (3.8.2)\n",
            "Requirement already satisfied: spacy-legacy<3.1.0,>=3.0.11 in /usr/local/lib/python3.10/dist-packages (from spacy) (3.0.12)\n",
            "Requirement already satisfied: spacy-loggers<2.0.0,>=1.0.0 in /usr/local/lib/python3.10/dist-packages (from spacy) (1.0.5)\n",
            "Requirement already satisfied: murmurhash<1.1.0,>=0.28.0 in /usr/local/lib/python3.10/dist-packages (from spacy) (1.0.10)\n",
            "Requirement already satisfied: cymem<2.1.0,>=2.0.2 in /usr/local/lib/python3.10/dist-packages (from spacy) (2.0.8)\n",
            "Requirement already satisfied: preshed<3.1.0,>=3.0.2 in /usr/local/lib/python3.10/dist-packages (from spacy) (3.0.9)\n",
            "Requirement already satisfied: thinc<8.4.0,>=8.3.0 in /usr/local/lib/python3.10/dist-packages (from spacy) (8.3.2)\n",
            "Requirement already satisfied: wasabi<1.2.0,>=0.9.1 in /usr/local/lib/python3.10/dist-packages (from spacy) (1.1.3)\n",
            "Requirement already satisfied: srsly<3.0.0,>=2.4.3 in /usr/local/lib/python3.10/dist-packages (from spacy) (2.4.8)\n",
            "Requirement already satisfied: catalogue<2.1.0,>=2.0.6 in /usr/local/lib/python3.10/dist-packages (from spacy) (2.0.10)\n",
            "Requirement already satisfied: weasel<0.5.0,>=0.1.0 in /usr/local/lib/python3.10/dist-packages (from spacy) (0.4.1)\n",
            "Requirement already satisfied: typer<1.0.0,>=0.3.0 in /usr/local/lib/python3.10/dist-packages (from spacy) (0.13.0)\n",
            "Requirement already satisfied: tqdm<5.0.0,>=4.38.0 in /usr/local/lib/python3.10/dist-packages (from spacy) (4.66.6)\n",
            "Requirement already satisfied: requests<3.0.0,>=2.13.0 in /usr/local/lib/python3.10/dist-packages (from spacy) (2.32.3)\n",
            "Requirement already satisfied: pydantic!=1.8,!=1.8.1,<3.0.0,>=1.7.4 in /usr/local/lib/python3.10/dist-packages (from spacy) (2.9.2)\n",
            "Requirement already satisfied: jinja2 in /usr/local/lib/python3.10/dist-packages (from spacy) (3.1.4)\n",
            "Requirement already satisfied: setuptools in /usr/local/lib/python3.10/dist-packages (from spacy) (75.1.0)\n",
            "Requirement already satisfied: packaging>=20.0 in /usr/local/lib/python3.10/dist-packages (from spacy) (24.2)\n",
            "Requirement already satisfied: langcodes<4.0.0,>=3.2.0 in /usr/local/lib/python3.10/dist-packages (from spacy) (3.4.1)\n",
            "Requirement already satisfied: numpy>=1.19.0 in /usr/local/lib/python3.10/dist-packages (from spacy) (2.0.2)\n",
            "Requirement already satisfied: language-data>=1.2 in /usr/local/lib/python3.10/dist-packages (from langcodes<4.0.0,>=3.2.0->spacy) (1.2.0)\n",
            "Requirement already satisfied: annotated-types>=0.6.0 in /usr/local/lib/python3.10/dist-packages (from pydantic!=1.8,!=1.8.1,<3.0.0,>=1.7.4->spacy) (0.7.0)\n",
            "Requirement already satisfied: pydantic-core==2.23.4 in /usr/local/lib/python3.10/dist-packages (from pydantic!=1.8,!=1.8.1,<3.0.0,>=1.7.4->spacy) (2.23.4)\n",
            "Requirement already satisfied: typing-extensions>=4.6.1 in /usr/local/lib/python3.10/dist-packages (from pydantic!=1.8,!=1.8.1,<3.0.0,>=1.7.4->spacy) (4.12.2)\n",
            "Requirement already satisfied: charset-normalizer<4,>=2 in /usr/local/lib/python3.10/dist-packages (from requests<3.0.0,>=2.13.0->spacy) (3.4.0)\n",
            "Requirement already satisfied: idna<4,>=2.5 in /usr/local/lib/python3.10/dist-packages (from requests<3.0.0,>=2.13.0->spacy) (3.10)\n",
            "Requirement already satisfied: urllib3<3,>=1.21.1 in /usr/local/lib/python3.10/dist-packages (from requests<3.0.0,>=2.13.0->spacy) (2.2.3)\n",
            "Requirement already satisfied: certifi>=2017.4.17 in /usr/local/lib/python3.10/dist-packages (from requests<3.0.0,>=2.13.0->spacy) (2024.8.30)\n",
            "Requirement already satisfied: blis<1.1.0,>=1.0.0 in /usr/local/lib/python3.10/dist-packages (from thinc<8.4.0,>=8.3.0->spacy) (1.0.1)\n",
            "Requirement already satisfied: confection<1.0.0,>=0.0.1 in /usr/local/lib/python3.10/dist-packages (from thinc<8.4.0,>=8.3.0->spacy) (0.1.5)\n",
            "Requirement already satisfied: click>=8.0.0 in /usr/local/lib/python3.10/dist-packages (from typer<1.0.0,>=0.3.0->spacy) (8.1.7)\n",
            "Requirement already satisfied: shellingham>=1.3.0 in /usr/local/lib/python3.10/dist-packages (from typer<1.0.0,>=0.3.0->spacy) (1.5.4)\n",
            "Requirement already satisfied: rich>=10.11.0 in /usr/local/lib/python3.10/dist-packages (from typer<1.0.0,>=0.3.0->spacy) (13.9.4)\n",
            "Requirement already satisfied: cloudpathlib<1.0.0,>=0.7.0 in /usr/local/lib/python3.10/dist-packages (from weasel<0.5.0,>=0.1.0->spacy) (0.20.0)\n",
            "Requirement already satisfied: smart-open<8.0.0,>=5.2.1 in /usr/local/lib/python3.10/dist-packages (from weasel<0.5.0,>=0.1.0->spacy) (7.0.5)\n",
            "Requirement already satisfied: MarkupSafe>=2.0 in /usr/local/lib/python3.10/dist-packages (from jinja2->spacy) (3.0.2)\n",
            "Requirement already satisfied: marisa-trie>=0.7.7 in /usr/local/lib/python3.10/dist-packages (from language-data>=1.2->langcodes<4.0.0,>=3.2.0->spacy) (1.2.1)\n",
            "Requirement already satisfied: markdown-it-py>=2.2.0 in /usr/local/lib/python3.10/dist-packages (from rich>=10.11.0->typer<1.0.0,>=0.3.0->spacy) (3.0.0)\n",
            "Requirement already satisfied: pygments<3.0.0,>=2.13.0 in /usr/local/lib/python3.10/dist-packages (from rich>=10.11.0->typer<1.0.0,>=0.3.0->spacy) (2.18.0)\n",
            "Requirement already satisfied: wrapt in /usr/local/lib/python3.10/dist-packages (from smart-open<8.0.0,>=5.2.1->weasel<0.5.0,>=0.1.0->spacy) (1.16.0)\n",
            "Requirement already satisfied: mdurl~=0.1 in /usr/local/lib/python3.10/dist-packages (from markdown-it-py>=2.2.0->rich>=10.11.0->typer<1.0.0,>=0.3.0->spacy) (0.1.2)\n",
            "Requirement already satisfied: spacypdfreader in /usr/local/lib/python3.10/dist-packages (0.3.2)\n",
            "Requirement already satisfied: pdf2image in /usr/local/lib/python3.10/dist-packages (1.17.0)\n",
            "Collecting pytesseract\n",
            "  Downloading pytesseract-0.3.13-py3-none-any.whl.metadata (11 kB)\n",
            "Requirement already satisfied: pdfminer-six>=20240706 in /usr/local/lib/python3.10/dist-packages (from spacypdfreader) (20240706)\n",
            "Requirement already satisfied: rich>=13.9.2 in /usr/local/lib/python3.10/dist-packages (from spacypdfreader) (13.9.4)\n",
            "Requirement already satisfied: spacy>=3.8.2 in /usr/local/lib/python3.10/dist-packages (from spacypdfreader) (3.8.2)\n",
            "Requirement already satisfied: pillow in /usr/local/lib/python3.10/dist-packages (from pdf2image) (11.0.0)\n",
            "Requirement already satisfied: packaging>=21.3 in /usr/local/lib/python3.10/dist-packages (from pytesseract) (24.2)\n",
            "Requirement already satisfied: charset-normalizer>=2.0.0 in /usr/local/lib/python3.10/dist-packages (from pdfminer-six>=20240706->spacypdfreader) (3.4.0)\n",
            "Requirement already satisfied: cryptography>=36.0.0 in /usr/local/lib/python3.10/dist-packages (from pdfminer-six>=20240706->spacypdfreader) (43.0.3)\n",
            "Requirement already satisfied: markdown-it-py>=2.2.0 in /usr/local/lib/python3.10/dist-packages (from rich>=13.9.2->spacypdfreader) (3.0.0)\n",
            "Requirement already satisfied: pygments<3.0.0,>=2.13.0 in /usr/local/lib/python3.10/dist-packages (from rich>=13.9.2->spacypdfreader) (2.18.0)\n",
            "Requirement already satisfied: typing-extensions<5.0,>=4.0.0 in /usr/local/lib/python3.10/dist-packages (from rich>=13.9.2->spacypdfreader) (4.12.2)\n",
            "Requirement already satisfied: spacy-legacy<3.1.0,>=3.0.11 in /usr/local/lib/python3.10/dist-packages (from spacy>=3.8.2->spacypdfreader) (3.0.12)\n",
            "Requirement already satisfied: spacy-loggers<2.0.0,>=1.0.0 in /usr/local/lib/python3.10/dist-packages (from spacy>=3.8.2->spacypdfreader) (1.0.5)\n",
            "Requirement already satisfied: murmurhash<1.1.0,>=0.28.0 in /usr/local/lib/python3.10/dist-packages (from spacy>=3.8.2->spacypdfreader) (1.0.10)\n",
            "Requirement already satisfied: cymem<2.1.0,>=2.0.2 in /usr/local/lib/python3.10/dist-packages (from spacy>=3.8.2->spacypdfreader) (2.0.8)\n",
            "Requirement already satisfied: preshed<3.1.0,>=3.0.2 in /usr/local/lib/python3.10/dist-packages (from spacy>=3.8.2->spacypdfreader) (3.0.9)\n",
            "Requirement already satisfied: thinc<8.4.0,>=8.3.0 in /usr/local/lib/python3.10/dist-packages (from spacy>=3.8.2->spacypdfreader) (8.3.2)\n",
            "Requirement already satisfied: wasabi<1.2.0,>=0.9.1 in /usr/local/lib/python3.10/dist-packages (from spacy>=3.8.2->spacypdfreader) (1.1.3)\n",
            "Requirement already satisfied: srsly<3.0.0,>=2.4.3 in /usr/local/lib/python3.10/dist-packages (from spacy>=3.8.2->spacypdfreader) (2.4.8)\n",
            "Requirement already satisfied: catalogue<2.1.0,>=2.0.6 in /usr/local/lib/python3.10/dist-packages (from spacy>=3.8.2->spacypdfreader) (2.0.10)\n",
            "Requirement already satisfied: weasel<0.5.0,>=0.1.0 in /usr/local/lib/python3.10/dist-packages (from spacy>=3.8.2->spacypdfreader) (0.4.1)\n",
            "Requirement already satisfied: typer<1.0.0,>=0.3.0 in /usr/local/lib/python3.10/dist-packages (from spacy>=3.8.2->spacypdfreader) (0.13.0)\n",
            "Requirement already satisfied: tqdm<5.0.0,>=4.38.0 in /usr/local/lib/python3.10/dist-packages (from spacy>=3.8.2->spacypdfreader) (4.66.6)\n",
            "Requirement already satisfied: requests<3.0.0,>=2.13.0 in /usr/local/lib/python3.10/dist-packages (from spacy>=3.8.2->spacypdfreader) (2.32.3)\n",
            "Requirement already satisfied: pydantic!=1.8,!=1.8.1,<3.0.0,>=1.7.4 in /usr/local/lib/python3.10/dist-packages (from spacy>=3.8.2->spacypdfreader) (2.9.2)\n",
            "Requirement already satisfied: jinja2 in /usr/local/lib/python3.10/dist-packages (from spacy>=3.8.2->spacypdfreader) (3.1.4)\n",
            "Requirement already satisfied: setuptools in /usr/local/lib/python3.10/dist-packages (from spacy>=3.8.2->spacypdfreader) (75.1.0)\n",
            "Requirement already satisfied: langcodes<4.0.0,>=3.2.0 in /usr/local/lib/python3.10/dist-packages (from spacy>=3.8.2->spacypdfreader) (3.4.1)\n",
            "Requirement already satisfied: numpy>=1.19.0 in /usr/local/lib/python3.10/dist-packages (from spacy>=3.8.2->spacypdfreader) (2.0.2)\n",
            "Requirement already satisfied: cffi>=1.12 in /usr/local/lib/python3.10/dist-packages (from cryptography>=36.0.0->pdfminer-six>=20240706->spacypdfreader) (1.17.1)\n",
            "Requirement already satisfied: language-data>=1.2 in /usr/local/lib/python3.10/dist-packages (from langcodes<4.0.0,>=3.2.0->spacy>=3.8.2->spacypdfreader) (1.2.0)\n",
            "Requirement already satisfied: mdurl~=0.1 in /usr/local/lib/python3.10/dist-packages (from markdown-it-py>=2.2.0->rich>=13.9.2->spacypdfreader) (0.1.2)\n",
            "Requirement already satisfied: annotated-types>=0.6.0 in /usr/local/lib/python3.10/dist-packages (from pydantic!=1.8,!=1.8.1,<3.0.0,>=1.7.4->spacy>=3.8.2->spacypdfreader) (0.7.0)\n",
            "Requirement already satisfied: pydantic-core==2.23.4 in /usr/local/lib/python3.10/dist-packages (from pydantic!=1.8,!=1.8.1,<3.0.0,>=1.7.4->spacy>=3.8.2->spacypdfreader) (2.23.4)\n",
            "Requirement already satisfied: idna<4,>=2.5 in /usr/local/lib/python3.10/dist-packages (from requests<3.0.0,>=2.13.0->spacy>=3.8.2->spacypdfreader) (3.10)\n",
            "Requirement already satisfied: urllib3<3,>=1.21.1 in /usr/local/lib/python3.10/dist-packages (from requests<3.0.0,>=2.13.0->spacy>=3.8.2->spacypdfreader) (2.2.3)\n",
            "Requirement already satisfied: certifi>=2017.4.17 in /usr/local/lib/python3.10/dist-packages (from requests<3.0.0,>=2.13.0->spacy>=3.8.2->spacypdfreader) (2024.8.30)\n",
            "Requirement already satisfied: blis<1.1.0,>=1.0.0 in /usr/local/lib/python3.10/dist-packages (from thinc<8.4.0,>=8.3.0->spacy>=3.8.2->spacypdfreader) (1.0.1)\n",
            "Requirement already satisfied: confection<1.0.0,>=0.0.1 in /usr/local/lib/python3.10/dist-packages (from thinc<8.4.0,>=8.3.0->spacy>=3.8.2->spacypdfreader) (0.1.5)\n",
            "Requirement already satisfied: click>=8.0.0 in /usr/local/lib/python3.10/dist-packages (from typer<1.0.0,>=0.3.0->spacy>=3.8.2->spacypdfreader) (8.1.7)\n",
            "Requirement already satisfied: shellingham>=1.3.0 in /usr/local/lib/python3.10/dist-packages (from typer<1.0.0,>=0.3.0->spacy>=3.8.2->spacypdfreader) (1.5.4)\n",
            "Requirement already satisfied: cloudpathlib<1.0.0,>=0.7.0 in /usr/local/lib/python3.10/dist-packages (from weasel<0.5.0,>=0.1.0->spacy>=3.8.2->spacypdfreader) (0.20.0)\n",
            "Requirement already satisfied: smart-open<8.0.0,>=5.2.1 in /usr/local/lib/python3.10/dist-packages (from weasel<0.5.0,>=0.1.0->spacy>=3.8.2->spacypdfreader) (7.0.5)\n",
            "Requirement already satisfied: MarkupSafe>=2.0 in /usr/local/lib/python3.10/dist-packages (from jinja2->spacy>=3.8.2->spacypdfreader) (3.0.2)\n",
            "Requirement already satisfied: pycparser in /usr/local/lib/python3.10/dist-packages (from cffi>=1.12->cryptography>=36.0.0->pdfminer-six>=20240706->spacypdfreader) (2.22)\n",
            "Requirement already satisfied: marisa-trie>=0.7.7 in /usr/local/lib/python3.10/dist-packages (from language-data>=1.2->langcodes<4.0.0,>=3.2.0->spacy>=3.8.2->spacypdfreader) (1.2.1)\n",
            "Requirement already satisfied: wrapt in /usr/local/lib/python3.10/dist-packages (from smart-open<8.0.0,>=5.2.1->weasel<0.5.0,>=0.1.0->spacy>=3.8.2->spacypdfreader) (1.16.0)\n",
            "Downloading pytesseract-0.3.13-py3-none-any.whl (14 kB)\n",
            "Installing collected packages: pytesseract\n",
            "Successfully installed pytesseract-0.3.13\n"
          ]
        }
      ]
    },
    {
      "cell_type": "markdown",
      "source": [
        "### spacypdfreader\n",
        "\n",
        "`spacypdfreader` is a Python library that allows you to convert PDF files directly into spaCy Doc objects.\n",
        "\n",
        "https://spacy.io/universe/project/spacypdfreader\n",
        "\n",
        "The library provides several built in parsers or bring your own parser. Doc objects are annotated with several custom attributes including: token._.page_number, doc._.page_range, doc._.first_page, doc._.last_page, doc._.pdf_file_name, and doc._.page(int)."
      ],
      "metadata": {
        "id": "o_3GvBBsiqBU"
      }
    },
    {
      "cell_type": "code",
      "source": [
        "import spacy\n",
        "from spacypdfreader.spacypdfreader import pdf_reader\n",
        "\n",
        "nlp = spacy.load('en_core_web_sm')\n",
        "doc = pdf_reader('intel_q1_2024_earnings.pdf', nlp)\n",
        "\n",
        "# Get the page number of any token.\n",
        "print(doc[0]._.page_number)  # 1\n",
        "print(doc[-1]._.page_number) # 14\n",
        "\n",
        "# Get page meta data about the PDF document.\n",
        "print(doc._.pdf_file_name)   # 'intel_q1_2024_earnings.pdf'\n",
        "print(doc._.page_range)      # (1, 14)\n",
        "print(doc._.first_page)      # 1\n",
        "print(doc._.last_page)       # 14\n",
        "\n",
        "# Get all of the text from a specific PDF page.\n",
        "print(doc._.page(4))"
      ],
      "metadata": {
        "id": "_9Tm3uvKiSy7",
        "outputId": "d004f13b-04fb-408a-bd3b-b9fd306aaf08",
        "colab": {
          "base_uri": "https://localhost:8080/"
        }
      },
      "execution_count": 8,
      "outputs": [
        {
          "output_type": "stream",
          "name": "stderr",
          "text": [
            "/usr/local/lib/python3.10/dist-packages/spacy/util.py:910: UserWarning: [W095] Model 'en_core_web_sm' (3.7.1) was trained with spaCy v3.7.2 and may not be 100% compatible with the current version (3.8.2). If you see errors or degraded performance, download a newer compatible model or retrain your custom model with the current spaCy version. For more details and available updates, run: python -m spacy validate\n",
            "  warnings.warn(warn_msg)\n"
          ]
        },
        {
          "output_type": "stream",
          "name": "stdout",
          "text": [
            "1\n",
            "14\n",
            "intel_q1_2024_earnings.pdf\n",
            "(1, 14)\n",
            "1\n",
            "14\n",
            "Intel/Page 4\n",
            "\n",
            "•\n",
            "\n",
            "•\n",
            "\n",
            "•\n",
            "\n",
            "•\n",
            "\n",
            "•\n",
            "\n",
            "•\n",
            "\n",
            "•\n",
            "\n",
            "•\n",
            "•\n",
            "\n",
            "•\n",
            "\n",
            "•\n",
            "\n",
            "•\n",
            "\n",
            "•\n",
            "\n",
            "•\n",
            "\n",
            "•\n",
            "\n",
            "•\n",
            "\n",
            "•\n",
            "\n",
            "•\n",
            "\n",
            "•\n",
            "\n",
            "•\n",
            "\n",
            "•\n",
            "\n",
            "•\n",
            "\n",
            "•\n",
            "\n",
            "our business plans and strategy and anticipated benefits therefrom, including with respect to our IDM 2.0 \n",
            "strategy, Smart Capital strategy, partnership with Brookfield, internal foundry model, updated reporting structure, \n",
            "and AI strategy;\n",
            "\n",
            "projections of our future financial performance, including future revenue, gross margins, capital expenditures, \n",
            "and cash flows;\n",
            "\n",
            "projected costs and yield trends;\n",
            "\n",
            "future cash requirements, the availability, uses, sufficiency, and cost of capital resources, and sources of \n",
            "funding, including for future capital and R&D investments and for returns to stockholders, such as stock \n",
            "repurchases and dividends, and credit ratings expectations;\n",
            "\n",
            "future products, services, and technologies, and the expected goals, timeline, ramps, progress, availability, \n",
            "production, regulation, and benefits of such products, services, and technologies, including future process \n",
            "nodes and packaging technology, product roadmaps, schedules, future product architectures, expectations \n",
            "regarding process performance, per-watt parity, and metrics, and expectations regarding product and process \n",
            "leadership;\n",
            "\n",
            "investment plans and impacts of investment plans, including in the US and abroad; \n",
            "\n",
            "internal and external manufacturing plans, including future internal manufacturing volumes, manufacturing \n",
            "expansion plans and the financing therefor, and external foundry usage;\n",
            "\n",
            "future production capacity and product supply;\n",
            "supply expectations, including regarding constraints, limitations, pricing, and industry shortages;\n",
            "\n",
            "plans and goals related to Intel's foundry business, including with respect to anticipated customers, future \n",
            "manufacturing capacity and service, technology, and IP offerings; \n",
            "\n",
            "expected timing and impact of acquisitions, divestitures, and other significant transactions, including the sale of \n",
            "our NAND memory business;\n",
            "\n",
            "expected completion and impacts of restructuring activities and cost-saving or efficiency initiatives;\n",
            "\n",
            "future social and environmental performance goals, measures, strategies, and results;\n",
            "\n",
            "our anticipated growth, future market share, and trends in our businesses and operations;\n",
            "\n",
            "projected growth and trends in markets relevant to our businesses;\n",
            "\n",
            "anticipated trends and impacts related to industry component, substrate, and foundry capacity utilization, \n",
            "shortages, and constraints; \n",
            "\n",
            "expectations regarding government incentives; \n",
            "\n",
            "future technology trends and developments, such as AI;\n",
            "\n",
            "future macro environmental and economic conditions;\n",
            "\n",
            "geopolitical tensions and conflicts and their potential impact on our business;\n",
            "\n",
            "tax- and accounting-related expectations;\n",
            "\n",
            "expectations regarding our relationships with certain sanctioned parties; and\n",
            "\n",
            "other characterizations of future events or circumstances.\n",
            "\n",
            "Such statements involve many risks and uncertainties that could cause our actual results to differ materially from \n",
            "those expressed or implied, including those associated with:\n",
            "\n",
            "•\n",
            "\n",
            "•\n",
            "\n",
            "•\n",
            "\n",
            "•\n",
            "\n",
            "•\n",
            "\n",
            "•\n",
            "\n",
            "the high level of competition and rapid technological change in our industry;\n",
            "\n",
            "the significant long-term and inherently risky investments we are making in R&D and manufacturing facilities \n",
            "that may not realize a favorable return; \n",
            "\n",
            "the complexities and uncertainties in developing and implementing new semiconductor products and \n",
            "manufacturing process technologies;\n",
            "\n",
            "our ability to time and scale our capital investments appropriately and successfully secure favorable alternative \n",
            "financing arrangements and government grants;\n",
            "implementing new business strategies and investing in new businesses and technologies;\n",
            "\n",
            "changes in demand for our products;\n",
            "\n",
            "\f\n"
          ]
        }
      ]
    },
    {
      "cell_type": "code",
      "source": [],
      "metadata": {
        "id": "GMB1T6MpkVgE"
      },
      "execution_count": null,
      "outputs": []
    }
  ]
}