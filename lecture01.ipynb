{
  "nbformat": 4,
  "nbformat_minor": 0,
  "metadata": {
    "colab": {
      "provenance": [],
      "authorship_tag": "ABX9TyNgw3kvxw4+ilmomypIHpcC",
      "include_colab_link": true
    },
    "kernelspec": {
      "name": "python3",
      "display_name": "Python 3"
    },
    "language_info": {
      "name": "python"
    }
  },
  "cells": [
    {
      "cell_type": "markdown",
      "metadata": {
        "id": "view-in-github",
        "colab_type": "text"
      },
      "source": [
        "<a href=\"https://colab.research.google.com/github/UniVR-DH/ADHLab/blob/main/lecture01.ipynb\" target=\"_parent\"><img src=\"https://colab.research.google.com/assets/colab-badge.svg\" alt=\"Open In Colab\"/></a>"
      ]
    },
    {
      "cell_type": "markdown",
      "source": [
        "# Testing Wikipedia Python APIs to create a document collection"
      ],
      "metadata": {
        "id": "4MNB7PsQ99Bx"
      }
    },
    {
      "cell_type": "code",
      "source": [
        "# %pip install wikipedia-api"
      ],
      "metadata": {
        "id": "pmOC8TtR5Wm5"
      },
      "execution_count": null,
      "outputs": []
    },
    {
      "cell_type": "code",
      "source": [
        "import wikipediaapi\n",
        "wapi_html = wikipediaapi.Wikipedia('MyProjectName (name@studenti.univr.it)',\n",
        "                              'en',\n",
        "                              extract_format=wikipediaapi.ExtractFormat.HTML)\n",
        "\n",
        "wapi_text = wikipediaapi.Wikipedia('MyProjectName (name@studenti.univr.it)',\n",
        "                                   'en',\n",
        "                                   extract_format=wikipediaapi.ExtractFormat.WIKI)"
      ],
      "metadata": {
        "id": "f2ymnwhM7PGX"
      },
      "execution_count": 1,
      "outputs": []
    },
    {
      "cell_type": "code",
      "source": [
        "train_pages = ['New York City', 'Rome', 'Buenos Aires', 'Beijing', 'Budapest', 'Canberra']\n",
        "test_pages = ['Addis Ababa', 'Berlin']\n",
        "languages = set(['als','en', 'es', 'fo', 'fr', 'da','de', 'hu', 'pl', 'pt', 'ru', 'nl', 'nov'])"
      ],
      "metadata": {
        "id": "dBmBbb925bLa"
      },
      "execution_count": 10,
      "outputs": []
    },
    {
      "cell_type": "code",
      "source": [
        "page_py = wapi_text.page('New York City')\n",
        "print(\"Page - Exists: %s\" % page_py.exists())\n",
        "#print(page_py.text)\n",
        "print(langlinks.keys())"
      ],
      "metadata": {
        "colab": {
          "base_uri": "https://localhost:8080/"
        },
        "id": "9peoLRdX5yfJ",
        "outputId": "e1daaba5-dedd-43b9-e256-9638be0e4aaa"
      },
      "execution_count": 11,
      "outputs": [
        {
          "output_type": "stream",
          "name": "stdout",
          "text": [
            "Page - Exists: True\n",
            "dict_keys(['af', 'als', 'am', 'an', 'ang', 'ar', 'arc', 'ary', 'arz', 'as', 'ast', 'awa', 'ay', 'az', 'azb', 'ba', 'ban', 'bar', 'bat-smg', 'bcl', 'be', 'be-x-old', 'bg', 'bh', 'bi', 'bjn', 'bm', 'bn', 'bo', 'br', 'bs', 'bug', 'bxr', 'ca', 'cbk-zam', 'cdo', 'ce', 'ceb', 'ch', 'ckb', 'co', 'crh', 'cs', 'cu', 'cv', 'cy', 'da', 'dag', 'de', 'diq', 'dsb', 'dty', 'ee', 'el', 'eml', 'eo', 'es', 'et', 'eu', 'ext', 'fa', 'fi', 'fiu-vro', 'fj', 'fo', 'fr', 'frp', 'frr', 'fur', 'fy', 'ga', 'gag', 'gan', 'gcr', 'gd', 'gl', 'glk', 'gn', 'got', 'gu', 'gv', 'ha', 'hak', 'he', 'hi', 'hif', 'hr', 'hsb', 'ht', 'hu', 'hy', 'hyw', 'ia', 'id', 'ie', 'ig', 'ik', 'ilo', 'inh', 'io', 'is', 'it', 'ja', 'jam', 'jbo', 'jv', 'ka', 'kaa', 'kab', 'kbp', 'ki', 'kk', 'km', 'kn', 'ko', 'krc', 'ks', 'ku', 'kw', 'ky', 'la', 'lad', 'lb', 'lez', 'lfn', 'li', 'lij', 'lld', 'lmo', 'ln', 'lo', 'lt', 'lv', 'mai', 'map-bms', 'mdf', 'mg', 'mhr', 'mi', 'min', 'mk', 'ml', 'mn', 'mr', 'mrj', 'ms', 'mt', 'mwl', 'my', 'myv', 'mzn', 'nap', 'nds', 'nds-nl', 'ne', 'new', 'nl', 'nn', 'nb', 'nov', 'nrm', 'nso', 'nv', 'ny', 'oc', 'olo', 'os', 'pa', 'pam', 'pap', 'pcd', 'pdc', 'pfl', 'pih', 'pl', 'pms', 'pnb', 'ps', 'pt', 'qu', 'rm', 'rmy', 'ro', 'roa-rup', 'roa-tara', 'ru', 'rue', 'sa', 'sah', 'sat', 'sc', 'scn', 'sco', 'sd', 'sh', 'shi', 'si', 'simple', 'sk', 'sl', 'sm', 'smn', 'so', 'sq', 'sr', 'srn', 'stq', 'su', 'sv', 'sw', 'szl', 'ta', 'te', 'tg', 'th', 'tk', 'tl', 'to', 'tpi', 'tr', 'tt', 'tw', 'ty', 'udm', 'ug', 'uk', 'ur', 'uz', 'vec', 'vep', 'vi', 'vls', 'vo', 'wa', 'war', 'wuu', 'xal', 'xmf', 'yi', 'yo', 'za', 'zea', 'zh', 'zh-classical', 'zh-min-nan', 'zh-yue', 'zu'])\n"
          ]
        }
      ]
    },
    {
      "cell_type": "code",
      "source": [
        "def extract_pairs(_page,languages):\n",
        "  langlinks = _page.langlinks\n",
        "  language_versions = []\n",
        "  for k in sorted(langlinks.keys()):\n",
        "    if k not in languages:\n",
        "      continue\n",
        "    v = langlinks[k]\n",
        "    language_versions.append((v.summary,k))\n",
        "    # print(\"%s: %s - %s: %s - %s\" % (k, v.language, v.title, v.fullurl, v.summary))\n",
        "  return language_versions"
      ],
      "metadata": {
        "id": "X6Uyt142-J2i"
      },
      "execution_count": 31,
      "outputs": []
    },
    {
      "cell_type": "code",
      "source": [
        "training_set = []\n",
        "for page_name in train_pages:\n",
        "  page_py = wapi_text.page('New York City')\n",
        "  training_set.extend(extract_pairs(page_py, languages))\n"
      ],
      "metadata": {
        "id": "eyUUlOh05940"
      },
      "execution_count": 32,
      "outputs": []
    },
    {
      "cell_type": "code",
      "source": [
        "test_set = []\n",
        "for page_name in test_pages:\n",
        "  page_py = wapi_text.page('New York City')\n",
        "  test_set.extend(extract_pairs(page_py, languages))\n"
      ],
      "metadata": {
        "id": "IjtnCUpuFtdy"
      },
      "execution_count": 33,
      "outputs": []
    },
    {
      "cell_type": "code",
      "source": [
        "import gzip\n",
        "import numpy as np"
      ],
      "metadata": {
        "id": "miPm486TF629"
      },
      "execution_count": 22,
      "outputs": []
    },
    {
      "cell_type": "code",
      "source": [
        "training_set=np.array(training_set)\n",
        "test_set=np.array(test_set)\n",
        "for (x1 , real) in test_set:\n",
        "   Cx1 = len(gzip.compress(x1.encode ()))\n",
        "   distance_from_x1 = []\n",
        "   for (x2 , _) in training_set:\n",
        "      Cx2 = len(gzip.compress(x2.encode ()))\n",
        "      x1x2 = \" \".join([x1 , x2])\n",
        "      Cx1x2 = len(gzip.compress(x1x2.encode ()))\n",
        "      ncd = (Cx1x2 - min(Cx1 , Cx2)) / max( Cx1 , Cx2 )\n",
        "      distance_from_x1.append( ncd )\n",
        "   k=5\n",
        "   sorted_idx = np.argsort(np.array(distance_from_x1))\n",
        "   top_k_class = list(training_set[sorted_idx[:k], 1])\n",
        "   predict_class = max(set(top_k_class) , key=top_k_class.count )\n",
        "   print(real, predict_class, x1[:100] )"
      ],
      "metadata": {
        "colab": {
          "base_uri": "https://localhost:8080/"
        },
        "id": "uOmM9Ob46Oda",
        "outputId": "85c9f75a-de02-43c0-d919-b982fd01bcee"
      },
      "execution_count": 47,
      "outputs": [
        {
          "output_type": "stream",
          "name": "stdout",
          "text": [
            "da da New York City (officielt The City of New York og også kendt under tilnavnene \"the Big Apple\", \"Gotha\n",
            "de de New York City (AE: [nuːˈjɔɹk ˈsɪɾi], offiziell City of New York, kurz New York, Abkürzung NYC, deuts\n",
            "es es Nueva York[2]​ (en inglés: New York, pronunciado /nuˈjɔɹk/), oficialmente New York City o por las si\n",
            "fr fr New York (prononcé en anglais : /nu ˈjɔɹk/), officiellement nommée City of New York, connue égalemen\n",
            "hu hu New York az Amerikai Egyesült Államok New York államában fekvő város. Az ország legnépesebb, Amerika\n",
            "nl nl New York is de grootste stad van de Verenigde Staten van Amerika. Dankzij de leidinggevende en invlo\n",
            "nov nov Novi York es li maxim grandi urbe de Unionati States de Amerika (e Nord Amerika).\n",
            "pl pl Nowy Jork (ang. City of New York, również New York, New York City) – miasto w Stanach Zjednoczonych \n",
            "ru ru Нью-Йо́рк (англ. New York City , сокр. NYC) — крупнейший город США, входящий в одну из крупнейших аг\n",
            "da da New York City (officielt The City of New York og også kendt under tilnavnene \"the Big Apple\", \"Gotha\n",
            "de de New York City (AE: [nuːˈjɔɹk ˈsɪɾi], offiziell City of New York, kurz New York, Abkürzung NYC, deuts\n",
            "es es Nueva York[2]​ (en inglés: New York, pronunciado /nuˈjɔɹk/), oficialmente New York City o por las si\n",
            "fr fr New York (prononcé en anglais : /nu ˈjɔɹk/), officiellement nommée City of New York, connue égalemen\n",
            "hu hu New York az Amerikai Egyesült Államok New York államában fekvő város. Az ország legnépesebb, Amerika\n",
            "nl nl New York is de grootste stad van de Verenigde Staten van Amerika. Dankzij de leidinggevende en invlo\n",
            "nov nov Novi York es li maxim grandi urbe de Unionati States de Amerika (e Nord Amerika).\n",
            "pl pl Nowy Jork (ang. City of New York, również New York, New York City) – miasto w Stanach Zjednoczonych \n",
            "ru ru Нью-Йо́рк (англ. New York City , сокр. NYC) — крупнейший город США, входящий в одну из крупнейших аг\n"
          ]
        }
      ]
    },
    {
      "cell_type": "code",
      "source": [],
      "metadata": {
        "id": "H0zT3WDUGFOh"
      },
      "execution_count": null,
      "outputs": []
    }
  ]
}