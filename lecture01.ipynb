{
  "nbformat": 4,
  "nbformat_minor": 0,
  "metadata": {
    "colab": {
      "provenance": [],
      "include_colab_link": true
    },
    "kernelspec": {
      "name": "python3",
      "display_name": "Python 3"
    },
    "language_info": {
      "name": "python"
    }
  },
  "cells": [
    {
      "cell_type": "markdown",
      "metadata": {
        "id": "view-in-github",
        "colab_type": "text"
      },
      "source": [
        "<a href=\"https://colab.research.google.com/github/UniVR-DH/ADHLab/blob/main/lecture01.ipynb\" target=\"_parent\"><img src=\"https://colab.research.google.com/assets/colab-badge.svg\" alt=\"Open In Colab\"/></a>"
      ]
    },
    {
      "cell_type": "markdown",
      "source": [
        "# Crawling with Beautifulsoup4 and  Wikipedia Python APIs to create a document collection\n",
        "\n",
        "<img src=\"https://drive.google.com/uc?export=view&id=1m_EMdnI5C826kgqK7r5vB4TXnB0-Wq7W\" alt=\"Intestazione con loghi istituzionali\" width=\"525\"/>\n",
        "\n",
        "| Docente      | Insegnamento | Anno Accademico    |\n",
        "| :---        |    :----   |          ---: |\n",
        "| Matteo Lissandrini      | Laboratorio Avanzato di Informatica Umanistica       | 2023/2024   |"
      ],
      "metadata": {
        "id": "4MNB7PsQ99Bx"
      }
    },
    {
      "cell_type": "markdown",
      "source": [
        "### Installing additional packages"
      ],
      "metadata": {
        "id": "0iPoLBUQPSsc"
      }
    },
    {
      "cell_type": "code",
      "source": [
        "%pip install wikipedia-api\n",
        "%pip install beautifulsoup4"
      ],
      "metadata": {
        "id": "pmOC8TtR5Wm5",
        "colab": {
          "base_uri": "https://localhost:8080/"
        },
        "outputId": "982811f3-fae7-4cbb-df15-f475429420f3"
      },
      "execution_count": 1,
      "outputs": [
        {
          "output_type": "stream",
          "name": "stdout",
          "text": [
            "Requirement already satisfied: wikipedia-api in /usr/local/lib/python3.10/dist-packages (0.6.0)\n",
            "Requirement already satisfied: requests in /usr/local/lib/python3.10/dist-packages (from wikipedia-api) (2.31.0)\n",
            "Requirement already satisfied: charset-normalizer<4,>=2 in /usr/local/lib/python3.10/dist-packages (from requests->wikipedia-api) (3.3.2)\n",
            "Requirement already satisfied: idna<4,>=2.5 in /usr/local/lib/python3.10/dist-packages (from requests->wikipedia-api) (3.4)\n",
            "Requirement already satisfied: urllib3<3,>=1.21.1 in /usr/local/lib/python3.10/dist-packages (from requests->wikipedia-api) (2.0.7)\n",
            "Requirement already satisfied: certifi>=2017.4.17 in /usr/local/lib/python3.10/dist-packages (from requests->wikipedia-api) (2023.7.22)\n",
            "Requirement already satisfied: beautifulsoup4 in /usr/local/lib/python3.10/dist-packages (4.11.2)\n",
            "Requirement already satisfied: soupsieve>1.2 in /usr/local/lib/python3.10/dist-packages (from beautifulsoup4) (2.5)\n"
          ]
        }
      ]
    },
    {
      "cell_type": "markdown",
      "source": [
        "### Importing some basic required packages"
      ],
      "metadata": {
        "id": "M1Fok_kRPbQm"
      }
    },
    {
      "cell_type": "code",
      "source": [
        "import gzip\n",
        "import string\n",
        "import numpy as np\n",
        "import requests\n",
        "import regex as re"
      ],
      "metadata": {
        "id": "miPm486TF629"
      },
      "execution_count": 2,
      "outputs": []
    },
    {
      "cell_type": "markdown",
      "source": [
        "### Crawling content with Beautifulsoup4\n",
        "#### Select a webpage, download its content, parse the HTML to extract the text"
      ],
      "metadata": {
        "id": "oZhJyAA7U5B0"
      }
    },
    {
      "cell_type": "code",
      "source": [
        "from bs4 import BeautifulSoup\n",
        "\n",
        "page = requests.get('https://en.wikipedia.org/wiki/New_York_City')\n",
        "\n",
        "# Create a BeautifulSoup object\n",
        "soup = BeautifulSoup(page.text, 'html.parser')\n",
        "\n",
        "# Pull text from all instances of <p> tag within BodyText div\n",
        "all_p_items = soup.find(class_='mw-body').find_all('p')\n",
        "print(len(all_p_items))\n",
        "print(all_p_items[0])\n",
        "print(all_p_items[0].get_text())\n",
        "print('    ----    ')\n",
        "print(all_p_items[1])\n",
        "print(all_p_items[1].get_text())"
      ],
      "metadata": {
        "colab": {
          "base_uri": "https://localhost:8080/"
        },
        "id": "5NC2R7f5PtwM",
        "outputId": "e7d28809-d26d-45b0-8e58-d176e74b4e5f"
      },
      "execution_count": 26,
      "outputs": [
        {
          "output_type": "stream",
          "name": "stdout",
          "text": [
            "161\n",
            "<p class=\"mw-empty-elt\">\n",
            "</p>\n",
            "\n",
            "\n",
            "    ----    \n",
            "<p><b>New York</b>, often called <b>New York City</b><sup class=\"reference\" id=\"cite_ref-12\"><a href=\"#cite_note-12\">[b]</a></sup> or simply <b>NYC</b>, is the <a href=\"/wiki/List_of_United_States_cities_by_population\" title=\"List of United States cities by population\">most populous city</a> in the <a href=\"/wiki/United_States\" title=\"United States\">United States</a>. With a population of 8,804,190 distributed over 300.46 square miles (778.2 km<sup>2</sup>) in 2020, the city is the <a href=\"/wiki/List_of_United_States_cities_by_population_density\" title=\"List of United States cities by population density\">most densely populated</a> major city in the United States. NYC is more than twice as populous as <a href=\"/wiki/Los_Angeles\" title=\"Los Angeles\">Los Angeles</a>, the nation's second-most populous city. New York City is at the southern tip of <a href=\"/wiki/New_York_(state)\" title=\"New York (state)\">New York State</a> and is situated on <a href=\"/wiki/New_York_Harbor\" title=\"New York Harbor\">one of the world's largest natural harbors</a>. The city comprises <a href=\"/wiki/Boroughs_of_New_York_City\" title=\"Boroughs of New York City\">five boroughs</a>, each of which is coextensive with a respective <a href=\"/wiki/List_of_counties_in_New_York\" title=\"List of counties in New York\">county</a>. The five boroughs, which were created in 1898 when local governments were <a href=\"/wiki/City_of_Greater_New_York\" title=\"City of Greater New York\">consolidated</a> into a single municipality, are: <a href=\"/wiki/Brooklyn\" title=\"Brooklyn\">Brooklyn</a> (Kings County), <a href=\"/wiki/Queens\" title=\"Queens\">Queens</a> (Queens County), <a href=\"/wiki/Manhattan\" title=\"Manhattan\">Manhattan</a> (New York County), <a href=\"/wiki/The_Bronx\" title=\"The Bronx\">the Bronx</a> (Bronx County), and <a href=\"/wiki/Staten_Island\" title=\"Staten Island\">Staten Island</a> (Richmond County).<sup class=\"reference\" id=\"cite_ref-13\"><a href=\"#cite_note-13\">[11]</a></sup> New York City is a <a href=\"/wiki/Global_city\" title=\"Global city\">global city</a> and a <a href=\"/wiki/Culture_of_New_York_City\" title=\"Culture of New York City\">cultural</a>, <a href=\"/wiki/Economy_of_New_York_City\" title=\"Economy of New York City\">financial</a>, <a class=\"mw-redirect\" href=\"/wiki/High-tech\" title=\"High-tech\">high-tech</a>,<sup class=\"reference\" id=\"cite_ref-NewYorkCityDestinationNumberOneTechHub_14-0\"><a href=\"#cite_note-NewYorkCityDestinationNumberOneTechHub-14\">[12]</a></sup> <a href=\"/wiki/The_Entertainment_Capital_of_the_World\" title=\"The Entertainment Capital of the World\">entertainment</a>, and <a href=\"/wiki/Media_in_New_York_City\" title=\"Media in New York City\">media</a> center with a significant influence on commerce, <a href=\"/wiki/Healthcare_in_New_York_City\" title=\"Healthcare in New York City\">health care</a> and <a href=\"/wiki/List_of_cities_by_scientific_output#Leading_cities_in_different_fields\" title=\"List of cities by scientific output\">scientific output</a> in <a href=\"/wiki/List_of_biotech_and_pharmaceutical_companies_in_the_New_York_metropolitan_area\" title=\"List of biotech and pharmaceutical companies in the New York metropolitan area\">life sciences</a>,<sup class=\"reference\" id=\"cite_ref-NYCLifeSciencesCapital_15-0\"><a href=\"#cite_note-NYCLifeSciencesCapital-15\">[13]</a></sup><sup class=\"reference\" id=\"cite_ref-NYCHealthCareLifeSciences_16-0\"><a href=\"#cite_note-NYCHealthCareLifeSciences-16\">[14]</a></sup> research, technology, <a href=\"/wiki/Education_in_New_York_City\" title=\"Education in New York City\">education</a>, <a href=\"/wiki/Politics_of_New_York_City\" title=\"Politics of New York City\">politics</a>, <a href=\"/wiki/Tourism_in_New_York_City\" title=\"Tourism in New York City\">tourism</a>, <a href=\"/wiki/Cuisine_of_New_York_City\" title=\"Cuisine of New York City\">dining</a>, art, <a href=\"/wiki/Fashion_capital\" title=\"Fashion capital\">fashion</a>, and <a class=\"mw-redirect\" href=\"/wiki/Sports_in_New_York_City\" title=\"Sports in New York City\">sports</a>. Home to the <a href=\"/wiki/Headquarters_of_the_United_Nations\" title=\"Headquarters of the United Nations\">headquarters of the United Nations</a>, New York is an important center for <a href=\"/wiki/Diplomacy\" title=\"Diplomacy\">international diplomacy</a>,<sup class=\"reference\" id=\"cite_ref-17\"><a href=\"#cite_note-17\">[15]</a></sup><sup class=\"reference\" id=\"cite_ref-18\"><a href=\"#cite_note-18\">[16]</a></sup> and it is sometimes described as the world's most important city<sup class=\"reference\" id=\"cite_ref-NYCWorld'sMostImportantCity2_19-0\"><a href=\"#cite_note-NYCWorld'sMostImportantCity2-19\">[17]</a></sup> and the capital of the world.<sup class=\"reference\" id=\"cite_ref-NYCTheCapitaloftheWorld_20-0\"><a href=\"#cite_note-NYCTheCapitaloftheWorld-20\">[18]</a></sup><sup class=\"reference\" id=\"cite_ref-NewYorkCapitaloftheWorld2_21-0\"><a href=\"#cite_note-NewYorkCapitaloftheWorld2-21\">[19]</a></sup>\n",
            "</p>\n",
            "New York, often called New York City[b] or simply NYC, is the most populous city in the United States. With a population of 8,804,190 distributed over 300.46 square miles (778.2 km2) in 2020, the city is the most densely populated major city in the United States. NYC is more than twice as populous as Los Angeles, the nation's second-most populous city. New York City is at the southern tip of New York State and is situated on one of the world's largest natural harbors. The city comprises five boroughs, each of which is coextensive with a respective county. The five boroughs, which were created in 1898 when local governments were consolidated into a single municipality, are: Brooklyn (Kings County), Queens (Queens County), Manhattan (New York County), the Bronx (Bronx County), and Staten Island (Richmond County).[11] New York City is a global city and a cultural, financial, high-tech,[12] entertainment, and media center with a significant influence on commerce, health care and scientific output in life sciences,[13][14] research, technology, education, politics, tourism, dining, art, fashion, and sports. Home to the headquarters of the United Nations, New York is an important center for international diplomacy,[15][16] and it is sometimes described as the world's most important city[17] and the capital of the world.[18][19]\n",
            "\n"
          ]
        }
      ]
    },
    {
      "cell_type": "code",
      "source": [
        "punct_regex = re.compile('[{}]'.format(re.escape(string.punctuation))) # Regex matching any punctuation\n",
        "space_regex = re.compile(' +') # Regex matching whitespace\n",
        "\n",
        "text = punct_regex.sub(' ', soup.find(class_='mw-body').get_text())\n",
        "text = space_regex.sub(' ', text).lower()  # convert to lowercase\n",
        "lines = [\n",
        "    line.strip()\n",
        "    for line in text.split(\"\\n\")\n",
        "    if line.strip() != \"\" # Skip empty lines\n",
        "]\n",
        "# Store lines\n",
        "print(len(lines))\n",
        "print(lines[0])\n",
        "print(lines[1])\n",
        "print(lines[1290])"
      ],
      "metadata": {
        "colab": {
          "base_uri": "https://localhost:8080/"
        },
        "id": "tJjalkcaSYyY",
        "outputId": "4a1342a8-5cce-4c7d-9328-1bb7e99b6b19"
      },
      "execution_count": 25,
      "outputs": [
        {
          "output_type": "stream",
          "name": "stdout",
          "text": [
            "2940\n",
            "toggle the table of contents\n",
            "new york city\n",
            "['new york often called new york city b or simply nyc is the most populous city in the united states with a population of 8 804 190 distributed over 300 46 square miles 778 2\\xa0km2 in 2020 the city is the most densely populated major city in the united states nyc is more than twice as populous as los angeles the nation s second most populous city new york city is at the southern tip of new york state and is situated on one of the world s largest natural harbors the city comprises five boroughs each of which is coextensive with a respective county the five boroughs which were created in 1898 when local governments were consolidated into a single municipality are brooklyn kings county queens queens county manhattan new york county the bronx bronx county and staten island richmond county 11 new york city is a global city and a cultural financial high tech 12 entertainment and media center with a significant influence on commerce health care and scientific output in life sciences 13 14 research technology education politics tourism dining art fashion and sports home to the headquarters of the united nations new york is an important center for international diplomacy 15 16 and it is sometimes described as the world s most important city 17 and the capital of the world 18 19']\n",
            "consulate general of iceland new york culture consulate general of iceland new york archived from the original on february 5 2013 retrieved july 23 2023\n"
          ]
        }
      ]
    },
    {
      "cell_type": "code",
      "source": [
        "######\n",
        "# TODO: Open the wikipedia page for New York, select a sentence, can you find at which line it appears?\n",
        "######\n",
        "\n",
        "\n",
        "\n",
        "\n",
        "\n"
      ],
      "metadata": {
        "id": "UQFpTUapUG07"
      },
      "execution_count": null,
      "outputs": []
    },
    {
      "cell_type": "code",
      "source": [
        "######\n",
        "# TODO: Complete the code,\n",
        "#   a) split a line in single words, compute word frequency\n",
        "#   b) compute word frequency of all words across all lines\n",
        "#\n",
        "# Try out: https://docs.python.org/3/library/collections.html#collections.Counter\n",
        "#\n",
        "######\n",
        "\n",
        "print(len(lines[1290].split(' ')))\n",
        "words = set( w for w in lines[1290].split(' '))\n",
        "print(len(words))\n",
        "print(words)\n"
      ],
      "metadata": {
        "id": "Gi4hqd9sinL2",
        "outputId": "913dc0a9-6f19-4058-88f0-a7c2a8e80616",
        "colab": {
          "base_uri": "https://localhost:8080/"
        }
      },
      "execution_count": 86,
      "outputs": [
        {
          "output_type": "stream",
          "name": "stdout",
          "text": [
            "25\n",
            "19\n",
            "{'culture', 'general', 'on', '2013', 'the', '23', 'original', 'consulate', 'iceland', 'february', 'archived', 'new', 'retrieved', '5', 'july', 'york', 'from', 'of', '2023'}\n"
          ]
        }
      ]
    },
    {
      "cell_type": "markdown",
      "source": [
        "#### Accessing Links in the page"
      ],
      "metadata": {
        "id": "1F_ewMNEVA2_"
      }
    },
    {
      "cell_type": "code",
      "source": [
        "all_a_items = soup.find(class_='mw-body').find_all('a')\n",
        "print(len(all_a_items))\n",
        "for a in all_a_items:\n",
        "  href = a.get('href')\n",
        "  if href is not None and href.startswith('/wiki/') :\n",
        "    print(href)"
      ],
      "metadata": {
        "id": "oZgJPxHhQ9F7"
      },
      "execution_count": null,
      "outputs": []
    },
    {
      "cell_type": "code",
      "source": [
        "######\n",
        "# TODO: Create a dictionary of /wiki/ links, and count how many times they appear in the page, which are the top-5 most frequent links?\n",
        "######\n",
        "\n",
        "\n",
        "\n"
      ],
      "metadata": {
        "id": "h1-fH47yRtkI"
      },
      "execution_count": null,
      "outputs": []
    },
    {
      "cell_type": "code",
      "source": [
        "######\n",
        "# TODO: Pick the most frequent /wiki/ link from the above dictionary,\n",
        "# download its page content and extract all links,\n",
        "# do you find links in common ?\n",
        "######\n",
        "\n",
        "\n"
      ],
      "metadata": {
        "id": "x7UTbGzLUd4p"
      },
      "execution_count": null,
      "outputs": []
    },
    {
      "cell_type": "markdown",
      "source": [
        "### Extract content from Wikipedia with the Wikipedia APIs"
      ],
      "metadata": {
        "id": "nkAYwP-5U0rU"
      }
    },
    {
      "cell_type": "code",
      "source": [
        "import wikipediaapi\n",
        "## EDIT Down There: put your name and email for the Wikipedia logs\n",
        "wapi_text = wikipediaapi.Wikipedia('MyProjectName (name@studenti.univr.it)',\n",
        "                                   'en',\n",
        "                                   extract_format=wikipediaapi.ExtractFormat.WIKI)"
      ],
      "metadata": {
        "id": "f2ymnwhM7PGX"
      },
      "execution_count": 29,
      "outputs": []
    },
    {
      "cell_type": "code",
      "source": [
        "page_py = wapi_text.page('New York City')\n",
        "print(\"Page - Exists: {}\".format( page_py.exists()))\n",
        "print(len(page_py.summary))\n",
        "print(len(page_py.text))\n",
        "print(len(page_py.langlinks))\n",
        "print(len(page_py.links))"
      ],
      "metadata": {
        "colab": {
          "base_uri": "https://localhost:8080/"
        },
        "id": "9peoLRdX5yfJ",
        "outputId": "e044b75f-ff3b-4b27-d574-5ef51f968c52"
      },
      "execution_count": 30,
      "outputs": [
        {
          "output_type": "stream",
          "name": "stdout",
          "text": [
            "Page - Exists: True\n",
            "5150\n",
            "92129\n",
            "247\n",
            "2648\n"
          ]
        }
      ]
    },
    {
      "cell_type": "code",
      "source": [
        "print(page_py.summary[:140])\n",
        "print(\"   ---   \")\n",
        "print(page_py.text[-140:])\n",
        "print(\"   ---   \")\n",
        "print(sorted(page_py.langlinks.keys()))\n",
        "print(\"   ---   \")\n",
        "page_py_it = page_py.langlinks['it']\n",
        "print(page_py_it.summary[:140])"
      ],
      "metadata": {
        "colab": {
          "base_uri": "https://localhost:8080/"
        },
        "id": "pK-HhvuAOBXJ",
        "outputId": "731196fd-63d8-4b44-bb4c-90e1855fc58a"
      },
      "execution_count": 33,
      "outputs": [
        {
          "output_type": "stream",
          "name": "stdout",
          "text": [
            "New York, often called New York City or simply NYC, is the most populous city in the United States. With a population of 8,804,190 distribut\n",
            "   ---   \n",
            " 145,000 NYC photographs at the Museum of the City of New York\n",
            "\"The New New York Skyline (interactive)\". National Geographic. November 2015.\n",
            "   ---   \n",
            "['af', 'als', 'am', 'an', 'ang', 'ar', 'arc', 'ary', 'arz', 'as', 'ast', 'awa', 'ay', 'az', 'azb', 'ba', 'ban', 'bar', 'bat-smg', 'bcl', 'be', 'be-x-old', 'bg', 'bh', 'bi', 'bjn', 'bm', 'bn', 'bo', 'br', 'bs', 'bug', 'bxr', 'ca', 'cbk-zam', 'cdo', 'ce', 'ceb', 'ch', 'ckb', 'co', 'crh', 'cs', 'cu', 'cv', 'cy', 'da', 'dag', 'de', 'diq', 'dsb', 'dty', 'ee', 'el', 'eml', 'eo', 'es', 'et', 'eu', 'ext', 'fa', 'fi', 'fiu-vro', 'fj', 'fo', 'fr', 'frp', 'frr', 'fur', 'fy', 'ga', 'gag', 'gan', 'gcr', 'gd', 'gl', 'glk', 'gn', 'got', 'gu', 'gv', 'ha', 'hak', 'he', 'hi', 'hif', 'hr', 'hsb', 'ht', 'hu', 'hy', 'hyw', 'ia', 'id', 'ie', 'ig', 'ik', 'ilo', 'inh', 'io', 'is', 'it', 'ja', 'jam', 'jbo', 'jv', 'ka', 'kaa', 'kab', 'kbp', 'ki', 'kk', 'km', 'kn', 'ko', 'krc', 'ks', 'ku', 'kw', 'ky', 'la', 'lad', 'lb', 'lez', 'lfn', 'li', 'lij', 'lld', 'lmo', 'ln', 'lo', 'lt', 'lv', 'mai', 'map-bms', 'mdf', 'mg', 'mhr', 'mi', 'min', 'mk', 'ml', 'mn', 'mr', 'mrj', 'ms', 'mt', 'mwl', 'my', 'myv', 'mzn', 'nap', 'nb', 'nds', 'nds-nl', 'ne', 'new', 'nl', 'nn', 'nov', 'nrm', 'nso', 'nv', 'ny', 'oc', 'olo', 'os', 'pa', 'pam', 'pap', 'pcd', 'pdc', 'pfl', 'pih', 'pl', 'pms', 'pnb', 'ps', 'pt', 'qu', 'rm', 'rmy', 'ro', 'roa-rup', 'roa-tara', 'ru', 'rue', 'sa', 'sah', 'sat', 'sc', 'scn', 'sco', 'sd', 'sh', 'shi', 'si', 'simple', 'sk', 'sl', 'sm', 'smn', 'so', 'sq', 'sr', 'srn', 'stq', 'su', 'sv', 'sw', 'szl', 'ta', 'te', 'tg', 'th', 'tk', 'tl', 'to', 'tpi', 'tr', 'tt', 'tw', 'ty', 'udm', 'ug', 'uk', 'ur', 'uz', 'vec', 'vep', 'vi', 'vls', 'vo', 'wa', 'war', 'wuu', 'xal', 'xmf', 'yi', 'yo', 'za', 'zea', 'zh', 'zh-classical', 'zh-min-nan', 'zh-yue', 'zu']\n",
            "   ---   \n",
            "New York (AFI: /njuˈjɔrk/, in inglese americano /nuːˈjɔɹk/), spesso chiamata New York City per distinguerla dallo stato omonimo, e in italia\n"
          ]
        }
      ]
    },
    {
      "cell_type": "code",
      "source": [
        "links = page_py.links\n",
        "for title in sorted(links.keys()):\n",
        "    if len(title) > 4 : # filter on title length to reduce output\n",
        "      continue\n",
        "    print(\"{}\".format(title))"
      ],
      "metadata": {
        "colab": {
          "base_uri": "https://localhost:8080/"
        },
        "id": "DmrRNRqTOcRL",
        "outputId": "ded2a16e-6d03-4025-ff38-5d0fe89dcbb0"
      },
      "execution_count": 42,
      "outputs": [
        {
          "output_type": "stream",
          "name": "stdout",
          "text": [
            "2000\n",
            "AOL\n",
            "CNBC\n",
            "CNN\n",
            "GDP\n",
            "Gang\n",
            "Jazz\n",
            "Jews\n",
            "Kyiv\n",
            "Lima\n",
            "Logo\n",
            "Lyon\n",
            "MSN\n",
            "NOAA\n",
            "NPR\n",
            "NYC\n",
            "Oslo\n",
            "PBS\n",
            "Port\n",
            "Rome\n",
            "Sic\n",
            "WNET\n",
            "WNYC\n"
          ]
        }
      ]
    },
    {
      "cell_type": "code",
      "source": [
        "test_pages = ['Addis Ababa',  'Tom Sawyer', 'Johannes Gutenberg']"
      ],
      "metadata": {
        "id": "dBmBbb925bLa"
      },
      "execution_count": 35,
      "outputs": []
    },
    {
      "cell_type": "code",
      "source": [
        "from urllib.parse import quote\n",
        "\n",
        "page_queue = [ wapi_text.page(tp) for  tp in test_pages ]\n",
        "page_stored = {}\n",
        "page_visited = set()\n",
        "max_iterations = 50\n",
        "\n",
        "while len(page_queue) > 0 and max_iterations > 0:\n",
        "  _page = page_queue.pop()\n",
        "\n",
        "\n",
        "    page_stored[_page.fullurl] = _page.summary\n",
        "\n",
        "    page_visited.add(_page.fullurl)\n",
        "\n",
        "    print(max_iterations, _page.title, _page.fullurl)\n",
        "    max_iterations = max_iterations - 1\n",
        "\n",
        "    for next_page in _page.links.values():\n",
        "      try:\n",
        "        if len(next_page.title) < 6 and len(next_page.title) > 13:\n",
        "          continue # skip this page\n",
        "\n",
        "        if ':' in next_page.title :\n",
        "          continue\n",
        "\n",
        "        if _page.fullurl in page_visited:\n",
        "          continue # skip this page\n",
        "\n",
        "        # otherwise\n",
        "        page_queue.append(next_page)\n",
        "      except:\n",
        "        print(\"Error retrieving\", _page.title)\n",
        "\n",
        "\n",
        "print(len(page_stored))\n",
        "print(page_stored.keys())"
      ],
      "metadata": {
        "colab": {
          "base_uri": "https://localhost:8080/"
        },
        "id": "fQSrh1c2Vp-C",
        "outputId": "3ca73da8-fdb2-4f00-eda2-992aaa2d22c2"
      },
      "execution_count": 87,
      "outputs": [
        {
          "output_type": "stream",
          "name": "stdout",
          "text": [
            "50 Johannes Gutenberg https://en.wikipedia.org/wiki/Johannes_Gutenberg\n",
            "49 Tom Sawyer https://en.wikipedia.org/wiki/Tom_Sawyer\n",
            "48 Addis Ababa https://en.wikipedia.org/wiki/Addis_Ababa\n",
            "3\n",
            "dict_keys(['https://en.wikipedia.org/wiki/Johannes_Gutenberg', 'https://en.wikipedia.org/wiki/Tom_Sawyer', 'https://en.wikipedia.org/wiki/Addis_Ababa'])\n"
          ]
        }
      ]
    },
    {
      "cell_type": "code",
      "source": [
        "page_stored['https://en.wikipedia.org/wiki/Victoria_Falls_Airport']"
      ],
      "metadata": {
        "id": "WiWiNnsliV0L",
        "outputId": "a617141d-63be-4553-9434-5b464c233c42",
        "colab": {
          "base_uri": "https://localhost:8080/",
          "height": 54
        }
      },
      "execution_count": 83,
      "outputs": [
        {
          "output_type": "execute_result",
          "data": {
            "text/plain": [
              "'Victoria Falls Airport (IATA: VFA, ICAO: FVFA) is an international airport serving the Victoria Falls tourism industry, and is 18 kilometres (11 mi) south of the town of Victoria Falls, Zimbabwe.'"
            ],
            "application/vnd.google.colaboratory.intrinsic+json": {
              "type": "string"
            }
          },
          "metadata": {},
          "execution_count": 83
        }
      ]
    },
    {
      "cell_type": "markdown",
      "source": [
        "#### The following declaration extract unparsed HTML instead of already parsed text"
      ],
      "metadata": {
        "id": "DLpeEL5_VyYw"
      }
    },
    {
      "cell_type": "code",
      "source": [
        "wapi_html = wikipediaapi.Wikipedia('MyProjectName (name@studenti.univr.it)',\n",
        "                              'en',\n",
        "                              extract_format=wikipediaapi.ExtractFormat.HTML)\n",
        "page_py = wapi_text.page('New York City')\n",
        "print(\"Page - Exists: {}\".format( page_py.exists()))\n",
        "print(len(page_py.summary))\n"
      ],
      "metadata": {
        "id": "OW8WNKmAUOKM",
        "colab": {
          "base_uri": "https://localhost:8080/",
          "height": 254
        },
        "outputId": "7b5ec517-ff45-4210-88ce-a328564ee0a7"
      },
      "execution_count": 28,
      "outputs": [
        {
          "output_type": "error",
          "ename": "NameError",
          "evalue": "ignored",
          "traceback": [
            "\u001b[0;31m---------------------------------------------------------------------------\u001b[0m",
            "\u001b[0;31mNameError\u001b[0m                                 Traceback (most recent call last)",
            "\u001b[0;32m<ipython-input-28-1014c5b03873>\u001b[0m in \u001b[0;36m<cell line: 1>\u001b[0;34m()\u001b[0m\n\u001b[0;32m----> 1\u001b[0;31m wapi_html = wikipediaapi.Wikipedia('MyProjectName (name@studenti.univr.it)',\n\u001b[0m\u001b[1;32m      2\u001b[0m                               \u001b[0;34m'en'\u001b[0m\u001b[0;34m,\u001b[0m\u001b[0;34m\u001b[0m\u001b[0;34m\u001b[0m\u001b[0m\n\u001b[1;32m      3\u001b[0m                               extract_format=wikipediaapi.ExtractFormat.HTML)\n\u001b[1;32m      4\u001b[0m \u001b[0mpage_py\u001b[0m \u001b[0;34m=\u001b[0m \u001b[0mwapi_text\u001b[0m\u001b[0;34m.\u001b[0m\u001b[0mpage\u001b[0m\u001b[0;34m(\u001b[0m\u001b[0;34m'New York City'\u001b[0m\u001b[0;34m)\u001b[0m\u001b[0;34m\u001b[0m\u001b[0;34m\u001b[0m\u001b[0m\n\u001b[1;32m      5\u001b[0m \u001b[0mprint\u001b[0m\u001b[0;34m(\u001b[0m\u001b[0;34m\"Page - Exists: {}\"\u001b[0m\u001b[0;34m.\u001b[0m\u001b[0mformat\u001b[0m\u001b[0;34m(\u001b[0m \u001b[0mpage_py\u001b[0m\u001b[0;34m.\u001b[0m\u001b[0mexists\u001b[0m\u001b[0;34m(\u001b[0m\u001b[0;34m)\u001b[0m\u001b[0;34m)\u001b[0m\u001b[0;34m)\u001b[0m\u001b[0;34m\u001b[0m\u001b[0;34m\u001b[0m\u001b[0m\n",
            "\u001b[0;31mNameError\u001b[0m: name 'wikipediaapi' is not defined"
          ]
        }
      ]
    },
    {
      "cell_type": "code",
      "source": [],
      "metadata": {
        "id": "Y5H2bN1dV2nq"
      },
      "execution_count": null,
      "outputs": []
    }
  ]
}