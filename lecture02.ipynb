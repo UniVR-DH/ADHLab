{
  "nbformat": 4,
  "nbformat_minor": 0,
  "metadata": {
    "colab": {
      "provenance": [],
      "include_colab_link": true
    },
    "kernelspec": {
      "name": "python3",
      "display_name": "Python 3"
    },
    "language_info": {
      "name": "python"
    }
  },
  "cells": [
    {
      "cell_type": "markdown",
      "metadata": {
        "id": "view-in-github",
        "colab_type": "text"
      },
      "source": [
        "<a href=\"https://colab.research.google.com/github/UniVR-DH/ADHLab/blob/main/lecture02.ipynb\" target=\"_parent\"><img src=\"https://colab.research.google.com/assets/colab-badge.svg\" alt=\"Open In Colab\"/></a>"
      ]
    },
    {
      "cell_type": "markdown",
      "source": [
        "# Testing Wikipedia Python APIs to create a document collection"
      ],
      "metadata": {
        "id": "4MNB7PsQ99Bx"
      }
    },
    {
      "cell_type": "code",
      "source": [
        "# %pip install wikipedia-api"
      ],
      "metadata": {
        "id": "pmOC8TtR5Wm5"
      },
      "execution_count": null,
      "outputs": []
    },
    {
      "cell_type": "code",
      "source": [
        "import gzip\n",
        "import string\n",
        "import numpy as np"
      ],
      "metadata": {
        "id": "miPm486TF629"
      },
      "execution_count": null,
      "outputs": []
    },
    {
      "cell_type": "code",
      "source": [
        "import wikipediaapi\n",
        "wapi_html = wikipediaapi.Wikipedia('MyProjectName (name@studenti.univr.it)',\n",
        "                              'en',\n",
        "                              extract_format=wikipediaapi.ExtractFormat.HTML)\n",
        "\n",
        "wapi_text = wikipediaapi.Wikipedia('MyProjectName (name@studenti.univr.it)',\n",
        "                                   'en',\n",
        "                                   extract_format=wikipediaapi.ExtractFormat.WIKI)"
      ],
      "metadata": {
        "id": "f2ymnwhM7PGX"
      },
      "execution_count": null,
      "outputs": []
    },
    {
      "cell_type": "code",
      "source": [
        "page_py = wapi_text.page('New York City')\n",
        "print(\"Page - Exists: %s\" % page_py.exists())\n",
        "#print(page_py.text)\n",
        "print(langlinks.keys())"
      ],
      "metadata": {
        "colab": {
          "base_uri": "https://localhost:8080/"
        },
        "id": "9peoLRdX5yfJ",
        "outputId": "911cf084-fc91-4d89-f608-7bc37213a2bc"
      },
      "execution_count": null,
      "outputs": [
        {
          "output_type": "stream",
          "name": "stdout",
          "text": [
            "Page - Exists: True\n",
            "dict_keys(['af', 'als', 'am', 'an', 'ang', 'ar', 'arc', 'ary', 'arz', 'as', 'ast', 'awa', 'ay', 'az', 'azb', 'ba', 'ban', 'bar', 'bat-smg', 'bcl', 'be', 'be-x-old', 'bg', 'bh', 'bi', 'bjn', 'bm', 'bn', 'bo', 'br', 'bs', 'bug', 'bxr', 'ca', 'cbk-zam', 'cdo', 'ce', 'ceb', 'ch', 'ckb', 'co', 'crh', 'cs', 'cu', 'cv', 'cy', 'da', 'dag', 'de', 'diq', 'dsb', 'dty', 'ee', 'el', 'eml', 'eo', 'es', 'et', 'eu', 'ext', 'fa', 'fi', 'fiu-vro', 'fj', 'fo', 'fr', 'frp', 'frr', 'fur', 'fy', 'ga', 'gag', 'gan', 'gcr', 'gd', 'gl', 'glk', 'gn', 'got', 'gu', 'gv', 'ha', 'hak', 'he', 'hi', 'hif', 'hr', 'hsb', 'ht', 'hu', 'hy', 'hyw', 'ia', 'id', 'ie', 'ig', 'ik', 'ilo', 'inh', 'io', 'is', 'it', 'ja', 'jam', 'jbo', 'jv', 'ka', 'kaa', 'kab', 'kbp', 'ki', 'kk', 'km', 'kn', 'ko', 'krc', 'ks', 'ku', 'kw', 'ky', 'la', 'lad', 'lb', 'lez', 'lfn', 'li', 'lij', 'lld', 'lmo', 'ln', 'lo', 'lt', 'lv', 'mai', 'map-bms', 'mdf', 'mg', 'mhr', 'mi', 'min', 'mk', 'ml', 'mn', 'mr', 'mrj', 'ms', 'mt', 'mwl', 'my', 'myv', 'mzn', 'nap', 'nds', 'nds-nl', 'ne', 'new', 'nl', 'nn', 'nb', 'nov', 'nrm', 'nso', 'nv', 'ny', 'oc', 'olo', 'os', 'pa', 'pam', 'pap', 'pcd', 'pdc', 'pfl', 'pih', 'pl', 'pms', 'pnb', 'ps', 'pt', 'qu', 'rm', 'rmy', 'ro', 'roa-rup', 'roa-tara', 'ru', 'rue', 'sa', 'sah', 'sat', 'sc', 'scn', 'sco', 'sd', 'sh', 'shi', 'si', 'simple', 'sk', 'sl', 'sm', 'smn', 'so', 'sq', 'sr', 'srn', 'stq', 'su', 'sv', 'sw', 'szl', 'ta', 'te', 'tg', 'th', 'tk', 'tl', 'to', 'tpi', 'tr', 'tt', 'tw', 'ty', 'udm', 'ug', 'uk', 'ur', 'uz', 'vec', 'vep', 'vi', 'vls', 'vo', 'wa', 'war', 'wuu', 'xal', 'xmf', 'yi', 'yo', 'za', 'zea', 'zh', 'zh-classical', 'zh-min-nan', 'zh-yue', 'zu'])\n"
          ]
        }
      ]
    },
    {
      "cell_type": "code",
      "source": [
        "train_pages = ['New York City', 'Rome', 'Berlin', 'Buenos Aires', 'Beijing', 'Budapest', 'Canberra', 'Prague', 'Madrid', 'Moscow', 'Vienna', 'Warsaw', 'Oslo', 'Porto']\n",
        "test_pages = ['Addis Ababa',  'Tom Sawyer', 'Johannes Gutenberg', 'Marcel Proust', 'Google', ' Statoil']\n",
        "languages = set(['als','en', 'es', 'fo', 'fr', 'da','de', 'hu', 'pl', 'pt', 'ru', 'nl', 'nov'])"
      ],
      "metadata": {
        "id": "dBmBbb925bLa"
      },
      "execution_count": null,
      "outputs": []
    },
    {
      "cell_type": "code",
      "source": [
        "def extract_pairs(_page, languages, remove_punct=False):\n",
        "  langlinks = _page.langlinks\n",
        "  language_versions = []\n",
        "\n",
        "  for k in sorted(langlinks.keys()):\n",
        "    if k not in languages:\n",
        "      continue\n",
        "    v = langlinks[k]\n",
        "    page_text = v.summary\n",
        "    if remove_punct:\n",
        "      page_text = page_text.translate(str.maketrans('', '', string.punctuation))\n",
        "\n",
        "    language_versions.append((page_text,k))\n",
        "    # print(\"%s: %s - %s: %s - %s\" % (k, v.language, v.title, v.fullurl, v.summary))\n",
        "  return language_versions"
      ],
      "metadata": {
        "id": "X6Uyt142-J2i"
      },
      "execution_count": null,
      "outputs": []
    },
    {
      "cell_type": "code",
      "source": [
        "training_set = []\n",
        "for page_name in train_pages:\n",
        "  page_py = wapi_text.page(page_name)\n",
        "  training_set.extend(extract_pairs(page_py, languages, True))\n"
      ],
      "metadata": {
        "id": "eyUUlOh05940"
      },
      "execution_count": null,
      "outputs": []
    },
    {
      "cell_type": "code",
      "source": [
        "test_set = []\n",
        "for page_name in test_pages:\n",
        "  page_py = wapi_text.page(page_name)\n",
        "  test_set.extend(extract_pairs(page_py, languages, True))\n"
      ],
      "metadata": {
        "id": "IjtnCUpuFtdy"
      },
      "execution_count": null,
      "outputs": []
    },
    {
      "cell_type": "markdown",
      "source": [
        "Testing the application of\n",
        "[Less is More: Parameter-Free Text Classification with Gzip](https://arxiv.org/pdf/2212.09410.pdf)"
      ],
      "metadata": {
        "id": "5iykQX-IRqCg"
      }
    },
    {
      "cell_type": "code",
      "source": [
        "training_set=np.array(training_set)\n",
        "test_set=np.array(test_set)\n",
        "macro_accuracy = 0\n",
        "micro_accuracy = { l:0 for l in languages}\n",
        "count_l = { l:0 for l in languages}\n",
        "for (x1 , real) in test_set:\n",
        "   Cx1 = len(gzip.compress(x1.encode ()))\n",
        "   distance_from_x1 = []\n",
        "   for (x2 , _) in training_set:\n",
        "      Cx2 = len(gzip.compress(x2.encode ()))\n",
        "      x1x2 = \" \".join([x1 , x2])\n",
        "      Cx1x2 = len(gzip.compress(x1x2.encode ()))\n",
        "      ncd = (Cx1x2 - min(Cx1 , Cx2)) / max( Cx1 , Cx2 )\n",
        "      distance_from_x1.append( ncd )\n",
        "   k=5\n",
        "   sorted_idx = np.argsort(np.array(distance_from_x1))\n",
        "   top_k_class = list(training_set[sorted_idx[:k], 1])\n",
        "   predict_class = max(set(top_k_class) , key=top_k_class.count )\n",
        "   print(real, predict_class, x1[:100] )\n",
        "   count_l[real]+=1\n",
        "   if real == predict_class:\n",
        "    macro_accuracy+=1\n",
        "    micro_accuracy[real]+=1\n",
        "print(\"Macro accuracy\", macro_accuracy/len(test_set))\n",
        "for l in languages:\n",
        "  if count_l[l] > 0:\n",
        "    print(l, count_l[l], micro_accuracy[l]/count_l[l])"
      ],
      "metadata": {
        "colab": {
          "base_uri": "https://localhost:8080/"
        },
        "id": "uOmM9Ob46Oda",
        "outputId": "10b5b01d-5c96-4f37-9672-396c93790182"
      },
      "execution_count": null,
      "outputs": [
        {
          "output_type": "stream",
          "name": "stdout",
          "text": [
            "da da Addis Ababa også Addis Abeba er hovedstad i Etiopien Navnet betyder ny blomst Byen ligger i 2200 til\n",
            "de als Addis Abeba adˈɪs ˈaːbeba auch aˈbeːba auch Addis Ababa amharisch አዲስ ፡ አበባ adˈdiːs ˈaβəβa  umgangss\n",
            "es es Adís Abeba1​2​ del amhárico አዲስ አበባ Ädis Äbäba ‘flor nueva’ adaptado en algunos idiomas como Addis A\n",
            "fo fo Høvuðsstaðurin í Etiopia Addis Abeba amhariskt Āddīs Ābebā er størsti býur í Etiopia Addis Abeba hev\n",
            "fr als AddisAbeba adis‿abeba  en amharique  አዲስ አበባ Addis Abäba adˈdis ˈabəba  « Nouvelle fleur »  en oromo\n",
            "hu hu AddiszAbeba Etiópia egyik külön szövetségi államának is számító fővárosa az Afrikai Unió székhelye A\n",
            "nl nl Addis Abeba Amhaars አዲስ አበባ nieuwe bloem Afaan Oromo Finfinne is de hoofdstad van Ethiopië De stad t\n",
            "pl pl Addis Abeba amh አዲስ አበባ „Nowy Kwiat” – największe miasto i stolica Etiopii Położone jest w centrum k\n",
            "pt pt Adis Abeba em amárico አዲስ አበባ AFI adːiːs aβəβa nova flor em oromo Finfinnee é a capital e a maior ci\n",
            "ru ru Адди́сАбе́ба Finfinnee с оромо — «фонтан с горячей минеральной водой» — столица Эфиопии Население 54\n",
            "es als Tom Sawyer es el personaje principal de la novela de Mark Twain Las aventuras de Tom Sawyer 1876 Apa\n",
            "fr nov Tom Sawyer est un personnage de fiction que Mark Twain a fait apparaître en 1876 dans Les Aventures \n",
            "nl nl Tom Sawyer is een personage bedacht door de Amerikaanse schrijver Mark Twain Het personage maakte zi\n",
            "pl pl Tom Sawyer – postać fikcyjna tytułowy bohater powieści Przygody Tomka Sawyera autorstwa Marka Twaina\n",
            "pt pt Tom Sawyer é o personagem principal dos livros infantis As Aventuras de Tom Sawyer 1876 As Viagens d\n",
            "ru ru То́мас «Том» Со́йер англ Thomas «Tom» Sawyer — один из главных персонажей романов Марка Твена «Прикл\n",
            "als als Dr Johannes Gensfleisch bekannt as Johann Gutenberg  um 1400 z Mainz † 3 Februar 1468 z Mainz zelt a\n",
            "da da Johann Gutenberg født 1394 død 3 februar 1468 født Johannes Gensfleisch zur Laden zum Gutenberg i Ma\n",
            "de de Johannes Gensfleisch genannt Gutenberg  um 1400 in Mainz † vor dem 26 Februar 1468 ebenda gilt als E\n",
            "es es Johannes Gensfleisch zur Laden zum Gutenberg más conocido como Johannes Gutenberg  ˈɡuːtənbɜrɡ1​ o J\n",
            "fr fr Johannes Gensfleisch zur Laden zum Gutenberg dit Johannes Gutenberg ou simplement Gutenberg  on trou\n",
            "hu hu Johannes Gensfleisch zur Laden zum Gutenberg Mainz 1400 k – Mainz 1468 február 3 német ötvösmester f\n",
            "nl nl Johannes Gensfleisch zur Laden zum Gutenberg Mainz ca 1400  aldaar 3 februari 1468 was een Duitse dr\n",
            "pl pl Johannes Gutenberg właśc Johannes Gensfleisch zur Laden zum Gutenberg ur ok 1400 w Moguncji zm 3 lut\n",
            "pt pt Johannes Gensfleisch zur Laden zum Gutenberg ou simplesmente Johannes Gutenberg Mainz c 1400  Mainz \n",
            "ru ru Иога́нн Генсфляйш цур Ладен цум Гу́тенберг нем Johannes Gensfleisch zur Laden zum Gutenberg между 13\n",
            "als als Dr Valentin Louis Georges Eugène Marcel Proust prust  10 Juli 1871 z Auteuil † 18 Novämber 1922 z Ba\n",
            "da da Marcel Proust født 10 juli 1871 død 18 november 1922 var en fransk forfatter\n",
            "Hans hovedværk er På sp\n",
            "de als Valentin Louis Georges Eugène Marcel Proust  10 Juli 1871 in Paris † 18 November 1922 ebenda war ein\n",
            "es es Marcel Proust en francés maʁsɛl pʁust nombre completo Valentin Louis Georges Eugène Marcel Proust Pa\n",
            "fo fo Valentin Louis Georges Eugène Marcel Proust  føddur 10 juli 1871 í Auteuil nærindis París deyður 18 \n",
            "fr fr Marcel Proust né le 10 juillet 1871 à Paris où il est mort le 18 novembre 1922 est un écrivain franç\n",
            "hu pl Valentin Louis Georges Eugene Marcel Proust Párizs 1871 július 10 – Párizs 1922 november 18 francia \n",
            "nl nl Valentin Louis Georges Eugène Marcel Proust Auteuil tegenwoordig deel van Parijs 10 juli 1871 – Pari\n",
            "pl fo Marcel Proust ur 10 lipca 1871 w Paryżu zm 18 listopada 1922 w Paryżu – francuski pisarz autor powie\n",
            "pt pt Valentin Louis Georges Eugène Marcel Proust Auteuil 10 de julho de 1871 – Paris 18 de novembro de 19\n",
            "ru ru Валенте́н Луи́ Жорж Эже́н Марсе́ль Пруст фр Valentin Louis Georges Eugène Marcel Proust 10 июля 1871\n",
            "da da For alternative betydninger se Google søgemaskineGoogle Inc er en amerikansk software og Itvirksomhe\n",
            "de de Google ist ein USamerikanisches Technologieunternehmen tätig in den Bereichen Hard und Softwareentwi\n",
            "es es Google LLC es una empresa de tecnología multinacional estadounidense que se centra en inteligencia a\n",
            "fo fo Google er ein amerikansk leitisíða á internetinum Tað er amerikanska fyritøkan Google Inc ið eigur G\n",
            "fr fr Google LLC ˈguːgəl est une entreprise américaine de services technologiques fondée en 1998 dans la S\n",
            "hu hu A Google NASDAQ GOOG amerikai tőzsdén bejegyzett részvénytársaság amit eredetileg zártkörűen működő \n",
            "nl nl Google LLC is het bedrijf achter onder andere de Googlezoekmachine en is opgericht door Larry Page e\n",
            "pl pl Google LLC dawniej Google Inc – amerykańskie przedsiębiorstwo informatyczne\n",
            "Jego sztandarowym produk\n",
            "pt pt Google LLC pronúncia em inglês ˈguːgɫ̩ é uma empresa multinacional de softwares e serviços online ba\n",
            "ru ru Google LLC МФА ɡuːɡl MWCD ˈgügəl порусски «Гугл» —  транснациональная корпорация из США в составе хо\n",
            "da da Equinor ASA tidligere Statoil ASA er et norsk børsnoteret olie og energiselskab Selskabet er et resu\n",
            "de de Die Equinor ASA bis 2018 Statoil ASA bis 2009 StatoilHydro ASA ist ein börsennotierter Erdöl und Erd\n",
            "es es Equinor Statoil antes de 2018 es una compañía estatal noruega de petróleo establecida en 1972 Mientr\n",
            "fr fr Equinor Asa auparavant Statoil et StatoilHydro est une compagnie dénergie pétrolière et éolienne nor\n",
            "nl nl Equinor ASA is een Noors energiebedrijf Energie wordt gewonnen uit olie gas en wind Forbes plaatste \n",
            "pl pl Equinor ASA do 2018 Statoil ASAdo 2009 StatoilHydro ASA – norweskie przedsiębiorstwo energetyczne kt\n",
            "pt pt A Equinor ASA anteriormente Statoil e StatoilHydro é uma empresa multinacional estatal norueguesa qu\n",
            "ru ru Equinor ASA до 2018 года — Statoil ASA — норвежская международная энергетическая компания Штабкварти\n",
            "Macro accuracy 0.8727272727272727\n",
            "fo 3 1.0\n",
            "de 5 0.6\n",
            "hu 4 0.75\n",
            "nl 6 1.0\n",
            "da 5 1.0\n",
            "pl 6 0.8333333333333334\n",
            "es 6 0.8333333333333334\n",
            "fr 6 0.6666666666666666\n",
            "ru 6 1.0\n",
            "als 2 1.0\n",
            "pt 6 1.0\n"
          ]
        }
      ]
    },
    {
      "cell_type": "code",
      "source": [],
      "metadata": {
        "id": "OW8WNKmAUOKM"
      },
      "execution_count": null,
      "outputs": []
    }
  ]
}